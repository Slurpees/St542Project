{
 "cells": [
  {
   "cell_type": "code",
   "execution_count": 1,
   "id": "7f30a4b6",
   "metadata": {},
   "outputs": [],
   "source": [
    "import pandas as pd\n",
    "import numpy as np\n",
    "\n",
    "# read all the 7 original excel files from the emails \n",
    "\n",
    "path = \"C:/Users/xhoan/OneDrive/Desktop/ST542 Project Datasets from email/\"\n",
    "\n",
    "df1 = pd.read_excel(path + 'Creativity Assessment LSC 101 (Start of the Semester) 2021.Kosal.Kenny.xlsx')\n",
    "df2 = pd.read_excel(path + 'Kennys.sections.Creativity.end of semester.survey.quiz.xlsx')\n",
    "df3 = pd.read_excel(path + 'Creativity Assessment LSC 101 (End of the Semester.kosal.2021.xlsx')\n",
    "df4 = pd.read_excel(path + 'Creativity Assessment LSC 101 (End of the Semester.Kosal.xlsx') # later, it is shown that we will not need this file\n",
    "df5 = pd.read_excel(path + 'Creativity Assessment LSC 101 (End of the Semester.kosal.section12.xlsx') # later, it is shown that we will not need this file\n",
    "\n",
    "df6 = pd.read_excel(path + 'TTCT scores with Fluency.xlsx') # we manually added the \"SA Fluency\" column from the physical non-digital copy\n",
    "df7 = pd.read_excel(path + 'HS GPA.2021.and number match up.xlsx')"
   ]
  },
  {
   "cell_type": "markdown",
   "id": "4f50be76",
   "metadata": {},
   "source": [
    "Cleaning Quiz and Survey Data (so, everything that has to do with df1, df2, df3, df4, df5)"
   ]
  },
  {
   "cell_type": "code",
   "execution_count": 2,
   "id": "099e3c91",
   "metadata": {},
   "outputs": [],
   "source": [
    "# don't keep the row with averages in df1, df2, df3, df5\n",
    "df1 = df1.iloc[:-2][:]\n",
    "df2 = df2.iloc[:-2][:]\n",
    "df3 = df3.iloc[:-2][:] \n",
    "df5 = df5.iloc[:-2][:] \n",
    "\n",
    "# rename \"Score\" column of df4 to match with that of df3\n",
    "df4 = df4.rename(columns={\"Score\": \"Score (out of 15)\"})"
   ]
  },
  {
   "cell_type": "code",
   "execution_count": 3,
   "id": "70d8ca96",
   "metadata": {},
   "outputs": [],
   "source": [
    "# df5 is exactly the same as df3 and every row of df4 was in df3\n",
    "\n",
    "kosal_end = df3\n",
    "\n",
    "#from now on, we will work only with df1, df2, kosal_end to clean the quiz and survey data."
   ]
  },
  {
   "cell_type": "code",
   "execution_count": 4,
   "id": "9997b360",
   "metadata": {},
   "outputs": [],
   "source": [
    "# create a list with those dataset names\n",
    "list_qs = [df1, df2, kosal_end]"
   ]
  },
  {
   "cell_type": "markdown",
   "id": "455050fa",
   "metadata": {},
   "source": [
    "Cleaning df1 dataset"
   ]
  },
  {
   "cell_type": "code",
   "execution_count": 5,
   "id": "79291819",
   "metadata": {},
   "outputs": [],
   "source": [
    "# Check if there is any student ID number that appears more than once in a dataset.\n",
    "# If so, keep only the last row.\n",
    "# It turned out that \"200416174\" appears twice in df1 - so the student took the quiz/survey twice in the beginning of the semester,\n",
    "# and we keep the last submission. \n",
    "\n",
    "for x in list(df1['Student ID number'].unique()):\n",
    "    df_x = df1[df1['Student ID number'] == x]\n",
    "    if df_x.shape[0] != 1:\n",
    "        df1.drop_duplicates(subset=['Student ID number'], keep='last', inplace=True, ignore_index=True)"
   ]
  },
  {
   "cell_type": "code",
   "execution_count": 6,
   "id": "7da4848c",
   "metadata": {},
   "outputs": [
    {
     "data": {
      "text/plain": [
       "Timestamp                                            0\n",
       "First Name                                           0\n",
       "Last Name                                            0\n",
       "Student ID number                                    0\n",
       "LSC 101 Instructor                                   0\n",
       "Intended Major                                       0\n",
       "Zip Code of your Home Address (where you grew up)    0\n",
       "Best Fit for How you Would Describe your Hometown    0\n",
       "To which gender do you most identify?                0\n",
       "Race                                                 0\n",
       "S1_beginning                                         0\n",
       "S2_beginning                                         0\n",
       "S3_beginning                                         0\n",
       "S4_beginning                                         0\n",
       "S5_beginning                                         0\n",
       "S6_beginning                                         0\n",
       "S7_beginning                                         0\n",
       "S8_beginning                                         0\n",
       "S9_beginning                                         0\n",
       "S10_beginning                                        0\n",
       "S11_beginning                                        0\n",
       "S12_beginning                                        0\n",
       "S13_beginning                                        0\n",
       "Q12a_beginning                                       0\n",
       "Q1_beginning                                         0\n",
       "Q2_beginning                                         0\n",
       "Q3_beginning                                         0\n",
       "Q4_beginning                                         0\n",
       "Q5_beginning                                         0\n",
       "Q6_beginning                                         0\n",
       "Q7_beginning                                         0\n",
       "Q8_beginning                                         0\n",
       "Q9_beginning                                         0\n",
       "Q10_beginning                                        0\n",
       "Q11_beginning                                        0\n",
       "dtype: int64"
      ]
     },
     "execution_count": 6,
     "metadata": {},
     "output_type": "execute_result"
    }
   ],
   "source": [
    "# Check if there are any missing values in any column\n",
    "df1.isnull().sum()"
   ]
  },
  {
   "cell_type": "code",
   "execution_count": 7,
   "id": "0f95bf86",
   "metadata": {},
   "outputs": [],
   "source": [
    "# Check the unique values of each column to see for any misalignment; we start first with 'First Name' column\n",
    "\n",
    "# Some first names have an extra space at the end or at the beginning, so we remove it\n",
    "for x in list(df1['First Name'].unique()):\n",
    "    if x[-1] == ' ':  \n",
    "        df1.loc[df1['First Name'] == x, 'First Name'] = x[:-1]\n",
    "    if x[0] == ' ':\n",
    "        df1.loc[df1['First Name'] == x, 'First Name'] = x[1:]\n",
    "        \n",
    "# Same issue with last names\n",
    "for x in list(df1['Last Name'].unique()):\n",
    "    if x[-1] == ' ':  \n",
    "        df1.loc[df1['Last Name'] == x, 'Last Name'] = x[:-1]\n",
    "    if x[0] == ' ':\n",
    "        df1.loc[df1['Last Name'] == x, 'Last Name'] = x[1:]\n",
    "\n",
    "# Convert all the first names and last names to proper case\n",
    "df1[\"First Name\"] = df1[\"First Name\"].str.title()\n",
    "df1[\"Last Name\"] = df1[\"Last Name\"].str.title()"
   ]
  },
  {
   "cell_type": "code",
   "execution_count": 8,
   "id": "e11561ca",
   "metadata": {},
   "outputs": [],
   "source": [
    "# Convert all Student ID numbers into string for easy indexing\n",
    "df1 = df1.astype({\"Student ID number\": str})\n",
    "\n",
    "# Fix the \"weird\" student id numbers such as the one with a missing digit, or the one that was a first name by referring to dataset df3\n",
    "df1.loc[df1['Student ID number'] == '20040939', 'Student ID number'] = '200409390'\n",
    "df1.loc[df1['Student ID number'] == 'Sikuran', 'Student ID number'] ='200394691'"
   ]
  },
  {
   "cell_type": "code",
   "execution_count": 9,
   "id": "028e0e6c",
   "metadata": {},
   "outputs": [],
   "source": [
    "# \"Zip Code\" column in df1 has some weird values\n",
    "\n",
    "# First, convert all zip codes into string for easy indexing\n",
    "df1 = df1.astype({\"Zip Code of your Home Address (where you grew up)\": str})\n",
    "\n",
    "# Fix the \"weird\" values by finding online the zip code that corresponds to the given street address, ... \n",
    "\n",
    "df1.loc[df1['Zip Code of your Home Address (where you grew up)'] == '5316 Teakwood Dr', 'Zip Code of your Home Address (where you grew up)'] = '28083'\n",
    "#df1.loc[df1['Zip Code of your Home Address (where you grew up)'] == '28312/28348', 'Zip Code of your Home Address (where you grew up)'] = ''\n",
    "df1.loc[df1['Zip Code of your Home Address (where you grew up)'] == '30068 (Atlanta, GA)', 'Zip Code of your Home Address (where you grew up)'] = '30068'\n",
    "#df1.loc[df1['Zip Code of your Home Address (where you grew up)'] == '395009', 'Zip Code of your Home Address (where you grew up)'] = ''\n",
    "df1.loc[df1['Zip Code of your Home Address (where you grew up)'] == '14201 Buckton Lane', 'Zip Code of your Home Address (where you grew up)'] = '28105'\n",
    "#df1.loc[df1['Zip Code of your Home Address (where you grew up)'] == '85586 (Germany)', 'Zip Code of your Home Address (where you grew up)'] = ''"
   ]
  },
  {
   "cell_type": "code",
   "execution_count": 10,
   "id": "9e554226",
   "metadata": {},
   "outputs": [
    {
     "name": "stdout",
     "output_type": "stream",
     "text": [
      "There is no student that appears with different ID numbers\n"
     ]
    }
   ],
   "source": [
    "# Check if there is any student that appears more than once with different Student ID numbers\n",
    "\n",
    "df1_name_unique = df1.groupby(['First Name','Last Name'])['Student ID number'].count()\n",
    "if set(list(df1_name_unique)) == {1}:\n",
    "    print(\"There is no student that appears with different ID numbers\")\n",
    "else:\n",
    "    print(\"There are students that appear with different ID numbers\")"
   ]
  },
  {
   "cell_type": "code",
   "execution_count": 11,
   "id": "e3ea4428",
   "metadata": {},
   "outputs": [
    {
     "data": {
      "text/plain": [
       "{'Intended Major': ['Zoology',\n",
       "  'Biology - BS',\n",
       "  'Biochemistry',\n",
       "  'Nutrition',\n",
       "  'Biology - BA',\n",
       "  'Genetics',\n",
       "  'A major outside of science',\n",
       "  'Microbiology',\n",
       "  'Plant Biology'],\n",
       " 'Hometown': ['Small city',\n",
       "  'Rural Area',\n",
       "  'Large city',\n",
       "  'Town',\n",
       "  'Suburb',\n",
       "  'Township',\n",
       "  'Village'],\n",
       " 'Gender': ['Male', 'Female', 'Non-Binary', 'Prefer not to answer'],\n",
       " 'Race': ['Asian',\n",
       "  'Caucasian; White',\n",
       "  'African-American; Black; African',\n",
       "  'Hispanic; Latinx',\n",
       "  'Indian',\n",
       "  'Multiracial',\n",
       "  'Native Hawaiian or Other Pacific Islander']}"
      ]
     },
     "execution_count": 11,
     "metadata": {},
     "output_type": "execute_result"
    }
   ],
   "source": [
    "# Create a dictonary with unique value of some specific columns of df1\n",
    "df1_dict = {'Intended Major': list(df1['Intended Major'].unique()),\n",
    "      'Hometown': list(df1['Best Fit for How you Would Describe your Hometown'].unique()),\n",
    "      'Gender' : list(df1['To which gender do you most identify?'].unique()),\n",
    "      'Race': list(df1['Race'].unique())}\n",
    "\n",
    "df1_dict"
   ]
  },
  {
   "cell_type": "code",
   "execution_count": 12,
   "id": "d2192073",
   "metadata": {},
   "outputs": [],
   "source": [
    "# Convert all answers of survey questions to integer\n",
    "for c in list(df1.columns[10:23]):\n",
    "    df1 = df1.astype({c: int})"
   ]
  },
  {
   "cell_type": "markdown",
   "id": "f72d3497",
   "metadata": {},
   "source": [
    "Cleaning df2 dataset"
   ]
  },
  {
   "cell_type": "code",
   "execution_count": 13,
   "id": "20062620",
   "metadata": {},
   "outputs": [
    {
     "name": "stdout",
     "output_type": "stream",
     "text": [
      "There are students that appear with different ID numbers\n",
      "Last Name\n",
      "Childers    2\n",
      "Cook        2\n",
      "Nguyen      2\n",
      "Wright      2\n",
      "Name: Student ID number, dtype: int64\n",
      "Last Name\n",
      "Smith    3\n",
      "Name: Student ID number, dtype: int64\n"
     ]
    }
   ],
   "source": [
    "# Check if there is any student that appears more than once with different Student ID numbers\n",
    "\n",
    "df2_name_unique = df2.groupby(['Last Name'])['Student ID number'].count()\n",
    "\n",
    "if set(list(df2_name_unique)) == {1}:\n",
    "    print(\"There is no student that appears with different ID numbers\")\n",
    "else:\n",
    "    print(\"There are students that appear with different ID numbers\")\n",
    "\n",
    "# These are the students, whose last name appears more than once and they have different Student ID number\n",
    "for n in set(list(df2_name_unique)):\n",
    "    if n!=1:\n",
    "        print(df2_name_unique[df2_name_unique==n])"
   ]
  },
  {
   "cell_type": "code",
   "execution_count": 14,
   "id": "e0c712bc",
   "metadata": {},
   "outputs": [],
   "source": [
    "# Checked their corresponding data in df1 to see if those cases are by coincidence, or by mistake.\n",
    "#It turned out that some were by coincidence and one by mistake.\n",
    "# Fixing its Student ID number based on corresponding data in df1\n",
    "df2.loc[df2['Student ID number'] == 20003, 'Student ID number'] = '200355513.0'"
   ]
  },
  {
   "cell_type": "code",
   "execution_count": 15,
   "id": "66960cac",
   "metadata": {},
   "outputs": [],
   "source": [
    "# Check if there is any student ID number that appears more than once in a dataset.\n",
    "# If so, keep only the last row.\n",
    "\n",
    "for x in list(df2['Student ID number'].unique()):\n",
    "    df_x = df2[df2['Student ID number'] == x]\n",
    "    if df_x.shape[0] != 1:\n",
    "        df2.drop_duplicates(subset=['Student ID number'], keep='last', inplace=True, ignore_index=True)"
   ]
  },
  {
   "cell_type": "code",
   "execution_count": 16,
   "id": "a9605598",
   "metadata": {},
   "outputs": [
    {
     "data": {
      "text/plain": [
       "Timestamp                                            0\n",
       "Email Address                                        0\n",
       "Score on quiz                                        0\n",
       "possible total of quiz                               0\n",
       "Last Name                                            0\n",
       "Student ID number                                    0\n",
       "Intended Major                                       0\n",
       "Zip Code of your Home Address (where you grew up)    0\n",
       "Best Fit for How you Would Describe your Hometown    0\n",
       "To which gender do you most identify?                0\n",
       "Race                                                 0\n",
       "S1_end                                               0\n",
       "S2_end                                               0\n",
       "S3_end                                               0\n",
       "S4_end                                               0\n",
       "S5_end                                               0\n",
       "S6_end                                               0\n",
       "S7_end                                               0\n",
       "S8_end                                               0\n",
       "S9_end                                               0\n",
       "S10_end                                              0\n",
       "S11_end                                              0\n",
       "S12_end                                              0\n",
       "S13_end                                              0\n",
       "Q12b_end                                             0\n",
       "Q1_end                                               0\n",
       "Q2_ end                                              0\n",
       "Q4_end                                               0\n",
       "Q5_end                                               0\n",
       "Q6_end                                               0\n",
       "Q7_end                                               0\n",
       "Q8_end                                               0\n",
       "Q9_end                                               0\n",
       "Q10_end                                              0\n",
       "Q11_end                                              0\n",
       "Q1_extra_end                                         0\n",
       "Q2_extra_end                                         0\n",
       "Q3_extra_end                                         0\n",
       "Q4_extra_end                                         0\n",
       "Q5_extra_end                                         0\n",
       "dtype: int64"
      ]
     },
     "execution_count": 16,
     "metadata": {},
     "output_type": "execute_result"
    }
   ],
   "source": [
    "# Check if there are any missing values in any column\n",
    "df2.isnull().sum()"
   ]
  },
  {
   "cell_type": "code",
   "execution_count": 17,
   "id": "399186b6",
   "metadata": {},
   "outputs": [],
   "source": [
    "# Check the unique values of each column to see for any misalignment; we start first with 'Last Name' column\n",
    "\n",
    "# Some last names have an extra space at the end, so we remove it\n",
    "for x in list(df2['Last Name'].unique()):\n",
    "    if x[-1] == ' ':  \n",
    "        df2.loc[df2['Last Name'] == x, 'Last Name'] = x[:-1]\n",
    "    if x[0] == ' ':\n",
    "        df2.loc[df2['Last Name'] == x, 'Last Name'] = x[1:]\n",
    "        \n",
    "# Convert all the  last names to proper case\n",
    "df2[\"Last Name\"] = df2[\"Last Name\"].str.title()"
   ]
  },
  {
   "cell_type": "code",
   "execution_count": 18,
   "id": "7008587a",
   "metadata": {},
   "outputs": [
    {
     "name": "stdout",
     "output_type": "stream",
     "text": [
      "7449743329\n",
      "2004\n"
     ]
    }
   ],
   "source": [
    "# Convert all Student ID numbers into string for easy indexing\n",
    "df2 = df2.astype({\"Student ID number\": str})\n",
    "\n",
    "# The ID's were showing as \"200391289.0\", so remove the last 2 characters\n",
    "for x in list(df2['Student ID number'].unique()):\n",
    "    df2.loc[df2['Student ID number'] == x, 'Student ID number'] = x[:-2]\n",
    "\n",
    "# Checking if there is any \"weird\" value\n",
    "for x in list(df2['Student ID number'].unique()):\n",
    "    if len(x)!=9:\n",
    "        print(x)\n",
    "        \n",
    "# Fix the \"weird\" student id numbers such as the one with 5 missing digits, or the one that had an extra digit by the corresponding data in df1\n",
    "df2.loc[df2['Student ID number'] == '7449743329', 'Student ID number'] = '200399223'\n",
    "df2.loc[df2['Student ID number'] == '2004', 'Student ID number'] ='200406241'"
   ]
  },
  {
   "cell_type": "code",
   "execution_count": 19,
   "id": "cf58a9ad",
   "metadata": {},
   "outputs": [
    {
     "data": {
      "text/plain": [
       "[27406,\n",
       " 13219,\n",
       " 27880,\n",
       " 27713,\n",
       " 28315,\n",
       " 18901,\n",
       " 27370,\n",
       " '08055',\n",
       " 22602,\n",
       " 22152,\n",
       " 28327,\n",
       " 29466,\n",
       " 28012,\n",
       " 28374,\n",
       " 28277,\n",
       " 28105,\n",
       " 15241,\n",
       " 28601,\n",
       " 30068,\n",
       " 27587,\n",
       " 60126,\n",
       " 27518,\n",
       " '01516',\n",
       " 28173,\n",
       " 27592,\n",
       " 29445,\n",
       " 27830,\n",
       " '06443',\n",
       " 27284,\n",
       " 27539,\n",
       " 28211,\n",
       " 27522,\n",
       " 27106,\n",
       " 28152,\n",
       " 28020,\n",
       " '07094',\n",
       " '77096, 07950, 27560',\n",
       " 28806,\n",
       " 28376,\n",
       " 27591,\n",
       " 28501,\n",
       " 27312,\n",
       " 23059,\n",
       " 27851,\n",
       " 27253,\n",
       " 28306,\n",
       " 28607,\n",
       " 27012,\n",
       " 27519,\n",
       " 27524,\n",
       " 27376,\n",
       " 27616,\n",
       " 28759,\n",
       " 27249,\n",
       " '612 Fieldstone',\n",
       " 28278,\n",
       " 27410,\n",
       " 28083,\n",
       " 27983,\n",
       " 27298,\n",
       " 27502,\n",
       " 13077,\n",
       " 27530,\n",
       " 28655,\n",
       " 27407,\n",
       " 27040,\n",
       " 28269,\n",
       " 28036,\n",
       " '10514 Greenhead View Rd',\n",
       " 27707,\n",
       " 27610,\n",
       " 27320,\n",
       " 27893,\n",
       " 28539,\n",
       " 27874,\n",
       " 11740,\n",
       " 27511,\n",
       " 2111,\n",
       " 27215,\n",
       " 28144,\n",
       " 27521,\n",
       " '2140w',\n",
       " 49546,\n",
       " 21102,\n",
       " '105 Wild Brook Ct. Cary, NC, 27519',\n",
       " 27603,\n",
       " 27571,\n",
       " 27562,\n",
       " 43015,\n",
       " 27604,\n",
       " 27043,\n",
       " 27540,\n",
       " 28328,\n",
       " 28092,\n",
       " 60564,\n",
       " 28571,\n",
       " 28659,\n",
       " 27263,\n",
       " 27103,\n",
       " 10541,\n",
       " '129 Buckingham Place Rd',\n",
       " 77406,\n",
       " 27527,\n",
       " 27870,\n",
       " 28470,\n",
       " 28352,\n",
       " 14510,\n",
       " '5239 Jessup rd.',\n",
       " 27520,\n",
       " 28043,\n",
       " 20603,\n",
       " 28779,\n",
       " 27403,\n",
       " 27208,\n",
       " 28104,\n",
       " '302 Blackbird Ct',\n",
       " 60439,\n",
       " 23235,\n",
       " 28658,\n",
       " 45069,\n",
       " 28213,\n",
       " 45238,\n",
       " 28645,\n",
       " 28032,\n",
       " 27834,\n",
       " 28527,\n",
       " 28086,\n",
       " 11755,\n",
       " 28379,\n",
       " '1268 Briarcliff Dr, 27205',\n",
       " 21157,\n",
       " 27107,\n",
       " 27358,\n",
       " 27534,\n",
       " 28311]"
      ]
     },
     "execution_count": 19,
     "metadata": {},
     "output_type": "execute_result"
    }
   ],
   "source": [
    "# Scroll the below list to check for any \"weird\" value\n",
    "list(df2['Zip Code of your Home Address (where you grew up)'].unique())"
   ]
  },
  {
   "cell_type": "code",
   "execution_count": 20,
   "id": "ad3c1bc1",
   "metadata": {},
   "outputs": [
    {
     "data": {
      "text/plain": [
       "{'Intended Major': ['Biology - BS',\n",
       "  'Genetics',\n",
       "  'Biology - BA',\n",
       "  'Biochemistry',\n",
       "  'Nutrition',\n",
       "  'A major outside of science',\n",
       "  'Zoology',\n",
       "  'Plant Biology',\n",
       "  'Microbiology'],\n",
       " 'Hometown': ['Small city',\n",
       "  'Suburb',\n",
       "  'Rural Area',\n",
       "  'Large city',\n",
       "  'Town',\n",
       "  'Township',\n",
       "  'Village'],\n",
       " 'Gender': ['Female', 'Male', 'Prefer not to answer', 'Non-Binary'],\n",
       " 'Race': ['Caucasian; White',\n",
       "  'African-American; Black; African',\n",
       "  'Asian',\n",
       "  'Hispanic; Latinx',\n",
       "  'Indian',\n",
       "  'Multiracial']}"
      ]
     },
     "execution_count": 20,
     "metadata": {},
     "output_type": "execute_result"
    }
   ],
   "source": [
    "# Create a dictonary with unique value of some specific columns of df2\n",
    "df2_dict = {'Intended Major': list(df2['Intended Major'].unique()),\n",
    "      'Hometown': list(df2['Best Fit for How you Would Describe your Hometown'].unique()),\n",
    "      'Gender' : list(df2['To which gender do you most identify?'].unique()),\n",
    "      'Race': list(df2['Race'].unique())}\n",
    "\n",
    "df2_dict"
   ]
  },
  {
   "cell_type": "code",
   "execution_count": 21,
   "id": "439eeaec",
   "metadata": {},
   "outputs": [],
   "source": [
    "# Convert all answers of survey questions to integer\n",
    "for c in list(df2.columns[11:24]):\n",
    "    df2 = df2.astype({c: int})"
   ]
  },
  {
   "cell_type": "markdown",
   "id": "62ad028b",
   "metadata": {},
   "source": [
    "Cleaning kosal_end dataset"
   ]
  },
  {
   "cell_type": "code",
   "execution_count": 22,
   "id": "0c7267fe",
   "metadata": {},
   "outputs": [
    {
     "name": "stdout",
     "output_type": "stream",
     "text": [
      "There are students that appear with different ID numbers\n",
      "Last Name\n",
      "Best       2\n",
      "Douglas    2\n",
      "Henry      2\n",
      "Johnson    2\n",
      "Sanchez    2\n",
      "Scott      2\n",
      "Name: Student ID number, dtype: int64\n"
     ]
    }
   ],
   "source": [
    "# Check if there is any student that appears more than once with different Student ID numbers\n",
    "\n",
    "kosal_end_name_unique = kosal_end.groupby(['Last Name'])['Student ID number'].count()\n",
    "\n",
    "if set(list(kosal_end_name_unique)) == {1}:\n",
    "    print(\"There is no student that appears with different ID numbers\")\n",
    "else:\n",
    "    print(\"There are students that appear with different ID numbers\")\n",
    "\n",
    "# These are the students, whose last name appears more than once and they have different Student ID number\n",
    "for n in set(list(kosal_end_name_unique)):\n",
    "    if n!=1:\n",
    "        print(kosal_end_name_unique[kosal_end_name_unique==n])"
   ]
  },
  {
   "cell_type": "code",
   "execution_count": 23,
   "id": "4b737efc",
   "metadata": {},
   "outputs": [],
   "source": [
    "kosal_end.loc[kosal_end['First Name'] == 'Cass', 'First Name'] = 'Cassandra'"
   ]
  },
  {
   "cell_type": "code",
   "execution_count": 24,
   "id": "7f5dbe6d",
   "metadata": {},
   "outputs": [
    {
     "name": "stdout",
     "output_type": "stream",
     "text": [
      "There's no ID that repeats\n"
     ]
    }
   ],
   "source": [
    "# Check if there is any student ID number that appears more than once in a dataset.\n",
    "\n",
    "if len(list(kosal_end['Student ID number'].unique())) == kosal_end.shape[0]:\n",
    "    print(\"There's no ID that repeats\")"
   ]
  },
  {
   "cell_type": "code",
   "execution_count": 25,
   "id": "63cd9699",
   "metadata": {},
   "outputs": [
    {
     "data": {
      "text/plain": [
       "Timestamp                                            0\n",
       "Email Address                                        0\n",
       "Score (out of 15)                                    0\n",
       "First Name                                           0\n",
       "Last Name                                            0\n",
       "Student ID number                                    0\n",
       "Intended Major                                       0\n",
       "Zip Code of your Home Address (where you grew up)    0\n",
       "Best Fit for How you Would Describe your Hometown    0\n",
       "To which gender do you most identify?                0\n",
       "Race                                                 0\n",
       "S1_end                                               0\n",
       "S2_end                                               0\n",
       "S3_end                                               0\n",
       "S4_end                                               0\n",
       "S5_end                                               0\n",
       "S6_end                                               0\n",
       "S7_end                                               0\n",
       "S8_end                                               0\n",
       "S9_end                                               0\n",
       "S10_end                                              0\n",
       "S11_end                                              0\n",
       "S12_end                                              0\n",
       "S13_end                                              0\n",
       "Q12b_end                                             0\n",
       "Q1_end                                               0\n",
       "Q2_ end                                              0\n",
       "Q4_end                                               0\n",
       "Q5_end                                               0\n",
       "Q6_end                                               0\n",
       "Q7_end                                               0\n",
       "Q8_end                                               0\n",
       "Q9_end                                               0\n",
       "Q10_end                                              0\n",
       "Q11_end                                              0\n",
       "Q1_extra_end                                         0\n",
       "Q2_extra_end                                         0\n",
       "Q3_extra_end                                         0\n",
       "Q4_extra_end                                         0\n",
       "Q5_extra_end                                         0\n",
       "dtype: int64"
      ]
     },
     "execution_count": 25,
     "metadata": {},
     "output_type": "execute_result"
    }
   ],
   "source": [
    "# Check if there are any missing values in any column\n",
    "kosal_end.isnull().sum()"
   ]
  },
  {
   "cell_type": "code",
   "execution_count": 26,
   "id": "10507d91",
   "metadata": {},
   "outputs": [],
   "source": [
    "# Check the unique values of each column to see for any misalignment; we start first with 'First Name' column\n",
    "\n",
    "# Some first names have an extra space at the end or at the beginning, so we remove it\n",
    "for x in list(kosal_end['First Name'].unique()):\n",
    "    if x[-1] == ' ':  \n",
    "        kosal_end.loc[kosal_end['First Name'] == x, 'First Name'] = x[:-1]\n",
    "    if x[0] == ' ':\n",
    "        kosal_end.loc[kosal_end['First Name'] == x, 'First Name'] = x[1:]\n",
    "        \n",
    "# Same issue with last names\n",
    "for x in list(kosal_end['Last Name'].unique()):\n",
    "    if x[-1] == ' ':  \n",
    "        kosal_end.loc[kosal_end['Last Name'] == x, 'Last Name'] = x[:-1]\n",
    "    if x[0] == ' ':\n",
    "        kosal_end.loc[kosal_end['Last Name'] == x, 'Last Name'] = x[1:]\n",
    "\n",
    "# Convert all the first names and last names to proper case\n",
    "kosal_end[\"First Name\"] = kosal_end[\"First Name\"].str.title()\n",
    "kosal_end[\"Last Name\"] = kosal_end[\"Last Name\"].str.title()"
   ]
  },
  {
   "cell_type": "code",
   "execution_count": 27,
   "id": "ca7c8718",
   "metadata": {},
   "outputs": [],
   "source": [
    "# Convert all Student ID numbers into string for easy indexing\n",
    "kosal_end = kosal_end.astype({\"Student ID number\": str})\n",
    "\n",
    "# Fix the \"weird\" student id numbers\n",
    "kosal_end.loc[kosal_end['Student ID number'] == 'i dont remember', 'Student ID number'] = '200405114'\n",
    "kosal_end.loc[kosal_end['Student ID number'] == '2003433`4', 'Student ID number'] ='200343314'\n",
    "kosal_end.loc[kosal_end['Student ID number'] == '7449743329', 'Student ID number'] = '200399223'\n",
    "kosal_end.loc[kosal_end['Student ID number'] == '120', 'Student ID number'] = '200412052'\n",
    "kosal_end.loc[kosal_end['Student ID number'] == '1517145', 'Student ID number'] = '200412189'"
   ]
  },
  {
   "cell_type": "code",
   "execution_count": 28,
   "id": "11a97b48",
   "metadata": {},
   "outputs": [
    {
     "name": "stdout",
     "output_type": "stream",
     "text": [
      "There is no student that appears with different ID numbers\n"
     ]
    }
   ],
   "source": [
    "# Check if there is any student that appears more than once with different Student ID numbers\n",
    "\n",
    "kosal_end_name_unique = kosal_end.groupby(['First Name','Last Name'])['Student ID number'].count()\n",
    "if set(list(kosal_end_name_unique)) == {1}:\n",
    "    print(\"There is no student that appears with different ID numbers\")\n",
    "else:\n",
    "    print(\"There are students that appear with different ID numbers\")"
   ]
  },
  {
   "cell_type": "code",
   "execution_count": 29,
   "id": "cc0aec27",
   "metadata": {},
   "outputs": [
    {
     "data": {
      "text/plain": [
       "{'Intended Major': ['Zoology',\n",
       "  'Biology - BS',\n",
       "  'A major outside of science',\n",
       "  'Biochemistry',\n",
       "  'Nutrition',\n",
       "  'Genetics',\n",
       "  'Biology - BA',\n",
       "  'Microbiology',\n",
       "  'Plant Biology'],\n",
       " 'Hometown': ['Small city',\n",
       "  'Town',\n",
       "  'Rural Area',\n",
       "  'Large city',\n",
       "  'Suburb',\n",
       "  'Village',\n",
       "  'Township'],\n",
       " 'Gender': ['Male', 'Female'],\n",
       " 'Race': ['Asian',\n",
       "  'Hispanic; Latinx',\n",
       "  'Caucasian; White',\n",
       "  'African-American; Black; African',\n",
       "  'Indian',\n",
       "  'Multiracial']}"
      ]
     },
     "execution_count": 29,
     "metadata": {},
     "output_type": "execute_result"
    }
   ],
   "source": [
    "# Create a dictonary with unique value of some specific columns of df1\n",
    "kosal_end_dict = {'Intended Major': list(kosal_end['Intended Major'].unique()),\n",
    "      'Hometown': list(kosal_end['Best Fit for How you Would Describe your Hometown'].unique()),\n",
    "      'Gender' : list(kosal_end['To which gender do you most identify?'].unique()),\n",
    "      'Race': list(kosal_end['Race'].unique())}\n",
    "\n",
    "kosal_end_dict"
   ]
  },
  {
   "cell_type": "code",
   "execution_count": 30,
   "id": "5b4c2efd",
   "metadata": {},
   "outputs": [],
   "source": [
    "# Convert all answers of survey questions to integer\n",
    "for c in list(kosal_end.columns[11:24]):\n",
    "    kosal_end = kosal_end.astype({c: int})"
   ]
  },
  {
   "cell_type": "markdown",
   "id": "b5f15191",
   "metadata": {},
   "source": [
    "Cleaning df7 dataset"
   ]
  },
  {
   "cell_type": "code",
   "execution_count": 31,
   "id": "40f94822",
   "metadata": {},
   "outputs": [],
   "source": [
    "df7 = df7.astype({\"Student ID\": str})\n",
    "df7 = df7.iloc[:,0:4]\n",
    "df_gpa_id = df7[df7['Deidentified Number']!='XX']"
   ]
  },
  {
   "cell_type": "markdown",
   "id": "7847b65d",
   "metadata": {},
   "source": [
    "Combining all the datasets to create a cleaned single one"
   ]
  },
  {
   "cell_type": "code",
   "execution_count": 32,
   "id": "07caa3fb",
   "metadata": {},
   "outputs": [],
   "source": [
    "# Dropping columns we don't need\n",
    "\n",
    "df1 = df1[df1.columns[~df1.columns.isin(['Timestamp', 'Zip Code of your Home Address (where you grew up)'])]]\n",
    "df2 = df2[df2.columns[~df2.columns.isin(['Timestamp', 'Email Address','possible total of quiz','Zip Code of your Home Address (where you grew up)'])]]\n",
    "kosal_end = kosal_end[kosal_end.columns[~kosal_end.columns.isin(['Timestamp', 'Email Address','Zip Code of your Home Address (where you grew up)'])]]"
   ]
  },
  {
   "cell_type": "code",
   "execution_count": 33,
   "id": "2d70fb9e",
   "metadata": {},
   "outputs": [],
   "source": [
    "# Specifying the professor in the data of the end of the semester\n",
    "\n",
    "df2['LSC 101 Instructor'] = \"Dr. Kenny Kuo\"\n",
    "kosal_end['LSC 101 Instructor'] = 'Dr. Erica Kosal'"
   ]
  },
  {
   "cell_type": "code",
   "execution_count": 34,
   "id": "fe8fb343",
   "metadata": {},
   "outputs": [],
   "source": [
    "# Find any students that is in both Dr. Kenny data and Dr. Kosal data\n",
    "list1 = list(df2['Student ID number'].unique())\n",
    "list2 = list(kosal_end['Student ID number'].unique())\n",
    "\n",
    "intersection = list(set(list1).intersection(list2))\n",
    "\n",
    "for s in intersection:\n",
    "    kosal_end.drop(kosal_end.loc[kosal_end['Student ID number']==s].index, inplace=True)"
   ]
  },
  {
   "cell_type": "code",
   "execution_count": 35,
   "id": "54c4f4bf",
   "metadata": {},
   "outputs": [],
   "source": [
    "# rename columns so that datasets have the ame column names\n",
    "kosal_end = kosal_end.rename(columns={\"Score (out of 15)\": \"Quiz Score\",'Best Fit for How you Would Describe your Hometown':'Hometown Type','To which gender do you most identify?':'Gender'})\n",
    "df2 = df2.rename(columns={\"Score on quiz\": \"Quiz Score\",'Best Fit for How you Would Describe your Hometown':\"Hometown Type\",'To which gender do you most identify?':'Gender'})\n",
    "df1 = df1.rename(columns={'Best Fit for How you Would Describe your Hometown':\"Hometown Type\",'To which gender do you most identify?':'Gender'})"
   ]
  },
  {
   "cell_type": "code",
   "execution_count": 36,
   "id": "dc6d670f",
   "metadata": {},
   "outputs": [],
   "source": [
    "# Now that we have non-overlapping datasets df2 and kosal_end with same column names, we can combine them\n",
    "\n",
    "kosal_end = kosal_end[kosal_end.columns[~kosal_end.columns.isin(['First Name'])]]\n",
    "                                        \n",
    "data_end = pd.concat([df2, kosal_end])                                        "
   ]
  },
  {
   "cell_type": "code",
   "execution_count": 37,
   "id": "23404ac0",
   "metadata": {},
   "outputs": [],
   "source": [
    "# Unifying the last names for students that appear in df1 and data_end\n",
    "\n",
    "df1.loc[df1['Student ID number'] == '200400013', 'First Name'] = 'Katherine'\n",
    "df1.loc[df1['Student ID number'] == '200400013', 'Last Name'] = 'Angeles Solano'\n",
    "df1.loc[df1['Student ID number'] == '200417044', 'Last Name'] = \"D'Amaro\"\n",
    "df1.loc[df1['Student ID number'] == '200402287', 'Last Name'] = \"Moreland-Holsomback\"\n",
    "df1.loc[df1['Student ID number'] == '200411439', 'Last Name'] = \"Morenomoreno\""
   ]
  },
  {
   "cell_type": "code",
   "execution_count": 38,
   "id": "8db4214d",
   "metadata": {},
   "outputs": [],
   "source": [
    "# Combining all the data about quiz and survey in data_qs dataset\n",
    "data_qs = pd.merge(df1,data_end,on='Student ID number')"
   ]
  },
  {
   "cell_type": "code",
   "execution_count": 39,
   "id": "c185f254",
   "metadata": {},
   "outputs": [],
   "source": [
    "# Fixing the column in data_qs\n",
    "data_qs = data_qs[data_qs.columns[~data_qs.columns.isin(['Last Name_y', 'LSC 101 Instructor_y'])]]"
   ]
  },
  {
   "cell_type": "code",
   "execution_count": 40,
   "id": "c1fb1e24",
   "metadata": {},
   "outputs": [],
   "source": [
    "# Combining data_qs with GPA data\n",
    "df_gpa_id = df_gpa_id.rename(columns={\"Student ID\": \"Student ID number\"})\n",
    "\n",
    "data_qs_gpa = data_qs.merge(df_gpa_id, on='Student ID number', how='left')"
   ]
  },
  {
   "cell_type": "code",
   "execution_count": 41,
   "id": "cca73542",
   "metadata": {},
   "outputs": [],
   "source": [
    "df6 = df6.rename(columns={\"Number\": \"Deidentified Number\"})\n",
    "\n",
    "# Drop some columns since we already have that information \n",
    "df6 = df6[df6.columns[~df6.columns.isin(['IntendedMajor', 'Hometown','Race','Gender'])]]"
   ]
  },
  {
   "cell_type": "code",
   "execution_count": 42,
   "id": "a31ff049",
   "metadata": {},
   "outputs": [],
   "source": [
    "df6 = df6.astype({\"Deidentified Number\": str})\n",
    "data_qs_gpa = data_qs_gpa.astype({\"Deidentified Number\": str})"
   ]
  },
  {
   "cell_type": "code",
   "execution_count": 43,
   "id": "d3dd20bf",
   "metadata": {},
   "outputs": [],
   "source": [
    "# Combining TTCT score with data_qs_gpa\n",
    "df = pd.merge(data_qs_gpa, df6, on='Deidentified Number', how='outer')"
   ]
  },
  {
   "cell_type": "code",
   "execution_count": 44,
   "id": "08de90d3",
   "metadata": {},
   "outputs": [],
   "source": [
    "#df.to_excel(\"C:/Users/xhoan/OneDrive/Desktop/The Single Cleaned Dataset.xlsx\")"
   ]
  },
  {
   "cell_type": "code",
   "execution_count": null,
   "id": "3de76b46",
   "metadata": {},
   "outputs": [],
   "source": []
  },
  {
   "cell_type": "code",
   "execution_count": null,
   "id": "98a19ca3",
   "metadata": {},
   "outputs": [],
   "source": []
  },
  {
   "cell_type": "code",
   "execution_count": null,
   "id": "8c7a1487",
   "metadata": {},
   "outputs": [],
   "source": []
  },
  {
   "cell_type": "code",
   "execution_count": null,
   "id": "80d77f2a",
   "metadata": {},
   "outputs": [],
   "source": []
  },
  {
   "cell_type": "code",
   "execution_count": null,
   "id": "0d503cc0",
   "metadata": {},
   "outputs": [],
   "source": []
  },
  {
   "cell_type": "code",
   "execution_count": null,
   "id": "5a825c1a",
   "metadata": {},
   "outputs": [],
   "source": []
  },
  {
   "cell_type": "code",
   "execution_count": null,
   "id": "76b8e536",
   "metadata": {},
   "outputs": [],
   "source": []
  },
  {
   "cell_type": "code",
   "execution_count": null,
   "id": "8aee4fc7",
   "metadata": {},
   "outputs": [],
   "source": []
  }
 ],
 "metadata": {
  "kernelspec": {
   "display_name": "Python 3 (ipykernel)",
   "language": "python",
   "name": "python3"
  },
  "language_info": {
   "codemirror_mode": {
    "name": "ipython",
    "version": 3
   },
   "file_extension": ".py",
   "mimetype": "text/x-python",
   "name": "python",
   "nbconvert_exporter": "python",
   "pygments_lexer": "ipython3",
   "version": "3.9.7"
  }
 },
 "nbformat": 4,
 "nbformat_minor": 5
}

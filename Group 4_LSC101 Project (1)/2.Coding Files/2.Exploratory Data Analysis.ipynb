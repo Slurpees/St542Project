{
 "cells": [
  {
   "cell_type": "code",
   "execution_count": 1,
   "metadata": {},
   "outputs": [],
   "source": [
    "import pandas as pd\n",
    "import os \n",
    "import duckdb\n",
    "import numpy as np\n",
    "import matplotlib.pyplot as plt\n",
    "import scipy.stats as stats\n",
    "import statsmodels.api as sm\n",
    "import seaborn as sns\n",
    "from researchpy import ttest as rpTtest\n",
    "import researchpy as rp\n",
    "import math"
   ]
  },
  {
   "cell_type": "code",
   "execution_count": 2,
   "metadata": {},
   "outputs": [
    {
     "data": {
      "text/plain": [
       "'/Users/lucyyin/ST542/new'"
      ]
     },
     "execution_count": 2,
     "metadata": {},
     "output_type": "execute_result"
    }
   ],
   "source": [
    "path = os.getcwd() #current path\n",
    "path"
   ]
  },
  {
   "cell_type": "code",
   "execution_count": 3,
   "metadata": {},
   "outputs": [],
   "source": [
    "# read into the data\n",
    "data = pd.read_excel(path + '/3.The Single Clean Dataset.xlsx')\n",
    "data = data.dropna()"
   ]
  },
  {
   "cell_type": "code",
   "execution_count": 4,
   "metadata": {},
   "outputs": [
    {
     "data": {
      "text/html": [
       "<div>\n",
       "<style scoped>\n",
       "    .dataframe tbody tr th:only-of-type {\n",
       "        vertical-align: middle;\n",
       "    }\n",
       "\n",
       "    .dataframe tbody tr th {\n",
       "        vertical-align: top;\n",
       "    }\n",
       "\n",
       "    .dataframe thead th {\n",
       "        text-align: right;\n",
       "    }\n",
       "</style>\n",
       "<table border=\"1\" class=\"dataframe\">\n",
       "  <thead>\n",
       "    <tr style=\"text-align: right;\">\n",
       "      <th></th>\n",
       "      <th>First Name</th>\n",
       "      <th>Last Name</th>\n",
       "      <th>Student ID number</th>\n",
       "      <th>LSC 101 Instructor</th>\n",
       "      <th>Gender</th>\n",
       "      <th>Race</th>\n",
       "      <th>Intended Major_beginning</th>\n",
       "      <th>Intended Major_end</th>\n",
       "      <th>Hometown Type_end</th>\n",
       "      <th>Deidentified Number</th>\n",
       "      <th>...</th>\n",
       "      <th>RSFlexibility</th>\n",
       "      <th>RSOriginality</th>\n",
       "      <th>FluencySA_end</th>\n",
       "      <th>FlexibilitySA_end</th>\n",
       "      <th>OriginalitySA_end</th>\n",
       "      <th>AverageSA_end</th>\n",
       "      <th>RSFluency_end</th>\n",
       "      <th>RSFlexibility_end</th>\n",
       "      <th>RSOriginality_end</th>\n",
       "      <th>Include Student data for Analysis?</th>\n",
       "    </tr>\n",
       "  </thead>\n",
       "  <tbody>\n",
       "    <tr>\n",
       "      <th>0</th>\n",
       "      <td>Bilal</td>\n",
       "      <td>Adam Malik</td>\n",
       "      <td>200398445.0</td>\n",
       "      <td>Dr. Erica Kosal</td>\n",
       "      <td>Male</td>\n",
       "      <td>Asian</td>\n",
       "      <td>Zoology</td>\n",
       "      <td>Zoology</td>\n",
       "      <td>City</td>\n",
       "      <td>1.0</td>\n",
       "      <td>...</td>\n",
       "      <td>44.0</td>\n",
       "      <td>49.0</td>\n",
       "      <td>100.0</td>\n",
       "      <td>122.0</td>\n",
       "      <td>101.0</td>\n",
       "      <td>108.0</td>\n",
       "      <td>89.0</td>\n",
       "      <td>61.0</td>\n",
       "      <td>73.0</td>\n",
       "      <td>Yes</td>\n",
       "    </tr>\n",
       "    <tr>\n",
       "      <th>1</th>\n",
       "      <td>Hifza</td>\n",
       "      <td>Alam</td>\n",
       "      <td>200404629.0</td>\n",
       "      <td>Dr. Kenny Kuo</td>\n",
       "      <td>Female</td>\n",
       "      <td>Asian</td>\n",
       "      <td>Biology - BS</td>\n",
       "      <td>Biology - BS</td>\n",
       "      <td>City</td>\n",
       "      <td>2.0</td>\n",
       "      <td>...</td>\n",
       "      <td>34.0</td>\n",
       "      <td>41.0</td>\n",
       "      <td>92.0</td>\n",
       "      <td>95.0</td>\n",
       "      <td>92.0</td>\n",
       "      <td>93.0</td>\n",
       "      <td>70.0</td>\n",
       "      <td>41.0</td>\n",
       "      <td>55.0</td>\n",
       "      <td>Yes</td>\n",
       "    </tr>\n",
       "    <tr>\n",
       "      <th>2</th>\n",
       "      <td>Ariba</td>\n",
       "      <td>Ali</td>\n",
       "      <td>200404663.0</td>\n",
       "      <td>Dr. Kenny Kuo</td>\n",
       "      <td>Female</td>\n",
       "      <td>Asian</td>\n",
       "      <td>Biology - BS</td>\n",
       "      <td>Biology - BS</td>\n",
       "      <td>City</td>\n",
       "      <td>3.0</td>\n",
       "      <td>...</td>\n",
       "      <td>42.0</td>\n",
       "      <td>65.0</td>\n",
       "      <td>108.0</td>\n",
       "      <td>111.0</td>\n",
       "      <td>106.0</td>\n",
       "      <td>108.0</td>\n",
       "      <td>110.0</td>\n",
       "      <td>54.0</td>\n",
       "      <td>85.0</td>\n",
       "      <td>Yes</td>\n",
       "    </tr>\n",
       "    <tr>\n",
       "      <th>3</th>\n",
       "      <td>Lexie</td>\n",
       "      <td>Allred</td>\n",
       "      <td>200394288.0</td>\n",
       "      <td>Dr. Kenny Kuo</td>\n",
       "      <td>Female</td>\n",
       "      <td>Caucasian; White</td>\n",
       "      <td>Biology - BS</td>\n",
       "      <td>Biology - BS</td>\n",
       "      <td>Rural Area</td>\n",
       "      <td>4.0</td>\n",
       "      <td>...</td>\n",
       "      <td>39.0</td>\n",
       "      <td>45.0</td>\n",
       "      <td>101.0</td>\n",
       "      <td>102.0</td>\n",
       "      <td>93.0</td>\n",
       "      <td>99.0</td>\n",
       "      <td>91.0</td>\n",
       "      <td>46.0</td>\n",
       "      <td>57.0</td>\n",
       "      <td>Yes</td>\n",
       "    </tr>\n",
       "    <tr>\n",
       "      <th>4</th>\n",
       "      <td>Fanuel</td>\n",
       "      <td>Andemariam</td>\n",
       "      <td>200430376.0</td>\n",
       "      <td>Dr. Kenny Kuo</td>\n",
       "      <td>Male</td>\n",
       "      <td>African-American; Black; African</td>\n",
       "      <td>Biochemistry</td>\n",
       "      <td>Biochemistry</td>\n",
       "      <td>City</td>\n",
       "      <td>5.0</td>\n",
       "      <td>...</td>\n",
       "      <td>36.0</td>\n",
       "      <td>48.0</td>\n",
       "      <td>91.0</td>\n",
       "      <td>93.0</td>\n",
       "      <td>90.0</td>\n",
       "      <td>91.0</td>\n",
       "      <td>69.0</td>\n",
       "      <td>40.0</td>\n",
       "      <td>51.0</td>\n",
       "      <td>Yes</td>\n",
       "    </tr>\n",
       "  </tbody>\n",
       "</table>\n",
       "<p>5 rows × 82 columns</p>\n",
       "</div>"
      ],
      "text/plain": [
       "  First Name   Last Name  Student ID number LSC 101 Instructor  Gender  \\\n",
       "0      Bilal  Adam Malik        200398445.0    Dr. Erica Kosal    Male   \n",
       "1      Hifza        Alam        200404629.0      Dr. Kenny Kuo  Female   \n",
       "2      Ariba         Ali        200404663.0      Dr. Kenny Kuo  Female   \n",
       "3      Lexie      Allred        200394288.0      Dr. Kenny Kuo  Female   \n",
       "4     Fanuel  Andemariam        200430376.0      Dr. Kenny Kuo    Male   \n",
       "\n",
       "                               Race Intended Major_beginning  \\\n",
       "0                             Asian                  Zoology   \n",
       "1                             Asian             Biology - BS   \n",
       "2                             Asian             Biology - BS   \n",
       "3                  Caucasian; White             Biology - BS   \n",
       "4  African-American; Black; African             Biochemistry   \n",
       "\n",
       "  Intended Major_end Hometown Type_end  Deidentified Number  ...  \\\n",
       "0            Zoology              City                  1.0  ...   \n",
       "1       Biology - BS              City                  2.0  ...   \n",
       "2       Biology - BS              City                  3.0  ...   \n",
       "3       Biology - BS        Rural Area                  4.0  ...   \n",
       "4       Biochemistry              City                  5.0  ...   \n",
       "\n",
       "   RSFlexibility  RSOriginality  FluencySA_end  FlexibilitySA_end  \\\n",
       "0           44.0           49.0          100.0              122.0   \n",
       "1           34.0           41.0           92.0               95.0   \n",
       "2           42.0           65.0          108.0              111.0   \n",
       "3           39.0           45.0          101.0              102.0   \n",
       "4           36.0           48.0           91.0               93.0   \n",
       "\n",
       "   OriginalitySA_end  AverageSA_end  RSFluency_end  RSFlexibility_end  \\\n",
       "0              101.0          108.0           89.0               61.0   \n",
       "1               92.0           93.0           70.0               41.0   \n",
       "2              106.0          108.0          110.0               54.0   \n",
       "3               93.0           99.0           91.0               46.0   \n",
       "4               90.0           91.0           69.0               40.0   \n",
       "\n",
       "   RSOriginality_end  Include Student data for Analysis?  \n",
       "0               73.0                                 Yes  \n",
       "1               55.0                                 Yes  \n",
       "2               85.0                                 Yes  \n",
       "3               57.0                                 Yes  \n",
       "4               51.0                                 Yes  \n",
       "\n",
       "[5 rows x 82 columns]"
      ]
     },
     "execution_count": 4,
     "metadata": {},
     "output_type": "execute_result"
    }
   ],
   "source": [
    "data.head()"
   ]
  },
  {
   "cell_type": "code",
   "execution_count": 5,
   "metadata": {},
   "outputs": [
    {
     "data": {
      "text/html": [
       "<div>\n",
       "<style scoped>\n",
       "    .dataframe tbody tr th:only-of-type {\n",
       "        vertical-align: middle;\n",
       "    }\n",
       "\n",
       "    .dataframe tbody tr th {\n",
       "        vertical-align: top;\n",
       "    }\n",
       "\n",
       "    .dataframe thead th {\n",
       "        text-align: right;\n",
       "    }\n",
       "</style>\n",
       "<table border=\"1\" class=\"dataframe\">\n",
       "  <thead>\n",
       "    <tr style=\"text-align: right;\">\n",
       "      <th></th>\n",
       "      <th>First Name</th>\n",
       "      <th>Last Name</th>\n",
       "      <th>Student ID number</th>\n",
       "      <th>LSC 101 Instructor</th>\n",
       "      <th>Gender</th>\n",
       "      <th>Race</th>\n",
       "      <th>Intended Major_beginning</th>\n",
       "      <th>Intended Major_end</th>\n",
       "      <th>Hometown Type_end</th>\n",
       "      <th>Deidentified Number</th>\n",
       "      <th>...</th>\n",
       "      <th>OriginalitySA_end</th>\n",
       "      <th>AverageSA_end</th>\n",
       "      <th>RSFluency_end</th>\n",
       "      <th>RSFlexibility_end</th>\n",
       "      <th>RSOriginality_end</th>\n",
       "      <th>Include Student data for Analysis?</th>\n",
       "      <th>average_diff</th>\n",
       "      <th>fluency_diff</th>\n",
       "      <th>flexibility_diff</th>\n",
       "      <th>originality_diff</th>\n",
       "    </tr>\n",
       "  </thead>\n",
       "  <tbody>\n",
       "    <tr>\n",
       "      <th>0</th>\n",
       "      <td>Bilal</td>\n",
       "      <td>Adam Malik</td>\n",
       "      <td>200398445.0</td>\n",
       "      <td>Dr. Erica Kosal</td>\n",
       "      <td>Male</td>\n",
       "      <td>Asian</td>\n",
       "      <td>Zoology</td>\n",
       "      <td>Zoology</td>\n",
       "      <td>City</td>\n",
       "      <td>1.0</td>\n",
       "      <td>...</td>\n",
       "      <td>101.0</td>\n",
       "      <td>108.0</td>\n",
       "      <td>89.0</td>\n",
       "      <td>61.0</td>\n",
       "      <td>73.0</td>\n",
       "      <td>Yes</td>\n",
       "      <td>10.0</td>\n",
       "      <td>0.0</td>\n",
       "      <td>19.0</td>\n",
       "      <td>9.0</td>\n",
       "    </tr>\n",
       "    <tr>\n",
       "      <th>1</th>\n",
       "      <td>Hifza</td>\n",
       "      <td>Alam</td>\n",
       "      <td>200404629.0</td>\n",
       "      <td>Dr. Kenny Kuo</td>\n",
       "      <td>Female</td>\n",
       "      <td>Asian</td>\n",
       "      <td>Biology - BS</td>\n",
       "      <td>Biology - BS</td>\n",
       "      <td>City</td>\n",
       "      <td>2.0</td>\n",
       "      <td>...</td>\n",
       "      <td>92.0</td>\n",
       "      <td>93.0</td>\n",
       "      <td>70.0</td>\n",
       "      <td>41.0</td>\n",
       "      <td>55.0</td>\n",
       "      <td>Yes</td>\n",
       "      <td>16.0</td>\n",
       "      <td>15.0</td>\n",
       "      <td>18.0</td>\n",
       "      <td>14.0</td>\n",
       "    </tr>\n",
       "    <tr>\n",
       "      <th>2</th>\n",
       "      <td>Ariba</td>\n",
       "      <td>Ali</td>\n",
       "      <td>200404663.0</td>\n",
       "      <td>Dr. Kenny Kuo</td>\n",
       "      <td>Female</td>\n",
       "      <td>Asian</td>\n",
       "      <td>Biology - BS</td>\n",
       "      <td>Biology - BS</td>\n",
       "      <td>City</td>\n",
       "      <td>3.0</td>\n",
       "      <td>...</td>\n",
       "      <td>106.0</td>\n",
       "      <td>108.0</td>\n",
       "      <td>110.0</td>\n",
       "      <td>54.0</td>\n",
       "      <td>85.0</td>\n",
       "      <td>Yes</td>\n",
       "      <td>-42.0</td>\n",
       "      <td>-3.0</td>\n",
       "      <td>13.0</td>\n",
       "      <td>0.0</td>\n",
       "    </tr>\n",
       "    <tr>\n",
       "      <th>3</th>\n",
       "      <td>Lexie</td>\n",
       "      <td>Allred</td>\n",
       "      <td>200394288.0</td>\n",
       "      <td>Dr. Kenny Kuo</td>\n",
       "      <td>Female</td>\n",
       "      <td>Caucasian; White</td>\n",
       "      <td>Biology - BS</td>\n",
       "      <td>Biology - BS</td>\n",
       "      <td>Rural Area</td>\n",
       "      <td>4.0</td>\n",
       "      <td>...</td>\n",
       "      <td>93.0</td>\n",
       "      <td>99.0</td>\n",
       "      <td>91.0</td>\n",
       "      <td>46.0</td>\n",
       "      <td>57.0</td>\n",
       "      <td>Yes</td>\n",
       "      <td>8.0</td>\n",
       "      <td>9.0</td>\n",
       "      <td>10.0</td>\n",
       "      <td>5.0</td>\n",
       "    </tr>\n",
       "    <tr>\n",
       "      <th>4</th>\n",
       "      <td>Fanuel</td>\n",
       "      <td>Andemariam</td>\n",
       "      <td>200430376.0</td>\n",
       "      <td>Dr. Kenny Kuo</td>\n",
       "      <td>Male</td>\n",
       "      <td>African-American; Black; African</td>\n",
       "      <td>Biochemistry</td>\n",
       "      <td>Biochemistry</td>\n",
       "      <td>City</td>\n",
       "      <td>5.0</td>\n",
       "      <td>...</td>\n",
       "      <td>90.0</td>\n",
       "      <td>91.0</td>\n",
       "      <td>69.0</td>\n",
       "      <td>40.0</td>\n",
       "      <td>51.0</td>\n",
       "      <td>Yes</td>\n",
       "      <td>3.0</td>\n",
       "      <td>7.0</td>\n",
       "      <td>6.0</td>\n",
       "      <td>-2.0</td>\n",
       "    </tr>\n",
       "  </tbody>\n",
       "</table>\n",
       "<p>5 rows × 86 columns</p>\n",
       "</div>"
      ],
      "text/plain": [
       "  First Name   Last Name  Student ID number LSC 101 Instructor  Gender  \\\n",
       "0      Bilal  Adam Malik        200398445.0    Dr. Erica Kosal    Male   \n",
       "1      Hifza        Alam        200404629.0      Dr. Kenny Kuo  Female   \n",
       "2      Ariba         Ali        200404663.0      Dr. Kenny Kuo  Female   \n",
       "3      Lexie      Allred        200394288.0      Dr. Kenny Kuo  Female   \n",
       "4     Fanuel  Andemariam        200430376.0      Dr. Kenny Kuo    Male   \n",
       "\n",
       "                               Race Intended Major_beginning  \\\n",
       "0                             Asian                  Zoology   \n",
       "1                             Asian             Biology - BS   \n",
       "2                             Asian             Biology - BS   \n",
       "3                  Caucasian; White             Biology - BS   \n",
       "4  African-American; Black; African             Biochemistry   \n",
       "\n",
       "  Intended Major_end Hometown Type_end  Deidentified Number  ...  \\\n",
       "0            Zoology              City                  1.0  ...   \n",
       "1       Biology - BS              City                  2.0  ...   \n",
       "2       Biology - BS              City                  3.0  ...   \n",
       "3       Biology - BS        Rural Area                  4.0  ...   \n",
       "4       Biochemistry              City                  5.0  ...   \n",
       "\n",
       "   OriginalitySA_end  AverageSA_end  RSFluency_end  RSFlexibility_end  \\\n",
       "0              101.0          108.0           89.0               61.0   \n",
       "1               92.0           93.0           70.0               41.0   \n",
       "2              106.0          108.0          110.0               54.0   \n",
       "3               93.0           99.0           91.0               46.0   \n",
       "4               90.0           91.0           69.0               40.0   \n",
       "\n",
       "   RSOriginality_end  Include Student data for Analysis?  average_diff  \\\n",
       "0               73.0                                 Yes          10.0   \n",
       "1               55.0                                 Yes          16.0   \n",
       "2               85.0                                 Yes         -42.0   \n",
       "3               57.0                                 Yes           8.0   \n",
       "4               51.0                                 Yes           3.0   \n",
       "\n",
       "   fluency_diff  flexibility_diff  originality_diff  \n",
       "0           0.0              19.0               9.0  \n",
       "1          15.0              18.0              14.0  \n",
       "2          -3.0              13.0               0.0  \n",
       "3           9.0              10.0               5.0  \n",
       "4           7.0               6.0              -2.0  \n",
       "\n",
       "[5 rows x 86 columns]"
      ]
     },
     "execution_count": 5,
     "metadata": {},
     "output_type": "execute_result"
    }
   ],
   "source": [
    "# create new score difference columns\n",
    "data['average_diff'] = data['AverageSA_end'] - data['AverageSA']\n",
    "data['fluency_diff'] = data['FluencySA_end'] - data['FluencySA']\n",
    "data['flexibility_diff'] = data['FlexibilitySA_end'] - data['FlexibilitySA']\n",
    "data['originality_diff'] = data['OriginalitySA_end'] - data['OriginalitySA']\n",
    "data.head()"
   ]
  },
  {
   "cell_type": "code",
   "execution_count": 6,
   "metadata": {},
   "outputs": [
    {
     "name": "stdout",
     "output_type": "stream",
     "text": [
      "Index(['First Name', 'Last Name', 'Student ID number', 'LSC 101 Instructor',\n",
      "       'Gender', 'Race', 'Intended Major_beginning', 'Intended Major_end',\n",
      "       'Hometown Type_end', 'Deidentified Number', 'unweighted_hs_gpa',\n",
      "       'weighted_hs_gpa', 'Quiz_Score_end', 'S1_beginning', 'S2_beginning',\n",
      "       'S3_beginning', 'S4_beginning', 'S5_beginning', 'S6_beginning',\n",
      "       'S7_beginning', 'S8_beginning', 'S9_beginning', 'S10_beginning',\n",
      "       'S11_beginning', 'S12_beginning', 'S13_beginning', 'Q12a_beginning',\n",
      "       'Q1_beginning', 'Q2_beginning', 'Q3_beginning', 'Q4_beginning',\n",
      "       'Q5_beginning', 'Q6_beginning', 'Q7_beginning', 'Q8_beginning',\n",
      "       'Q9_beginning', 'Q10_beginning', 'Q11_beginning', 'S1_end', 'S2_end',\n",
      "       'S3_end', 'S4_end', 'S5_end', 'S6_end', 'S7_end', 'S8_end', 'S9_end',\n",
      "       'S10_end', 'S11_end', 'S12_end', 'S13_end', 'Q12b_end', 'Q1_end',\n",
      "       'Q2_ end', 'Q4_end', 'Q5_end', 'Q6_end', 'Q7_end', 'Q8_end', 'Q9_end',\n",
      "       'Q10_end', 'Q11_end', 'Q1_extra_end', 'Q2_extra_end', 'Q3_extra_end',\n",
      "       'Q4_extra_end', 'Q5_extra_end', 'FluencySA', 'FlexibilitySA',\n",
      "       'OriginalitySA', 'AverageSA', 'RSFluency', 'RSFlexibility',\n",
      "       'RSOriginality', 'FluencySA_end', 'FlexibilitySA_end',\n",
      "       'OriginalitySA_end', 'AverageSA_end', 'RSFluency_end',\n",
      "       'RSFlexibility_end', 'RSOriginality_end',\n",
      "       'Include Student data for Analysis?', 'average_diff', 'fluency_diff',\n",
      "       'flexibility_diff', 'originality_diff'],\n",
      "      dtype='object')\n"
     ]
    }
   ],
   "source": [
    "# see column names to make sure new columns were added\n",
    "print(data.columns)"
   ]
  },
  {
   "cell_type": "code",
   "execution_count": 7,
   "metadata": {},
   "outputs": [
    {
     "data": {
      "text/plain": [
       "(198, 86)"
      ]
     },
     "execution_count": 7,
     "metadata": {},
     "output_type": "execute_result"
    }
   ],
   "source": [
    "# We have 198 students in our final dataset\n",
    "data.shape"
   ]
  },
  {
   "cell_type": "code",
   "execution_count": 8,
   "metadata": {},
   "outputs": [
    {
     "data": {
      "text/plain": [
       "Female                  167\n",
       "Male                     27\n",
       "Non-Binary                2\n",
       "Prefer not to answer      2\n",
       "Name: Gender, dtype: int64"
      ]
     },
     "execution_count": 8,
     "metadata": {},
     "output_type": "execute_result"
    }
   ],
   "source": [
    "# frequency table of gender\n",
    "data['Gender'].value_counts()\n",
    "# Why most of students are female?"
   ]
  },
  {
   "cell_type": "code",
   "execution_count": 9,
   "metadata": {},
   "outputs": [
    {
     "data": {
      "text/plain": [
       "Caucasian; White                             141\n",
       "African-American; Black; African              15\n",
       "Hispanic; Latinx                              13\n",
       "Asian                                         10\n",
       "Multiracial                                   10\n",
       "Indian                                         8\n",
       "Native Hawaiian or Other Pacific Islander      1\n",
       "Name: Race, dtype: int64"
      ]
     },
     "execution_count": 9,
     "metadata": {},
     "output_type": "execute_result"
    }
   ],
   "source": [
    "# frequency table of Race\n",
    "data['Race'].value_counts()"
   ]
  },
  {
   "cell_type": "code",
   "execution_count": 10,
   "metadata": {},
   "outputs": [
    {
     "data": {
      "text/plain": [
       "Biology - BS                  104\n",
       "Biochemistry                   21\n",
       "Zoology                        18\n",
       "Biology - BA                   18\n",
       "Nutrition                      15\n",
       "Genetics                       15\n",
       "Microbiology                    5\n",
       "Plant Biology                   1\n",
       "A major outside of science      1\n",
       "Name: Intended Major_beginning, dtype: int64"
      ]
     },
     "execution_count": 10,
     "metadata": {},
     "output_type": "execute_result"
    }
   ],
   "source": [
    "# frequency table of intended major at the begin\n",
    "data['Intended Major_beginning'].value_counts()"
   ]
  },
  {
   "cell_type": "code",
   "execution_count": 11,
   "metadata": {},
   "outputs": [
    {
     "data": {
      "text/plain": [
       "Biology - BS                  100\n",
       "Nutrition                      18\n",
       "Biochemistry                   16\n",
       "Genetics                       16\n",
       "Zoology                        15\n",
       "Biology - BA                   15\n",
       "A major outside of science     12\n",
       "Microbiology                    4\n",
       "Plant Biology                   2\n",
       "Name: Intended Major_end, dtype: int64"
      ]
     },
     "execution_count": 11,
     "metadata": {},
     "output_type": "execute_result"
    }
   ],
   "source": [
    "# frequency table of intended major at the end\n",
    "data['Intended Major_end'].value_counts()"
   ]
  },
  {
   "cell_type": "code",
   "execution_count": 12,
   "metadata": {},
   "outputs": [
    {
     "data": {
      "text/plain": [
       "Town          62\n",
       "City          52\n",
       "Suburb        49\n",
       "Rural Area    31\n",
       "Village        4\n",
       "Name: Hometown Type_end, dtype: int64"
      ]
     },
     "execution_count": 12,
     "metadata": {},
     "output_type": "execute_result"
    }
   ],
   "source": [
    "# frequency table of hometown\n",
    "data['Hometown Type_end'].value_counts()"
   ]
  },
  {
   "cell_type": "code",
   "execution_count": 13,
   "metadata": {},
   "outputs": [],
   "source": [
    "X = data[['Intended Major_beginning', 'Hometown Type_end', 'Race', 'Gender', 'weighted_hs_gpa', 'LSC 101 Instructor']]\n",
    "Y = data['average_diff']"
   ]
  },
  {
   "cell_type": "code",
   "execution_count": 14,
   "metadata": {},
   "outputs": [
    {
     "name": "stdout",
     "output_type": "stream",
     "text": [
      "['Caucasian; White', 'African-American; Black; African', 'Hispanic; Latinx', 'Asian', 'Multiracial', 'Indian', 'Native Hawaiian or Other Pacific Islander']\n",
      "['Town', 'City', 'Suburb', 'Rural Area', 'Village']\n",
      "['Biology - BS', 'Biochemistry', 'Zoology', 'Biology - BA', 'Nutrition', 'Genetics', 'Microbiology', 'Plant Biology', 'A major outside of science']\n",
      "['Dr. Kenny Kuo', 'Dr. Erica Kosal']\n",
      "['Female', 'Male', 'Non-Binary', 'Prefer not to answer']\n"
     ]
    },
    {
     "name": "stderr",
     "output_type": "stream",
     "text": [
      "/var/folders/y7/_1vxzd515rx2fsyf76lh5z980000gn/T/ipykernel_58672/1818022599.py:17: SettingWithCopyWarning: \n",
      "A value is trying to be set on a copy of a slice from a DataFrame.\n",
      "Try using .loc[row_indexer,col_indexer] = value instead\n",
      "\n",
      "See the caveats in the documentation: https://pandas.pydata.org/pandas-docs/stable/user_guide/indexing.html#returning-a-view-versus-a-copy\n",
      "  df1[col] = [counts.index.tolist().index(i) for i in df1[col]] # do the conversion\n",
      "/var/folders/y7/_1vxzd515rx2fsyf76lh5z980000gn/T/ipykernel_58672/1818022599.py:17: SettingWithCopyWarning: \n",
      "A value is trying to be set on a copy of a slice from a DataFrame.\n",
      "Try using .loc[row_indexer,col_indexer] = value instead\n",
      "\n",
      "See the caveats in the documentation: https://pandas.pydata.org/pandas-docs/stable/user_guide/indexing.html#returning-a-view-versus-a-copy\n",
      "  df1[col] = [counts.index.tolist().index(i) for i in df1[col]] # do the conversion\n",
      "/var/folders/y7/_1vxzd515rx2fsyf76lh5z980000gn/T/ipykernel_58672/1818022599.py:17: SettingWithCopyWarning: \n",
      "A value is trying to be set on a copy of a slice from a DataFrame.\n",
      "Try using .loc[row_indexer,col_indexer] = value instead\n",
      "\n",
      "See the caveats in the documentation: https://pandas.pydata.org/pandas-docs/stable/user_guide/indexing.html#returning-a-view-versus-a-copy\n",
      "  df1[col] = [counts.index.tolist().index(i) for i in df1[col]] # do the conversion\n",
      "/var/folders/y7/_1vxzd515rx2fsyf76lh5z980000gn/T/ipykernel_58672/1818022599.py:17: SettingWithCopyWarning: \n",
      "A value is trying to be set on a copy of a slice from a DataFrame.\n",
      "Try using .loc[row_indexer,col_indexer] = value instead\n",
      "\n",
      "See the caveats in the documentation: https://pandas.pydata.org/pandas-docs/stable/user_guide/indexing.html#returning-a-view-versus-a-copy\n",
      "  df1[col] = [counts.index.tolist().index(i) for i in df1[col]] # do the conversion\n",
      "/var/folders/y7/_1vxzd515rx2fsyf76lh5z980000gn/T/ipykernel_58672/1818022599.py:17: SettingWithCopyWarning: \n",
      "A value is trying to be set on a copy of a slice from a DataFrame.\n",
      "Try using .loc[row_indexer,col_indexer] = value instead\n",
      "\n",
      "See the caveats in the documentation: https://pandas.pydata.org/pandas-docs/stable/user_guide/indexing.html#returning-a-view-versus-a-copy\n",
      "  df1[col] = [counts.index.tolist().index(i) for i in df1[col]] # do the conversion\n"
     ]
    },
    {
     "data": {
      "text/html": [
       "<div>\n",
       "<style scoped>\n",
       "    .dataframe tbody tr th:only-of-type {\n",
       "        vertical-align: middle;\n",
       "    }\n",
       "\n",
       "    .dataframe tbody tr th {\n",
       "        vertical-align: top;\n",
       "    }\n",
       "\n",
       "    .dataframe thead th {\n",
       "        text-align: right;\n",
       "    }\n",
       "</style>\n",
       "<table border=\"1\" class=\"dataframe\">\n",
       "  <thead>\n",
       "    <tr style=\"text-align: right;\">\n",
       "      <th></th>\n",
       "      <th>Intended Major_beginning</th>\n",
       "      <th>Hometown Type_end</th>\n",
       "      <th>Race</th>\n",
       "      <th>Gender</th>\n",
       "      <th>weighted_hs_gpa</th>\n",
       "      <th>LSC 101 Instructor</th>\n",
       "    </tr>\n",
       "  </thead>\n",
       "  <tbody>\n",
       "    <tr>\n",
       "      <th>0</th>\n",
       "      <td>2</td>\n",
       "      <td>1</td>\n",
       "      <td>3</td>\n",
       "      <td>1</td>\n",
       "      <td>4.086</td>\n",
       "      <td>1</td>\n",
       "    </tr>\n",
       "    <tr>\n",
       "      <th>1</th>\n",
       "      <td>0</td>\n",
       "      <td>1</td>\n",
       "      <td>3</td>\n",
       "      <td>0</td>\n",
       "      <td>4.500</td>\n",
       "      <td>0</td>\n",
       "    </tr>\n",
       "    <tr>\n",
       "      <th>2</th>\n",
       "      <td>0</td>\n",
       "      <td>1</td>\n",
       "      <td>3</td>\n",
       "      <td>0</td>\n",
       "      <td>4.344</td>\n",
       "      <td>0</td>\n",
       "    </tr>\n",
       "    <tr>\n",
       "      <th>3</th>\n",
       "      <td>0</td>\n",
       "      <td>3</td>\n",
       "      <td>0</td>\n",
       "      <td>0</td>\n",
       "      <td>4.540</td>\n",
       "      <td>0</td>\n",
       "    </tr>\n",
       "    <tr>\n",
       "      <th>4</th>\n",
       "      <td>1</td>\n",
       "      <td>1</td>\n",
       "      <td>1</td>\n",
       "      <td>1</td>\n",
       "      <td>4.359</td>\n",
       "      <td>0</td>\n",
       "    </tr>\n",
       "    <tr>\n",
       "      <th>5</th>\n",
       "      <td>0</td>\n",
       "      <td>0</td>\n",
       "      <td>2</td>\n",
       "      <td>0</td>\n",
       "      <td>4.375</td>\n",
       "      <td>1</td>\n",
       "    </tr>\n",
       "    <tr>\n",
       "      <th>6</th>\n",
       "      <td>4</td>\n",
       "      <td>2</td>\n",
       "      <td>5</td>\n",
       "      <td>0</td>\n",
       "      <td>4.234</td>\n",
       "      <td>0</td>\n",
       "    </tr>\n",
       "    <tr>\n",
       "      <th>8</th>\n",
       "      <td>0</td>\n",
       "      <td>2</td>\n",
       "      <td>5</td>\n",
       "      <td>0</td>\n",
       "      <td>4.438</td>\n",
       "      <td>0</td>\n",
       "    </tr>\n",
       "    <tr>\n",
       "      <th>9</th>\n",
       "      <td>3</td>\n",
       "      <td>3</td>\n",
       "      <td>0</td>\n",
       "      <td>0</td>\n",
       "      <td>4.220</td>\n",
       "      <td>1</td>\n",
       "    </tr>\n",
       "    <tr>\n",
       "      <th>10</th>\n",
       "      <td>0</td>\n",
       "      <td>1</td>\n",
       "      <td>0</td>\n",
       "      <td>0</td>\n",
       "      <td>4.609</td>\n",
       "      <td>1</td>\n",
       "    </tr>\n",
       "  </tbody>\n",
       "</table>\n",
       "</div>"
      ],
      "text/plain": [
       "    Intended Major_beginning  Hometown Type_end  Race  Gender  \\\n",
       "0                          2                  1     3       1   \n",
       "1                          0                  1     3       0   \n",
       "2                          0                  1     3       0   \n",
       "3                          0                  3     0       0   \n",
       "4                          1                  1     1       1   \n",
       "5                          0                  0     2       0   \n",
       "6                          4                  2     5       0   \n",
       "8                          0                  2     5       0   \n",
       "9                          3                  3     0       0   \n",
       "10                         0                  1     0       0   \n",
       "\n",
       "    weighted_hs_gpa  LSC 101 Instructor  \n",
       "0             4.086                   1  \n",
       "1             4.500                   0  \n",
       "2             4.344                   0  \n",
       "3             4.540                   0  \n",
       "4             4.359                   0  \n",
       "5             4.375                   1  \n",
       "6             4.234                   0  \n",
       "8             4.438                   0  \n",
       "9             4.220                   1  \n",
       "10            4.609                   1  "
      ]
     },
     "execution_count": 14,
     "metadata": {},
     "output_type": "execute_result"
    }
   ],
   "source": [
    "# reference: https://www.kaggle.com/code/adachowicz/house-prices-random-forest-regression-analysis\n",
    "# Random forest \n",
    "# Pre-processing Categorical Features\n",
    "# define a function to convert an object (categorical) feature into an int feature\n",
    "# 0 = most common category, highest int = least common.\n",
    "# Gender = 2 means Female.\n",
    "def getObjectFeature(df, col, datalength=500):\n",
    "    if df[col].dtype!='object': # if it's not categorical..\n",
    "        print('feature',col,'is not an object feature.')\n",
    "        return df\n",
    "    elif len([i for i in df[col].T.notnull() if i == True])!=datalength: # if there's missing data..\n",
    "        print('feature',col,'is missing data.')\n",
    "        return df\n",
    "    else:\n",
    "        df1 = df\n",
    "        counts = df1[col].value_counts() # get the counts for each label for the feature\n",
    "        df1[col] = [counts.index.tolist().index(i) for i in df1[col]] # do the conversion\n",
    "        print(counts.index.tolist())\n",
    "        return df1 # make the new (integer) column from the conversion\n",
    "\n",
    "# and test the function...\n",
    "# fcntest = getObjectFeature(X, 'Gender', len(X.Gender))\n",
    "X = getObjectFeature(X, 'Race', len(X.Race))\n",
    "X = getObjectFeature(X, 'Hometown Type_end', len(X['Hometown Type_end']))\n",
    "X = getObjectFeature(X, 'Intended Major_beginning', len(X['Intended Major_beginning']))\n",
    "X = getObjectFeature(X, 'LSC 101 Instructor', len(X['LSC 101 Instructor']))\n",
    "X = getObjectFeature(X, 'Gender', len(X.Gender))\n",
    "X.head(10)"
   ]
  },
  {
   "cell_type": "code",
   "execution_count": 15,
   "metadata": {},
   "outputs": [
    {
     "name": "stdout",
     "output_type": "stream",
     "text": [
      "scores for k=10 fold validation: [-0.82439121 -0.36070562 -1.9194582  -1.08068318 -0.85708953 -0.92874684\n",
      " -1.49254583 -8.89573023 -1.88879261 -0.18535511]\n",
      "Est. explained variance: -1.84 (+/- 4.83)\n",
      "estimators: 2\n",
      "Est. explained variance: -0.92 (+/- 1.38)\n",
      "\n",
      "estimators: 5\n",
      "Est. explained variance: -0.67 (+/- 1.07)\n",
      "\n",
      "estimators: 10\n",
      "Est. explained variance: -0.35 (+/- 0.76)\n",
      "\n",
      "estimators: 15\n",
      "Est. explained variance: -0.25 (+/- 0.42)\n",
      "\n",
      "estimators: 20\n",
      "Est. explained variance: -0.40 (+/- 0.54)\n",
      "\n",
      "estimators: 25\n",
      "Est. explained variance: -0.34 (+/- 0.79)\n",
      "\n",
      "estimators: 30\n",
      "Est. explained variance: -0.37 (+/- 0.70)\n",
      "\n",
      "estimators: 35\n",
      "Est. explained variance: -0.28 (+/- 0.56)\n",
      "\n",
      "estimators: 40\n",
      "Est. explained variance: -0.25 (+/- 0.47)\n",
      "\n",
      "estimators: 45\n",
      "Est. explained variance: -0.28 (+/- 0.59)\n",
      "\n",
      "estimators: 50\n",
      "Est. explained variance: -0.32 (+/- 0.63)\n",
      "\n",
      "estimators: 55\n",
      "Est. explained variance: -0.22 (+/- 0.53)\n",
      "\n",
      "estimators: 60\n",
      "Est. explained variance: -0.29 (+/- 0.59)\n",
      "\n",
      "estimators: 65\n",
      "Est. explained variance: -0.23 (+/- 0.56)\n",
      "\n",
      "estimators: 70\n",
      "Est. explained variance: -0.24 (+/- 0.45)\n",
      "\n",
      "estimators: 75\n",
      "Est. explained variance: -0.31 (+/- 0.65)\n",
      "\n",
      "estimators: 80\n",
      "Est. explained variance: -0.28 (+/- 0.55)\n",
      "\n"
     ]
    }
   ],
   "source": [
    "# Random forest\n",
    "from sklearn.tree import DecisionTreeRegressor as dtr\n",
    "# define the training data X...\n",
    "# let's set up some cross-validation analysis to evaluate our model and later models...\n",
    "from sklearn.model_selection import cross_val_score\n",
    "# try fitting a decision tree regression model...\n",
    "DTR_1 = dtr(max_depth=None) # declare the regression model form. Let the depth be default.\n",
    "# DTR_1.fit(X,Y) # fit the training data\n",
    "scores_dtr = cross_val_score(DTR_1, X, Y, cv=10,scoring='explained_variance') # 10-fold cross validation\n",
    "print('scores for k=10 fold validation:',scores_dtr)\n",
    "print(\"Est. explained variance: %0.2f (+/- %0.2f)\" % (scores_dtr.mean(), scores_dtr.std() * 2))\n",
    "# consider an ensemble of trees\n",
    "from sklearn.ensemble import RandomForestRegressor as rfr\n",
    "estimators = [2, 5, 10, 15, 20, 25, 30, 35, 40, 45, 50, 55, 60, 65, 70, 75, 80]\n",
    "mean_rfrs = []\n",
    "std_rfrs_upper = []\n",
    "std_rfrs_lower = []\n",
    "yt = [i for i in Y[:,]] # quick pre-processing of the target\n",
    "np.random.seed(11111)\n",
    "for i in estimators:\n",
    "    model = rfr(n_estimators=i,max_depth=None)\n",
    "    scores_rfr = cross_val_score(model,X,yt,cv=10,scoring='explained_variance')\n",
    "    print('estimators:',i)\n",
    "#     print('explained variance scores for k=10 fold validation:',scores_rfr)\n",
    "    print(\"Est. explained variance: %0.2f (+/- %0.2f)\" % (scores_rfr.mean(), scores_rfr.std() * 2))\n",
    "    print('')\n",
    "    mean_rfrs.append(scores_rfr.mean())\n",
    "    std_rfrs_upper.append(scores_rfr.mean()+scores_rfr.std()*2) # for error plotting\n",
    "    std_rfrs_lower.append(scores_rfr.mean()-scores_rfr.std()*2) # for error plotting"
   ]
  },
  {
   "cell_type": "code",
   "execution_count": 16,
   "metadata": {},
   "outputs": [
    {
     "data": {
      "image/png": "[encoded data removed]",
      "text/plain": [
       "<Figure size 864x576 with 1 Axes>"
      ]
     },
     "metadata": {
      "needs_background": "light"
     },
     "output_type": "display_data"
    }
   ],
   "source": [
    "# and plot...\n",
    "fig = plt.figure(figsize=(12,8))\n",
    "ax = fig.add_subplot(111)\n",
    "ax.plot(estimators,mean_rfrs,marker='o',\n",
    "       linewidth=4,markersize=12)\n",
    "ax.fill_between(estimators,std_rfrs_lower,std_rfrs_upper,\n",
    "                facecolor='green',alpha=0.3,interpolate=True)\n",
    "ax.set_ylim([-.3,1])\n",
    "ax.set_xlim([0,80])\n",
    "plt.title('Expected Variance of Random Forest Regressor')\n",
    "plt.ylabel('Expected Variance')\n",
    "plt.xlabel('Trees in Forest')\n",
    "plt.grid()\n",
    "plt.show()\n"
   ]
  },
  {
   "cell_type": "code",
   "execution_count": 17,
   "metadata": {},
   "outputs": [
    {
     "name": "stdout",
     "output_type": "stream",
     "text": [
      "[['Gender' '0.05984760101170461']\n",
      " ['LSC 101 Instructor' '0.040632850643085305']\n",
      " ['Intended Major_beginning' '0.008267147354108495']\n",
      " ['Race' '0.005227919204222609']\n",
      " ['Hometown Type_end' '0.0']\n",
      " ['weighted_hs_gpa' '0.0']]\n"
     ]
    },
    {
     "data": {
      "image/png": "[encoded data removed]",
      "text/plain": [
       "<Figure size 936x432 with 1 Axes>"
      ]
     },
     "metadata": {
      "needs_background": "light"
     },
     "output_type": "display_data"
    }
   ],
   "source": [
    "import sklearn.feature_selection as fs # feature selection library in scikit-learn\n",
    "# first, let's include every feature that has data for all 1460 houses in the data set...\n",
    "included_features = [col for col in X.columns]\n",
    "mir_result = fs.mutual_info_regression(X, yt) # mutual information regression feature ordering\n",
    "feature_scores = []\n",
    "for i in np.arange(len(included_features)):\n",
    "    feature_scores.append([included_features[i],mir_result[i]])\n",
    "sorted_scores = sorted(np.array(feature_scores), key=lambda s: float(s[1]), reverse=True) \n",
    "print(np.array(sorted_scores))\n",
    "# and plot...\n",
    "fig = plt.figure(figsize=(13,6))\n",
    "ax = fig.add_subplot(111)\n",
    "ind = np.array(sorted_scores)[:,0]\n",
    "plt.bar(ind,[float(i) for i in np.array(sorted_scores)[:,1]])\n",
    "ax.axes.set_xticks(ind)\n",
    "plt.title('Feature Importances (Mutual Information Regression)')\n",
    "plt.ylabel('Importance')\n",
    "plt.show()"
   ]
  },
  {
   "cell_type": "code",
   "execution_count": 18,
   "metadata": {},
   "outputs": [
    {
     "data": {
      "image/png": "[encoded data removed]",
      "text/plain": [
       "<Figure size 432x288 with 1 Axes>"
      ]
     },
     "metadata": {
      "needs_background": "light"
     },
     "output_type": "display_data"
    }
   ],
   "source": [
    "# histogram for High school GPA\n",
    "\n",
    "n, bins, patches = plt.hist(x=data.iloc[:, 10], bins='auto',\n",
    "                            alpha=0.7, rwidth=0.85, label = 'Unweighted highschool gpa')\n",
    "n1, bins1, patches1 = plt.hist(x=data.iloc[:, 11], bins='auto', color='black',\n",
    "                            alpha=0.7, rwidth=0.85, label='Weighted highschool gpa')                            \n",
    "plt.grid(axis='y', alpha=0.75)\n",
    "plt.xlabel('Highschool GPA')\n",
    "plt.ylabel('Frequency')\n",
    "plt.title('Highschool GPA')\n",
    "plt.legend(loc='best', frameon=False)\n",
    "maxfreq = n.max()\n",
    "# Set a clean upper y-axis limit.\n",
    "plt.ylim(ymax=np.ceil(maxfreq / 10) * 10 if maxfreq % 10 else maxfreq + 10)\n",
    "plt.show()\n"
   ]
  },
  {
   "cell_type": "code",
   "execution_count": 19,
   "metadata": {},
   "outputs": [
    {
     "data": {
      "image/png": "[encoded data removed]",
      "text/plain": [
       "<Figure size 432x288 with 1 Axes>"
      ]
     },
     "metadata": {
      "needs_background": "light"
     },
     "output_type": "display_data"
    }
   ],
   "source": [
    "# histogram for begin and end TTCT score(Avg) \n",
    "n, bins, patches = plt.hist(x=data.iloc[:, 70], bins='auto',\n",
    "                            alpha=0.7, rwidth=0.85, label = 'Begin avg TTCT scores')\n",
    "n1, bins1, patches1 = plt.hist(x=data.iloc[:, 77], bins='auto', color='black',\n",
    "                            alpha=0.7, rwidth=0.85, label='End avg TTCT scores')                            \n",
    "plt.grid(axis='y', alpha=0.75)\n",
    "plt.xlabel('TTCT avgerage score')\n",
    "plt.ylabel('Frequency')\n",
    "plt.title('Hisogram for the begin and end(avg)')\n",
    "plt.legend(loc='best', frameon=False)\n",
    "maxfreq = n.max()\n",
    "# Set a clean upper y-axis limit.\n",
    "plt.ylim(ymax=np.ceil(maxfreq / 10) * 10 if maxfreq % 10 else maxfreq + 10)\n",
    "plt.show()"
   ]
  },
  {
   "cell_type": "code",
   "execution_count": 20,
   "metadata": {},
   "outputs": [
    {
     "name": "stdout",
     "output_type": "stream",
     "text": [
      "qqplot for the begin avg score\n",
      "qqplot for the end avg score\n"
     ]
    },
    {
     "data": {
      "image/png": "[encoded data removed]",
      "text/plain": [
       "<Figure size 1008x360 with 2 Axes>"
      ]
     },
     "metadata": {
      "needs_background": "light"
     },
     "output_type": "display_data"
    },
    {
     "data": {
      "text/plain": [
       "<Figure size 432x288 with 0 Axes>"
      ]
     },
     "metadata": {},
     "output_type": "display_data"
    }
   ],
   "source": [
    "# Boxplot for the begin and end TTCT score(avg)\n",
    "from scipy.stats import norm\n",
    "print('qqplot for the begin avg score')\n",
    "# for each column we plot the qqplot\n",
    "fig = plt.figure(figsize=(14,5))  \n",
    "ax1 = fig.add_subplot(121) \n",
    "plt.boxplot(data.iloc[:,70])\n",
    "print('qqplot for the end avg score')\n",
    "ax1 = fig.add_subplot(122)\n",
    "fig.subplots_adjust(wspace=0.2, hspace=0.1)\n",
    "plt.boxplot(data.iloc[:,77])\n",
    "fig = plt.figure()"
   ]
  },
  {
   "cell_type": "code",
   "execution_count": 21,
   "metadata": {},
   "outputs": [
    {
     "data": {
      "text/plain": [
       "150.0"
      ]
     },
     "execution_count": 21,
     "metadata": {},
     "output_type": "execute_result"
    }
   ],
   "source": [
    "# according to the above plots, we can see that there is a score more than 140\n",
    "data['AverageSA'].max()\n",
    "# the highest is 150"
   ]
  },
  {
   "cell_type": "code",
   "execution_count": 22,
   "metadata": {},
   "outputs": [
    {
     "name": "stdout",
     "output_type": "stream",
     "text": [
      "qqplot for the begin and end avg score difference\n",
      "AverageSA\n"
     ]
    },
    {
     "data": {
      "image/png": "[encoded data removed]",
      "text/plain": [
       "<Figure size 432x288 with 1 Axes>"
      ]
     },
     "metadata": {
      "needs_background": "light"
     },
     "output_type": "display_data"
    },
    {
     "data": {
      "image/png": "[encoded data removed]",
      "text/plain": [
       "<Figure size 432x288 with 1 Axes>"
      ]
     },
     "metadata": {
      "needs_background": "light"
     },
     "output_type": "display_data"
    }
   ],
   "source": [
    "# For problem 1\n",
    "# Is there a difference between begin and end \n",
    "# qqplot\n",
    "print('qqplot for the begin and end avg score difference')\n",
    "# for each column we plot the qqplot\n",
    "print(data.columns[70])\n",
    "sm.qqplot(data.iloc[:,70] - data.iloc[:,77], line = 's', ylabel = data.columns[70])\n",
    "# boxplot\n",
    "fig = plt.figure()\n",
    "fig.suptitle(data.columns[70], fontsize=14, fontweight='bold')\n",
    "plt.boxplot(data.iloc[:,70] - data.iloc[:,77])\n",
    "plt.show()"
   ]
  }
 ],
 "metadata": {
  "interpreter": {
   "hash": "400c612f423765788f1de68ad829b2c646518f3404deeec1d95d7e04f2fdd7a1"
  },
  "kernelspec": {
   "display_name": "Python 3 (ipykernel)",
   "language": "python",
   "name": "python3"
  },
  "language_info": {
   "codemirror_mode": {
    "name": "ipython",
    "version": 3
   },
   "file_extension": ".py",
   "mimetype": "text/x-python",
   "name": "python",
   "nbconvert_exporter": "python",
   "pygments_lexer": "ipython3",
   "version": "3.8.0"
  }
 },
 "nbformat": 4,
 "nbformat_minor": 4
}

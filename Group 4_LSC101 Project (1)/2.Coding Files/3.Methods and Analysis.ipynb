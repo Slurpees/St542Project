{
 "cells": [
  {
   "cell_type": "markdown",
   "metadata": {},
   "source": [
    "# Method and Analysis"
   ]
  },
  {
   "cell_type": "code",
   "execution_count": 1,
   "metadata": {
    "tags": []
   },
   "outputs": [],
   "source": [
    "# import packages\n",
    "import pandas as pd\n",
    "import os \n",
    "import duckdb\n",
    "import numpy as np\n",
    "import matplotlib.pyplot as plt\n",
    "import scipy.stats as stats\n",
    "import statsmodels.api as sm\n",
    "import seaborn as sns\n",
    "from researchpy import ttest as rpTtest\n",
    "import researchpy as rp\n",
    "import math"
   ]
  },
  {
   "cell_type": "code",
   "execution_count": 2,
   "metadata": {},
   "outputs": [
    {
     "name": "stdout",
     "output_type": "stream",
     "text": [
      "/Users/lucyyin/ST542/new\n"
     ]
    }
   ],
   "source": [
    "# find current path\n",
    "path = os.getcwd()\n",
    "print(path)"
   ]
  },
  {
   "cell_type": "code",
   "execution_count": 3,
   "metadata": {},
   "outputs": [],
   "source": [
    "# read in cleaned data from Data Cleaning step, keep only complete records\n",
    "data = pd.read_excel(path + '/3.The Single Clean Dataset.xlsx', sheet_name='Data for Analysis')\n",
    "#data = data.dropna()"
   ]
  },
  {
   "cell_type": "code",
   "execution_count": 4,
   "metadata": {},
   "outputs": [
    {
     "data": {
      "text/plain": [
       "(198, 82)"
      ]
     },
     "execution_count": 4,
     "metadata": {},
     "output_type": "execute_result"
    }
   ],
   "source": [
    "# find number of observations and number of variables\n",
    "data.shape"
   ]
  },
  {
   "cell_type": "code",
   "execution_count": 5,
   "metadata": {},
   "outputs": [
    {
     "data": {
      "text/html": [
       "<div>\n",
       "<style scoped>\n",
       "    .dataframe tbody tr th:only-of-type {\n",
       "        vertical-align: middle;\n",
       "    }\n",
       "\n",
       "    .dataframe tbody tr th {\n",
       "        vertical-align: top;\n",
       "    }\n",
       "\n",
       "    .dataframe thead th {\n",
       "        text-align: right;\n",
       "    }\n",
       "</style>\n",
       "<table border=\"1\" class=\"dataframe\">\n",
       "  <thead>\n",
       "    <tr style=\"text-align: right;\">\n",
       "      <th></th>\n",
       "      <th>First Name</th>\n",
       "      <th>Last Name</th>\n",
       "      <th>Student ID number</th>\n",
       "      <th>LSC 101 Instructor</th>\n",
       "      <th>Gender</th>\n",
       "      <th>Race</th>\n",
       "      <th>Intended Major_beginning</th>\n",
       "      <th>Intended Major_end</th>\n",
       "      <th>Hometown Type_end</th>\n",
       "      <th>Deidentified Number</th>\n",
       "      <th>...</th>\n",
       "      <th>RSFlexibility</th>\n",
       "      <th>RSOriginality</th>\n",
       "      <th>FluencySA_end</th>\n",
       "      <th>FlexibilitySA_end</th>\n",
       "      <th>OriginalitySA_end</th>\n",
       "      <th>AverageSA_end</th>\n",
       "      <th>RSFluency_end</th>\n",
       "      <th>RSFlexibility_end</th>\n",
       "      <th>RSOriginality_end</th>\n",
       "      <th>Include Student data</th>\n",
       "    </tr>\n",
       "  </thead>\n",
       "  <tbody>\n",
       "    <tr>\n",
       "      <th>0</th>\n",
       "      <td>Bilal</td>\n",
       "      <td>Adam Malik</td>\n",
       "      <td>200398445</td>\n",
       "      <td>Dr. Erica Kosal</td>\n",
       "      <td>Male</td>\n",
       "      <td>Asian</td>\n",
       "      <td>Zoology</td>\n",
       "      <td>Zoology</td>\n",
       "      <td>City</td>\n",
       "      <td>1</td>\n",
       "      <td>...</td>\n",
       "      <td>44</td>\n",
       "      <td>49</td>\n",
       "      <td>100</td>\n",
       "      <td>122</td>\n",
       "      <td>101</td>\n",
       "      <td>108</td>\n",
       "      <td>89</td>\n",
       "      <td>61</td>\n",
       "      <td>73</td>\n",
       "      <td>Yes</td>\n",
       "    </tr>\n",
       "    <tr>\n",
       "      <th>1</th>\n",
       "      <td>Hifza</td>\n",
       "      <td>Alam</td>\n",
       "      <td>200404629</td>\n",
       "      <td>Dr. Kenny Kuo</td>\n",
       "      <td>Female</td>\n",
       "      <td>Asian</td>\n",
       "      <td>Biology - BS</td>\n",
       "      <td>Biology - BS</td>\n",
       "      <td>City</td>\n",
       "      <td>2</td>\n",
       "      <td>...</td>\n",
       "      <td>34</td>\n",
       "      <td>41</td>\n",
       "      <td>92</td>\n",
       "      <td>95</td>\n",
       "      <td>92</td>\n",
       "      <td>93</td>\n",
       "      <td>70</td>\n",
       "      <td>41</td>\n",
       "      <td>55</td>\n",
       "      <td>Yes</td>\n",
       "    </tr>\n",
       "    <tr>\n",
       "      <th>2</th>\n",
       "      <td>Ariba</td>\n",
       "      <td>Ali</td>\n",
       "      <td>200404663</td>\n",
       "      <td>Dr. Kenny Kuo</td>\n",
       "      <td>Female</td>\n",
       "      <td>Asian</td>\n",
       "      <td>Biology - BS</td>\n",
       "      <td>Biology - BS</td>\n",
       "      <td>City</td>\n",
       "      <td>3</td>\n",
       "      <td>...</td>\n",
       "      <td>42</td>\n",
       "      <td>65</td>\n",
       "      <td>108</td>\n",
       "      <td>111</td>\n",
       "      <td>106</td>\n",
       "      <td>108</td>\n",
       "      <td>110</td>\n",
       "      <td>54</td>\n",
       "      <td>85</td>\n",
       "      <td>Yes</td>\n",
       "    </tr>\n",
       "    <tr>\n",
       "      <th>3</th>\n",
       "      <td>Lexie</td>\n",
       "      <td>Allred</td>\n",
       "      <td>200394288</td>\n",
       "      <td>Dr. Kenny Kuo</td>\n",
       "      <td>Female</td>\n",
       "      <td>Caucasian; White</td>\n",
       "      <td>Biology - BS</td>\n",
       "      <td>Biology - BS</td>\n",
       "      <td>Rural Area</td>\n",
       "      <td>4</td>\n",
       "      <td>...</td>\n",
       "      <td>39</td>\n",
       "      <td>45</td>\n",
       "      <td>101</td>\n",
       "      <td>102</td>\n",
       "      <td>93</td>\n",
       "      <td>99</td>\n",
       "      <td>91</td>\n",
       "      <td>46</td>\n",
       "      <td>57</td>\n",
       "      <td>Yes</td>\n",
       "    </tr>\n",
       "    <tr>\n",
       "      <th>4</th>\n",
       "      <td>Fanuel</td>\n",
       "      <td>Andemariam</td>\n",
       "      <td>200430376</td>\n",
       "      <td>Dr. Kenny Kuo</td>\n",
       "      <td>Male</td>\n",
       "      <td>African-American; Black; African</td>\n",
       "      <td>Biochemistry</td>\n",
       "      <td>Biochemistry</td>\n",
       "      <td>City</td>\n",
       "      <td>5</td>\n",
       "      <td>...</td>\n",
       "      <td>36</td>\n",
       "      <td>48</td>\n",
       "      <td>91</td>\n",
       "      <td>93</td>\n",
       "      <td>90</td>\n",
       "      <td>91</td>\n",
       "      <td>69</td>\n",
       "      <td>40</td>\n",
       "      <td>51</td>\n",
       "      <td>Yes</td>\n",
       "    </tr>\n",
       "  </tbody>\n",
       "</table>\n",
       "<p>5 rows × 82 columns</p>\n",
       "</div>"
      ],
      "text/plain": [
       "  First Name   Last Name  Student ID number LSC 101 Instructor  Gender  \\\n",
       "0      Bilal  Adam Malik          200398445    Dr. Erica Kosal    Male   \n",
       "1      Hifza        Alam          200404629      Dr. Kenny Kuo  Female   \n",
       "2      Ariba         Ali          200404663      Dr. Kenny Kuo  Female   \n",
       "3      Lexie      Allred          200394288      Dr. Kenny Kuo  Female   \n",
       "4     Fanuel  Andemariam          200430376      Dr. Kenny Kuo    Male   \n",
       "\n",
       "                               Race Intended Major_beginning  \\\n",
       "0                             Asian                  Zoology   \n",
       "1                             Asian             Biology - BS   \n",
       "2                             Asian             Biology - BS   \n",
       "3                  Caucasian; White             Biology - BS   \n",
       "4  African-American; Black; African             Biochemistry   \n",
       "\n",
       "  Intended Major_end Hometown Type_end  Deidentified Number  ...  \\\n",
       "0            Zoology              City                    1  ...   \n",
       "1       Biology - BS              City                    2  ...   \n",
       "2       Biology - BS              City                    3  ...   \n",
       "3       Biology - BS        Rural Area                    4  ...   \n",
       "4       Biochemistry              City                    5  ...   \n",
       "\n",
       "   RSFlexibility  RSOriginality  FluencySA_end  FlexibilitySA_end  \\\n",
       "0             44             49            100                122   \n",
       "1             34             41             92                 95   \n",
       "2             42             65            108                111   \n",
       "3             39             45            101                102   \n",
       "4             36             48             91                 93   \n",
       "\n",
       "   OriginalitySA_end  AverageSA_end  RSFluency_end  RSFlexibility_end  \\\n",
       "0                101            108             89                 61   \n",
       "1                 92             93             70                 41   \n",
       "2                106            108            110                 54   \n",
       "3                 93             99             91                 46   \n",
       "4                 90             91             69                 40   \n",
       "\n",
       "   RSOriginality_end  Include Student data  \n",
       "0                 73                   Yes  \n",
       "1                 55                   Yes  \n",
       "2                 85                   Yes  \n",
       "3                 57                   Yes  \n",
       "4                 51                   Yes  \n",
       "\n",
       "[5 rows x 82 columns]"
      ]
     },
     "execution_count": 5,
     "metadata": {},
     "output_type": "execute_result"
    }
   ],
   "source": [
    "# see snippet of data\n",
    "data.head()"
   ]
  },
  {
   "cell_type": "code",
   "execution_count": 6,
   "metadata": {},
   "outputs": [
    {
     "data": {
      "text/html": [
       "<div>\n",
       "<style scoped>\n",
       "    .dataframe tbody tr th:only-of-type {\n",
       "        vertical-align: middle;\n",
       "    }\n",
       "\n",
       "    .dataframe tbody tr th {\n",
       "        vertical-align: top;\n",
       "    }\n",
       "\n",
       "    .dataframe thead th {\n",
       "        text-align: right;\n",
       "    }\n",
       "</style>\n",
       "<table border=\"1\" class=\"dataframe\">\n",
       "  <thead>\n",
       "    <tr style=\"text-align: right;\">\n",
       "      <th></th>\n",
       "      <th>First Name</th>\n",
       "      <th>Last Name</th>\n",
       "      <th>Student ID number</th>\n",
       "      <th>LSC 101 Instructor</th>\n",
       "      <th>Gender</th>\n",
       "      <th>Race</th>\n",
       "      <th>Intended Major_beginning</th>\n",
       "      <th>Intended Major_end</th>\n",
       "      <th>Hometown Type_end</th>\n",
       "      <th>Deidentified Number</th>\n",
       "      <th>...</th>\n",
       "      <th>OriginalitySA_end</th>\n",
       "      <th>AverageSA_end</th>\n",
       "      <th>RSFluency_end</th>\n",
       "      <th>RSFlexibility_end</th>\n",
       "      <th>RSOriginality_end</th>\n",
       "      <th>Include Student data</th>\n",
       "      <th>average_diff</th>\n",
       "      <th>fluency_diff</th>\n",
       "      <th>flexibility_diff</th>\n",
       "      <th>originality_diff</th>\n",
       "    </tr>\n",
       "  </thead>\n",
       "  <tbody>\n",
       "    <tr>\n",
       "      <th>0</th>\n",
       "      <td>Bilal</td>\n",
       "      <td>Adam Malik</td>\n",
       "      <td>200398445</td>\n",
       "      <td>Dr. Erica Kosal</td>\n",
       "      <td>Male</td>\n",
       "      <td>Asian</td>\n",
       "      <td>Zoology</td>\n",
       "      <td>Zoology</td>\n",
       "      <td>City</td>\n",
       "      <td>1</td>\n",
       "      <td>...</td>\n",
       "      <td>101</td>\n",
       "      <td>108</td>\n",
       "      <td>89</td>\n",
       "      <td>61</td>\n",
       "      <td>73</td>\n",
       "      <td>Yes</td>\n",
       "      <td>10</td>\n",
       "      <td>0</td>\n",
       "      <td>19</td>\n",
       "      <td>9</td>\n",
       "    </tr>\n",
       "    <tr>\n",
       "      <th>1</th>\n",
       "      <td>Hifza</td>\n",
       "      <td>Alam</td>\n",
       "      <td>200404629</td>\n",
       "      <td>Dr. Kenny Kuo</td>\n",
       "      <td>Female</td>\n",
       "      <td>Asian</td>\n",
       "      <td>Biology - BS</td>\n",
       "      <td>Biology - BS</td>\n",
       "      <td>City</td>\n",
       "      <td>2</td>\n",
       "      <td>...</td>\n",
       "      <td>92</td>\n",
       "      <td>93</td>\n",
       "      <td>70</td>\n",
       "      <td>41</td>\n",
       "      <td>55</td>\n",
       "      <td>Yes</td>\n",
       "      <td>16</td>\n",
       "      <td>15</td>\n",
       "      <td>18</td>\n",
       "      <td>14</td>\n",
       "    </tr>\n",
       "    <tr>\n",
       "      <th>2</th>\n",
       "      <td>Ariba</td>\n",
       "      <td>Ali</td>\n",
       "      <td>200404663</td>\n",
       "      <td>Dr. Kenny Kuo</td>\n",
       "      <td>Female</td>\n",
       "      <td>Asian</td>\n",
       "      <td>Biology - BS</td>\n",
       "      <td>Biology - BS</td>\n",
       "      <td>City</td>\n",
       "      <td>3</td>\n",
       "      <td>...</td>\n",
       "      <td>106</td>\n",
       "      <td>108</td>\n",
       "      <td>110</td>\n",
       "      <td>54</td>\n",
       "      <td>85</td>\n",
       "      <td>Yes</td>\n",
       "      <td>-42</td>\n",
       "      <td>-3</td>\n",
       "      <td>13</td>\n",
       "      <td>0</td>\n",
       "    </tr>\n",
       "    <tr>\n",
       "      <th>3</th>\n",
       "      <td>Lexie</td>\n",
       "      <td>Allred</td>\n",
       "      <td>200394288</td>\n",
       "      <td>Dr. Kenny Kuo</td>\n",
       "      <td>Female</td>\n",
       "      <td>Caucasian; White</td>\n",
       "      <td>Biology - BS</td>\n",
       "      <td>Biology - BS</td>\n",
       "      <td>Rural Area</td>\n",
       "      <td>4</td>\n",
       "      <td>...</td>\n",
       "      <td>93</td>\n",
       "      <td>99</td>\n",
       "      <td>91</td>\n",
       "      <td>46</td>\n",
       "      <td>57</td>\n",
       "      <td>Yes</td>\n",
       "      <td>8</td>\n",
       "      <td>9</td>\n",
       "      <td>10</td>\n",
       "      <td>5</td>\n",
       "    </tr>\n",
       "    <tr>\n",
       "      <th>4</th>\n",
       "      <td>Fanuel</td>\n",
       "      <td>Andemariam</td>\n",
       "      <td>200430376</td>\n",
       "      <td>Dr. Kenny Kuo</td>\n",
       "      <td>Male</td>\n",
       "      <td>African-American; Black; African</td>\n",
       "      <td>Biochemistry</td>\n",
       "      <td>Biochemistry</td>\n",
       "      <td>City</td>\n",
       "      <td>5</td>\n",
       "      <td>...</td>\n",
       "      <td>90</td>\n",
       "      <td>91</td>\n",
       "      <td>69</td>\n",
       "      <td>40</td>\n",
       "      <td>51</td>\n",
       "      <td>Yes</td>\n",
       "      <td>3</td>\n",
       "      <td>7</td>\n",
       "      <td>6</td>\n",
       "      <td>-2</td>\n",
       "    </tr>\n",
       "  </tbody>\n",
       "</table>\n",
       "<p>5 rows × 86 columns</p>\n",
       "</div>"
      ],
      "text/plain": [
       "  First Name   Last Name  Student ID number LSC 101 Instructor  Gender  \\\n",
       "0      Bilal  Adam Malik          200398445    Dr. Erica Kosal    Male   \n",
       "1      Hifza        Alam          200404629      Dr. Kenny Kuo  Female   \n",
       "2      Ariba         Ali          200404663      Dr. Kenny Kuo  Female   \n",
       "3      Lexie      Allred          200394288      Dr. Kenny Kuo  Female   \n",
       "4     Fanuel  Andemariam          200430376      Dr. Kenny Kuo    Male   \n",
       "\n",
       "                               Race Intended Major_beginning  \\\n",
       "0                             Asian                  Zoology   \n",
       "1                             Asian             Biology - BS   \n",
       "2                             Asian             Biology - BS   \n",
       "3                  Caucasian; White             Biology - BS   \n",
       "4  African-American; Black; African             Biochemistry   \n",
       "\n",
       "  Intended Major_end Hometown Type_end  Deidentified Number  ...  \\\n",
       "0            Zoology              City                    1  ...   \n",
       "1       Biology - BS              City                    2  ...   \n",
       "2       Biology - BS              City                    3  ...   \n",
       "3       Biology - BS        Rural Area                    4  ...   \n",
       "4       Biochemistry              City                    5  ...   \n",
       "\n",
       "   OriginalitySA_end  AverageSA_end  RSFluency_end  RSFlexibility_end  \\\n",
       "0                101            108             89                 61   \n",
       "1                 92             93             70                 41   \n",
       "2                106            108            110                 54   \n",
       "3                 93             99             91                 46   \n",
       "4                 90             91             69                 40   \n",
       "\n",
       "   RSOriginality_end  Include Student data  average_diff  fluency_diff  \\\n",
       "0                 73                   Yes            10             0   \n",
       "1                 55                   Yes            16            15   \n",
       "2                 85                   Yes           -42            -3   \n",
       "3                 57                   Yes             8             9   \n",
       "4                 51                   Yes             3             7   \n",
       "\n",
       "   flexibility_diff  originality_diff  \n",
       "0                19                 9  \n",
       "1                18                14  \n",
       "2                13                 0  \n",
       "3                10                 5  \n",
       "4                 6                -2  \n",
       "\n",
       "[5 rows x 86 columns]"
      ]
     },
     "execution_count": 6,
     "metadata": {},
     "output_type": "execute_result"
    }
   ],
   "source": [
    "# create new score difference columns\n",
    "data['average_diff'] = data['AverageSA_end'] - data['AverageSA']\n",
    "data['fluency_diff'] = data['FluencySA_end'] - data['FluencySA']\n",
    "data['flexibility_diff'] = data['FlexibilitySA_end'] - data['FlexibilitySA']\n",
    "data['originality_diff'] = data['OriginalitySA_end'] - data['OriginalitySA']\n",
    "data.head()"
   ]
  },
  {
   "cell_type": "code",
   "execution_count": 7,
   "metadata": {},
   "outputs": [
    {
     "name": "stdout",
     "output_type": "stream",
     "text": [
      "Index(['First Name', 'Last Name', 'Student ID number', 'LSC 101 Instructor',\n",
      "       'Gender', 'Race', 'Intended Major_beginning', 'Intended Major_end',\n",
      "       'Hometown Type_end', 'Deidentified Number', 'unweighted_hs_gpa',\n",
      "       'weighted_hs_gpa', 'Quiz_Score_end', 'S1_beginning', 'S2_beginning',\n",
      "       'S3_beginning', 'S4_beginning', 'S5_beginning', 'S6_beginning',\n",
      "       'S7_beginning', 'S8_beginning', 'S9_beginning', 'S10_beginning',\n",
      "       'S11_beginning', 'S12_beginning', 'S13_beginning', 'Q12a_beginning',\n",
      "       'Q1_beginning', 'Q2_beginning', 'Q3_beginning', 'Q4_beginning',\n",
      "       'Q5_beginning', 'Q6_beginning', 'Q7_beginning', 'Q8_beginning',\n",
      "       'Q9_beginning', 'Q10_beginning', 'Q11_beginning', 'S1_end', 'S2_end',\n",
      "       'S3_end', 'S4_end', 'S5_end', 'S6_end', 'S7_end', 'S8_end', 'S9_end',\n",
      "       'S10_end', 'S11_end', 'S12_end', 'S13_end', 'Q12b_end', 'Q1_end',\n",
      "       'Q2_ end', 'Q4_end', 'Q5_end', 'Q6_end', 'Q7_end', 'Q8_end', 'Q9_end',\n",
      "       'Q10_end', 'Q11_end', 'Q1_extra_end', 'Q2_extra_end', 'Q3_extra_end',\n",
      "       'Q4_extra_end', 'Q5_extra_end', 'FluencySA', 'FlexibilitySA',\n",
      "       'OriginalitySA', 'AverageSA', 'RSFluency', 'RSFlexibility',\n",
      "       'RSOriginality', 'FluencySA_end', 'FlexibilitySA_end',\n",
      "       'OriginalitySA_end', 'AverageSA_end', 'RSFluency_end',\n",
      "       'RSFlexibility_end', 'RSOriginality_end', 'Include Student data',\n",
      "       'average_diff', 'fluency_diff', 'flexibility_diff', 'originality_diff'],\n",
      "      dtype='object')\n"
     ]
    }
   ],
   "source": [
    "# see column names to make sure new columns were added\n",
    "print(data.columns)"
   ]
  },
  {
   "cell_type": "markdown",
   "metadata": {},
   "source": [
    "## Research Idea 1"
   ]
  },
  {
   "cell_type": "markdown",
   "metadata": {},
   "source": [
    "### Check Assumptions"
   ]
  },
  {
   "cell_type": "code",
   "execution_count": 8,
   "metadata": {},
   "outputs": [],
   "source": [
    "# create box plots for 4 dimensions score differences to check for outliers\n",
    "df_box = data[['fluency_diff', 'flexibility_diff', 'originality_diff', 'average_diff']]"
   ]
  },
  {
   "cell_type": "code",
   "execution_count": 9,
   "metadata": {},
   "outputs": [
    {
     "data": {
      "text/plain": [
       "Text(0.5, 1.0, 'Box Plots of Matched Pair Differences for each Dimension')"
      ]
     },
     "execution_count": 9,
     "metadata": {},
     "output_type": "execute_result"
    },
    {
     "data": {
      "image/png": "[encoded data removed]",
      "text/plain": [
       "<Figure size 432x288 with 1 Axes>"
      ]
     },
     "metadata": {
      "needs_background": "light"
     },
     "output_type": "display_data"
    }
   ],
   "source": [
    "ax = sns.boxplot(data=df_box, orient='h', palette='Set2')\n",
    "plt.xlabel('Matched Pair Difference')\n",
    "plt.ylabel('Variable')\n",
    "           \n",
    "# displaying the title\n",
    "plt.title(\"Box Plots of Matched Pair Differences for each Dimension\")"
   ]
  },
  {
   "cell_type": "code",
   "execution_count": 10,
   "metadata": {},
   "outputs": [],
   "source": [
    "# Use Tukey's method to find outliers\n",
    "def tukeys_method(df, variable):\n",
    "    #Takes two parameters: dataframe & variable of interest as string\n",
    "    q1 = df[variable].quantile(0.25)\n",
    "    q3 = df[variable].quantile(0.75)\n",
    "    iqr = q3-q1\n",
    "    inner_fence = 1.5*iqr\n",
    "    outer_fence = 3*iqr\n",
    "    \n",
    "    #inner fence lower and upper end\n",
    "    inner_fence_le = q1-inner_fence\n",
    "    inner_fence_ue = q3+inner_fence\n",
    "    \n",
    "    #outer fence lower and upper end\n",
    "    outer_fence_le = q1-outer_fence\n",
    "    outer_fence_ue = q3+outer_fence\n",
    "    \n",
    "    outliers_prob = []\n",
    "    outliers_poss = []\n",
    "    for index, x in enumerate(df[variable]):\n",
    "        if x <= outer_fence_le or x >= outer_fence_ue:\n",
    "            outliers_prob.append(index)\n",
    "    for index, x in enumerate(df[variable]):\n",
    "        if x <= inner_fence_le or x >= inner_fence_ue:\n",
    "            outliers_poss.append(index)\n",
    "    return outliers_prob, outliers_poss"
   ]
  },
  {
   "cell_type": "code",
   "execution_count": 11,
   "metadata": {},
   "outputs": [
    {
     "name": "stdout",
     "output_type": "stream",
     "text": [
      "[76]\n"
     ]
    }
   ],
   "source": [
    "# find probable and possible outliers for average score difference\n",
    "probable_outliers_avg, possible_outliers_avg = tukeys_method(data, \"average_diff\")\n",
    "print(probable_outliers_avg)"
   ]
  },
  {
   "cell_type": "code",
   "execution_count": 12,
   "metadata": {},
   "outputs": [
    {
     "name": "stdout",
     "output_type": "stream",
     "text": [
      "[2, 34, 76, 78, 107, 112]\n"
     ]
    }
   ],
   "source": [
    "print(possible_outliers_avg)"
   ]
  },
  {
   "cell_type": "code",
   "execution_count": 13,
   "metadata": {},
   "outputs": [
    {
     "name": "stdout",
     "output_type": "stream",
     "text": [
      "[]\n"
     ]
    }
   ],
   "source": [
    "# find probable and possible outliers for flexibility score difference\n",
    "probable_outliers_flex, possible_outliers_flex = tukeys_method(data, \"flexibility_diff\")\n",
    "print(probable_outliers_flex)"
   ]
  },
  {
   "cell_type": "code",
   "execution_count": 14,
   "metadata": {},
   "outputs": [
    {
     "name": "stdout",
     "output_type": "stream",
     "text": [
      "[49, 76, 78, 107]\n"
     ]
    }
   ],
   "source": [
    "print(possible_outliers_flex)"
   ]
  },
  {
   "cell_type": "code",
   "execution_count": 15,
   "metadata": {},
   "outputs": [
    {
     "name": "stdout",
     "output_type": "stream",
     "text": [
      "[]\n"
     ]
    }
   ],
   "source": [
    "# find probable and possible outliers for fluency score difference\n",
    "probable_outliers_fluen, possible_outliers_fluen = tukeys_method(data, \"fluency_diff\")\n",
    "print(probable_outliers_fluen)"
   ]
  },
  {
   "cell_type": "code",
   "execution_count": 16,
   "metadata": {},
   "outputs": [
    {
     "name": "stdout",
     "output_type": "stream",
     "text": [
      "[34, 76, 78]\n"
     ]
    }
   ],
   "source": [
    "print(possible_outliers_fluen)"
   ]
  },
  {
   "cell_type": "code",
   "execution_count": 17,
   "metadata": {},
   "outputs": [
    {
     "name": "stdout",
     "output_type": "stream",
     "text": [
      "[76]\n"
     ]
    }
   ],
   "source": [
    "# find probable and possible outliers for originality score difference\n",
    "probable_outliers_orig, possible_outliers_orig = tukeys_method(data, \"originality_diff\")\n",
    "print(probable_outliers_orig)"
   ]
  },
  {
   "cell_type": "code",
   "execution_count": 18,
   "metadata": {},
   "outputs": [
    {
     "name": "stdout",
     "output_type": "stream",
     "text": [
      "[27, 76, 106, 112]\n"
     ]
    }
   ],
   "source": [
    "print(possible_outliers_orig)"
   ]
  },
  {
   "cell_type": "code",
   "execution_count": 19,
   "metadata": {},
   "outputs": [
    {
     "name": "stderr",
     "output_type": "stream",
     "text": [
      "/Library/Frameworks/Python.framework/Versions/3.8/lib/python3.8/site-packages/seaborn/distributions.py:2619: FutureWarning: `distplot` is a deprecated function and will be removed in a future version. Please adapt your code to use either `displot` (a figure-level function with similar flexibility) or `histplot` (an axes-level function for histograms).\n",
      "  warnings.warn(msg, FutureWarning)\n"
     ]
    },
    {
     "data": {
      "text/plain": [
       "Text(0.5, 1.0, 'Histogram of Matched Pair Differences for Average')"
      ]
     },
     "execution_count": 19,
     "metadata": {},
     "output_type": "execute_result"
    },
    {
     "data": {
      "image/png": "[encoded data removed]",
      "text/plain": [
       "<Figure size 432x288 with 1 Axes>"
      ]
     },
     "metadata": {},
     "output_type": "display_data"
    }
   ],
   "source": [
    "# create histograms for average score difference to check for normality\n",
    "sns.set_style('darkgrid')\n",
    "sns.distplot(data['average_diff'])\n",
    "plt.title(\"Histogram of Matched Pair Differences for Average\")"
   ]
  },
  {
   "cell_type": "code",
   "execution_count": 20,
   "metadata": {},
   "outputs": [
    {
     "name": "stderr",
     "output_type": "stream",
     "text": [
      "/Library/Frameworks/Python.framework/Versions/3.8/lib/python3.8/site-packages/seaborn/distributions.py:2619: FutureWarning: `distplot` is a deprecated function and will be removed in a future version. Please adapt your code to use either `displot` (a figure-level function with similar flexibility) or `histplot` (an axes-level function for histograms).\n",
      "  warnings.warn(msg, FutureWarning)\n"
     ]
    },
    {
     "data": {
      "text/plain": [
       "Text(0.5, 1.0, 'Histogram of Matched Pair Differences for Flexibility')"
      ]
     },
     "execution_count": 20,
     "metadata": {},
     "output_type": "execute_result"
    },
    {
     "data": {
      "image/png": "[encoded data removed]",
      "text/plain": [
       "<Figure size 432x288 with 1 Axes>"
      ]
     },
     "metadata": {},
     "output_type": "display_data"
    }
   ],
   "source": [
    "# create histograms for flexibility score difference to check for normality\n",
    "sns.set_style('darkgrid')\n",
    "sns.distplot(data['flexibility_diff'])\n",
    "plt.title(\"Histogram of Matched Pair Differences for Flexibility\")"
   ]
  },
  {
   "cell_type": "code",
   "execution_count": 21,
   "metadata": {},
   "outputs": [
    {
     "name": "stderr",
     "output_type": "stream",
     "text": [
      "/Library/Frameworks/Python.framework/Versions/3.8/lib/python3.8/site-packages/seaborn/distributions.py:2619: FutureWarning: `distplot` is a deprecated function and will be removed in a future version. Please adapt your code to use either `displot` (a figure-level function with similar flexibility) or `histplot` (an axes-level function for histograms).\n",
      "  warnings.warn(msg, FutureWarning)\n"
     ]
    },
    {
     "data": {
      "text/plain": [
       "Text(0.5, 1.0, 'Histogram of Matched Pair Differences for Fluency')"
      ]
     },
     "execution_count": 21,
     "metadata": {},
     "output_type": "execute_result"
    },
    {
     "data": {
      "image/png": "[encoded data removed]",
      "text/plain": [
       "<Figure size 432x288 with 1 Axes>"
      ]
     },
     "metadata": {},
     "output_type": "display_data"
    }
   ],
   "source": [
    "# create histograms for fluency score difference to check for normality\n",
    "sns.set_style('darkgrid')\n",
    "sns.distplot(data['fluency_diff'])\n",
    "plt.title(\"Histogram of Matched Pair Differences for Fluency\")"
   ]
  },
  {
   "cell_type": "code",
   "execution_count": 22,
   "metadata": {},
   "outputs": [
    {
     "name": "stderr",
     "output_type": "stream",
     "text": [
      "/Library/Frameworks/Python.framework/Versions/3.8/lib/python3.8/site-packages/seaborn/distributions.py:2619: FutureWarning: `distplot` is a deprecated function and will be removed in a future version. Please adapt your code to use either `displot` (a figure-level function with similar flexibility) or `histplot` (an axes-level function for histograms).\n",
      "  warnings.warn(msg, FutureWarning)\n"
     ]
    },
    {
     "data": {
      "text/plain": [
       "Text(0.5, 1.0, 'Histogram of Matched Pair Differences for Originality')"
      ]
     },
     "execution_count": 22,
     "metadata": {},
     "output_type": "execute_result"
    },
    {
     "data": {
      "image/png": "[encoded data removed]",
      "text/plain": [
       "<Figure size 432x288 with 1 Axes>"
      ]
     },
     "metadata": {},
     "output_type": "display_data"
    }
   ],
   "source": [
    "# create histograms for originality score difference to check for normality\n",
    "sns.set_style('darkgrid')\n",
    "sns.distplot(data['originality_diff'])\n",
    "plt.title(\"Histogram of Matched Pair Differences for Originality\")"
   ]
  },
  {
   "cell_type": "markdown",
   "metadata": {},
   "source": [
    "### Paired Sample t-Tests (w/ obs.76)"
   ]
  },
  {
   "cell_type": "code",
   "execution_count": 23,
   "metadata": {
    "tags": []
   },
   "outputs": [
    {
     "data": {
      "text/html": [
       "<div>\n",
       "<style scoped>\n",
       "    .dataframe tbody tr th:only-of-type {\n",
       "        vertical-align: middle;\n",
       "    }\n",
       "\n",
       "    .dataframe tbody tr th {\n",
       "        vertical-align: top;\n",
       "    }\n",
       "\n",
       "    .dataframe thead th {\n",
       "        text-align: right;\n",
       "    }\n",
       "</style>\n",
       "<table border=\"1\" class=\"dataframe\">\n",
       "  <thead>\n",
       "    <tr style=\"text-align: right;\">\n",
       "      <th></th>\n",
       "      <th>AverageSA</th>\n",
       "      <th>AverageSA_end</th>\n",
       "    </tr>\n",
       "  </thead>\n",
       "  <tbody>\n",
       "    <tr>\n",
       "      <th>count</th>\n",
       "      <td>198.00</td>\n",
       "      <td>198.00</td>\n",
       "    </tr>\n",
       "    <tr>\n",
       "      <th>mean</th>\n",
       "      <td>89.65</td>\n",
       "      <td>92.70</td>\n",
       "    </tr>\n",
       "    <tr>\n",
       "      <th>std</th>\n",
       "      <td>14.27</td>\n",
       "      <td>10.75</td>\n",
       "    </tr>\n",
       "    <tr>\n",
       "      <th>min</th>\n",
       "      <td>61.00</td>\n",
       "      <td>50.00</td>\n",
       "    </tr>\n",
       "    <tr>\n",
       "      <th>25%</th>\n",
       "      <td>80.00</td>\n",
       "      <td>87.00</td>\n",
       "    </tr>\n",
       "    <tr>\n",
       "      <th>50%</th>\n",
       "      <td>87.50</td>\n",
       "      <td>92.00</td>\n",
       "    </tr>\n",
       "    <tr>\n",
       "      <th>75%</th>\n",
       "      <td>98.00</td>\n",
       "      <td>100.00</td>\n",
       "    </tr>\n",
       "    <tr>\n",
       "      <th>max</th>\n",
       "      <td>150.00</td>\n",
       "      <td>126.00</td>\n",
       "    </tr>\n",
       "  </tbody>\n",
       "</table>\n",
       "</div>"
      ],
      "text/plain": [
       "       AverageSA  AverageSA_end\n",
       "count     198.00         198.00\n",
       "mean       89.65          92.70\n",
       "std        14.27          10.75\n",
       "min        61.00          50.00\n",
       "25%        80.00          87.00\n",
       "50%        87.50          92.00\n",
       "75%        98.00         100.00\n",
       "max       150.00         126.00"
      ]
     },
     "execution_count": 23,
     "metadata": {},
     "output_type": "execute_result"
    }
   ],
   "source": [
    "# look at data\n",
    "round(data[['AverageSA', 'AverageSA_end']].describe(),2)"
   ]
  },
  {
   "cell_type": "code",
   "execution_count": 24,
   "metadata": {
    "tags": []
   },
   "outputs": [
    {
     "data": {
      "text/html": [
       "<div>\n",
       "<style scoped>\n",
       "    .dataframe tbody tr th:only-of-type {\n",
       "        vertical-align: middle;\n",
       "    }\n",
       "\n",
       "    .dataframe tbody tr th {\n",
       "        vertical-align: top;\n",
       "    }\n",
       "\n",
       "    .dataframe thead th {\n",
       "        text-align: right;\n",
       "    }\n",
       "</style>\n",
       "<table border=\"1\" class=\"dataframe\">\n",
       "  <thead>\n",
       "    <tr style=\"text-align: right;\">\n",
       "      <th></th>\n",
       "      <th>FluencySA</th>\n",
       "      <th>FluencySA_end</th>\n",
       "    </tr>\n",
       "  </thead>\n",
       "  <tbody>\n",
       "    <tr>\n",
       "      <th>count</th>\n",
       "      <td>198.00</td>\n",
       "      <td>198.00</td>\n",
       "    </tr>\n",
       "    <tr>\n",
       "      <th>mean</th>\n",
       "      <td>90.14</td>\n",
       "      <td>93.04</td>\n",
       "    </tr>\n",
       "    <tr>\n",
       "      <th>std</th>\n",
       "      <td>14.00</td>\n",
       "      <td>10.55</td>\n",
       "    </tr>\n",
       "    <tr>\n",
       "      <th>min</th>\n",
       "      <td>62.00</td>\n",
       "      <td>49.00</td>\n",
       "    </tr>\n",
       "    <tr>\n",
       "      <th>25%</th>\n",
       "      <td>80.25</td>\n",
       "      <td>88.00</td>\n",
       "    </tr>\n",
       "    <tr>\n",
       "      <th>50%</th>\n",
       "      <td>89.00</td>\n",
       "      <td>93.50</td>\n",
       "    </tr>\n",
       "    <tr>\n",
       "      <th>75%</th>\n",
       "      <td>100.00</td>\n",
       "      <td>99.00</td>\n",
       "    </tr>\n",
       "    <tr>\n",
       "      <th>max</th>\n",
       "      <td>135.00</td>\n",
       "      <td>123.00</td>\n",
       "    </tr>\n",
       "  </tbody>\n",
       "</table>\n",
       "</div>"
      ],
      "text/plain": [
       "       FluencySA  FluencySA_end\n",
       "count     198.00         198.00\n",
       "mean       90.14          93.04\n",
       "std        14.00          10.55\n",
       "min        62.00          49.00\n",
       "25%        80.25          88.00\n",
       "50%        89.00          93.50\n",
       "75%       100.00          99.00\n",
       "max       135.00         123.00"
      ]
     },
     "execution_count": 24,
     "metadata": {},
     "output_type": "execute_result"
    }
   ],
   "source": [
    "# look at data\n",
    "round(data[['FluencySA', 'FluencySA_end']].describe(),2)"
   ]
  },
  {
   "cell_type": "code",
   "execution_count": 25,
   "metadata": {
    "tags": []
   },
   "outputs": [
    {
     "data": {
      "text/html": [
       "<div>\n",
       "<style scoped>\n",
       "    .dataframe tbody tr th:only-of-type {\n",
       "        vertical-align: middle;\n",
       "    }\n",
       "\n",
       "    .dataframe tbody tr th {\n",
       "        vertical-align: top;\n",
       "    }\n",
       "\n",
       "    .dataframe thead th {\n",
       "        text-align: right;\n",
       "    }\n",
       "</style>\n",
       "<table border=\"1\" class=\"dataframe\">\n",
       "  <thead>\n",
       "    <tr style=\"text-align: right;\">\n",
       "      <th></th>\n",
       "      <th>FlexibilitySA</th>\n",
       "      <th>FlexibilitySA_end</th>\n",
       "    </tr>\n",
       "  </thead>\n",
       "  <tbody>\n",
       "    <tr>\n",
       "      <th>count</th>\n",
       "      <td>198.00</td>\n",
       "      <td>198.00</td>\n",
       "    </tr>\n",
       "    <tr>\n",
       "      <th>mean</th>\n",
       "      <td>89.68</td>\n",
       "      <td>93.44</td>\n",
       "    </tr>\n",
       "    <tr>\n",
       "      <th>std</th>\n",
       "      <td>13.94</td>\n",
       "      <td>12.67</td>\n",
       "    </tr>\n",
       "    <tr>\n",
       "      <th>min</th>\n",
       "      <td>62.00</td>\n",
       "      <td>50.00</td>\n",
       "    </tr>\n",
       "    <tr>\n",
       "      <th>25%</th>\n",
       "      <td>80.00</td>\n",
       "      <td>84.00</td>\n",
       "    </tr>\n",
       "    <tr>\n",
       "      <th>50%</th>\n",
       "      <td>87.00</td>\n",
       "      <td>93.00</td>\n",
       "    </tr>\n",
       "    <tr>\n",
       "      <th>75%</th>\n",
       "      <td>98.00</td>\n",
       "      <td>103.00</td>\n",
       "    </tr>\n",
       "    <tr>\n",
       "      <th>max</th>\n",
       "      <td>138.00</td>\n",
       "      <td>138.00</td>\n",
       "    </tr>\n",
       "  </tbody>\n",
       "</table>\n",
       "</div>"
      ],
      "text/plain": [
       "       FlexibilitySA  FlexibilitySA_end\n",
       "count         198.00             198.00\n",
       "mean           89.68              93.44\n",
       "std            13.94              12.67\n",
       "min            62.00              50.00\n",
       "25%            80.00              84.00\n",
       "50%            87.00              93.00\n",
       "75%            98.00             103.00\n",
       "max           138.00             138.00"
      ]
     },
     "execution_count": 25,
     "metadata": {},
     "output_type": "execute_result"
    }
   ],
   "source": [
    "# look at data\n",
    "round(data[['FlexibilitySA', 'FlexibilitySA_end']].describe(),2)"
   ]
  },
  {
   "cell_type": "code",
   "execution_count": 26,
   "metadata": {
    "tags": []
   },
   "outputs": [
    {
     "data": {
      "text/html": [
       "<div>\n",
       "<style scoped>\n",
       "    .dataframe tbody tr th:only-of-type {\n",
       "        vertical-align: middle;\n",
       "    }\n",
       "\n",
       "    .dataframe tbody tr th {\n",
       "        vertical-align: top;\n",
       "    }\n",
       "\n",
       "    .dataframe thead th {\n",
       "        text-align: right;\n",
       "    }\n",
       "</style>\n",
       "<table border=\"1\" class=\"dataframe\">\n",
       "  <thead>\n",
       "    <tr style=\"text-align: right;\">\n",
       "      <th></th>\n",
       "      <th>OriginalitySA</th>\n",
       "      <th>OriginalitySA_end</th>\n",
       "    </tr>\n",
       "  </thead>\n",
       "  <tbody>\n",
       "    <tr>\n",
       "      <th>count</th>\n",
       "      <td>198.00</td>\n",
       "      <td>198.00</td>\n",
       "    </tr>\n",
       "    <tr>\n",
       "      <th>mean</th>\n",
       "      <td>88.38</td>\n",
       "      <td>91.62</td>\n",
       "    </tr>\n",
       "    <tr>\n",
       "      <th>std</th>\n",
       "      <td>14.60</td>\n",
       "      <td>10.59</td>\n",
       "    </tr>\n",
       "    <tr>\n",
       "      <th>min</th>\n",
       "      <td>59.00</td>\n",
       "      <td>50.00</td>\n",
       "    </tr>\n",
       "    <tr>\n",
       "      <th>25%</th>\n",
       "      <td>78.00</td>\n",
       "      <td>87.00</td>\n",
       "    </tr>\n",
       "    <tr>\n",
       "      <th>50%</th>\n",
       "      <td>86.00</td>\n",
       "      <td>92.00</td>\n",
       "    </tr>\n",
       "    <tr>\n",
       "      <th>75%</th>\n",
       "      <td>98.75</td>\n",
       "      <td>98.00</td>\n",
       "    </tr>\n",
       "    <tr>\n",
       "      <th>max</th>\n",
       "      <td>135.00</td>\n",
       "      <td>120.00</td>\n",
       "    </tr>\n",
       "  </tbody>\n",
       "</table>\n",
       "</div>"
      ],
      "text/plain": [
       "       OriginalitySA  OriginalitySA_end\n",
       "count         198.00             198.00\n",
       "mean           88.38              91.62\n",
       "std            14.60              10.59\n",
       "min            59.00              50.00\n",
       "25%            78.00              87.00\n",
       "50%            86.00              92.00\n",
       "75%            98.75              98.00\n",
       "max           135.00             120.00"
      ]
     },
     "execution_count": 26,
     "metadata": {},
     "output_type": "execute_result"
    }
   ],
   "source": [
    "# look at data\n",
    "round(data[['OriginalitySA', 'OriginalitySA_end']].describe(),2)"
   ]
  },
  {
   "cell_type": "code",
   "execution_count": 27,
   "metadata": {},
   "outputs": [
    {
     "data": {
      "text/plain": [
       "Ttest_relResult(statistic=-3.3377926918853995, pvalue=0.0010095940327564084)"
      ]
     },
     "execution_count": 27,
     "metadata": {},
     "output_type": "execute_result"
    }
   ],
   "source": [
    "# t-test results\n",
    "stats.ttest_rel(data['AverageSA'], data['AverageSA_end'])"
   ]
  },
  {
   "cell_type": "code",
   "execution_count": 28,
   "metadata": {},
   "outputs": [
    {
     "data": {
      "text/plain": [
       "Ttest_relResult(statistic=-3.274476767752805, pvalue=0.001250478056484666)"
      ]
     },
     "execution_count": 28,
     "metadata": {},
     "output_type": "execute_result"
    }
   ],
   "source": [
    "# t-test results\n",
    "stats.ttest_rel(data['FluencySA'], data['FluencySA_end'])"
   ]
  },
  {
   "cell_type": "code",
   "execution_count": 29,
   "metadata": {},
   "outputs": [
    {
     "data": {
      "text/plain": [
       "Ttest_relResult(statistic=-3.859636588896456, pvalue=0.00015386950752495595)"
      ]
     },
     "execution_count": 29,
     "metadata": {},
     "output_type": "execute_result"
    }
   ],
   "source": [
    "# t-test results\n",
    "stats.ttest_rel(data['FlexibilitySA'], data['FlexibilitySA_end'])"
   ]
  },
  {
   "cell_type": "code",
   "execution_count": 30,
   "metadata": {},
   "outputs": [
    {
     "data": {
      "text/plain": [
       "Ttest_relResult(statistic=-3.401249777227825, pvalue=0.000812172041054233)"
      ]
     },
     "execution_count": 30,
     "metadata": {},
     "output_type": "execute_result"
    }
   ],
   "source": [
    "# t-test results\n",
    "stats.ttest_rel(data['OriginalitySA'], data['OriginalitySA_end'])"
   ]
  },
  {
   "cell_type": "markdown",
   "metadata": {},
   "source": [
    "### Paired Sample t-Tests (w/out obs.76)"
   ]
  },
  {
   "cell_type": "code",
   "execution_count": 31,
   "metadata": {},
   "outputs": [],
   "source": [
    "# drop 76th row (probable outlier)\n",
    "new_data = data.drop(index=data.index[76],\n",
    "                     axis=0, \n",
    "                     inplace=False)"
   ]
  },
  {
   "cell_type": "code",
   "execution_count": 32,
   "metadata": {},
   "outputs": [
    {
     "data": {
      "text/plain": [
       "(197, 86)"
      ]
     },
     "execution_count": 32,
     "metadata": {},
     "output_type": "execute_result"
    }
   ],
   "source": [
    "# make sure we have 1 less observation in data\n",
    "new_data.shape"
   ]
  },
  {
   "cell_type": "code",
   "execution_count": 33,
   "metadata": {
    "tags": []
   },
   "outputs": [
    {
     "data": {
      "text/html": [
       "<div>\n",
       "<style scoped>\n",
       "    .dataframe tbody tr th:only-of-type {\n",
       "        vertical-align: middle;\n",
       "    }\n",
       "\n",
       "    .dataframe tbody tr th {\n",
       "        vertical-align: top;\n",
       "    }\n",
       "\n",
       "    .dataframe thead th {\n",
       "        text-align: right;\n",
       "    }\n",
       "</style>\n",
       "<table border=\"1\" class=\"dataframe\">\n",
       "  <thead>\n",
       "    <tr style=\"text-align: right;\">\n",
       "      <th></th>\n",
       "      <th>AverageSA</th>\n",
       "      <th>AverageSA_end</th>\n",
       "    </tr>\n",
       "  </thead>\n",
       "  <tbody>\n",
       "    <tr>\n",
       "      <th>count</th>\n",
       "      <td>197.00</td>\n",
       "      <td>197.00</td>\n",
       "    </tr>\n",
       "    <tr>\n",
       "      <th>mean</th>\n",
       "      <td>89.54</td>\n",
       "      <td>92.88</td>\n",
       "    </tr>\n",
       "    <tr>\n",
       "      <th>std</th>\n",
       "      <td>14.22</td>\n",
       "      <td>10.47</td>\n",
       "    </tr>\n",
       "    <tr>\n",
       "      <th>min</th>\n",
       "      <td>61.00</td>\n",
       "      <td>50.00</td>\n",
       "    </tr>\n",
       "    <tr>\n",
       "      <th>25%</th>\n",
       "      <td>80.00</td>\n",
       "      <td>87.00</td>\n",
       "    </tr>\n",
       "    <tr>\n",
       "      <th>50%</th>\n",
       "      <td>87.00</td>\n",
       "      <td>92.00</td>\n",
       "    </tr>\n",
       "    <tr>\n",
       "      <th>75%</th>\n",
       "      <td>98.00</td>\n",
       "      <td>100.00</td>\n",
       "    </tr>\n",
       "    <tr>\n",
       "      <th>max</th>\n",
       "      <td>150.00</td>\n",
       "      <td>126.00</td>\n",
       "    </tr>\n",
       "  </tbody>\n",
       "</table>\n",
       "</div>"
      ],
      "text/plain": [
       "       AverageSA  AverageSA_end\n",
       "count     197.00         197.00\n",
       "mean       89.54          92.88\n",
       "std        14.22          10.47\n",
       "min        61.00          50.00\n",
       "25%        80.00          87.00\n",
       "50%        87.00          92.00\n",
       "75%        98.00         100.00\n",
       "max       150.00         126.00"
      ]
     },
     "execution_count": 33,
     "metadata": {},
     "output_type": "execute_result"
    }
   ],
   "source": [
    "# look at data\n",
    "round(new_data[['AverageSA', 'AverageSA_end']].describe(),2)"
   ]
  },
  {
   "cell_type": "code",
   "execution_count": 34,
   "metadata": {
    "tags": []
   },
   "outputs": [
    {
     "data": {
      "text/html": [
       "<div>\n",
       "<style scoped>\n",
       "    .dataframe tbody tr th:only-of-type {\n",
       "        vertical-align: middle;\n",
       "    }\n",
       "\n",
       "    .dataframe tbody tr th {\n",
       "        vertical-align: top;\n",
       "    }\n",
       "\n",
       "    .dataframe thead th {\n",
       "        text-align: right;\n",
       "    }\n",
       "</style>\n",
       "<table border=\"1\" class=\"dataframe\">\n",
       "  <thead>\n",
       "    <tr style=\"text-align: right;\">\n",
       "      <th></th>\n",
       "      <th>FluencySA</th>\n",
       "      <th>FluencySA_end</th>\n",
       "    </tr>\n",
       "  </thead>\n",
       "  <tbody>\n",
       "    <tr>\n",
       "      <th>count</th>\n",
       "      <td>197.00</td>\n",
       "      <td>197.00</td>\n",
       "    </tr>\n",
       "    <tr>\n",
       "      <th>mean</th>\n",
       "      <td>90.05</td>\n",
       "      <td>93.21</td>\n",
       "    </tr>\n",
       "    <tr>\n",
       "      <th>std</th>\n",
       "      <td>13.98</td>\n",
       "      <td>10.29</td>\n",
       "    </tr>\n",
       "    <tr>\n",
       "      <th>min</th>\n",
       "      <td>62.00</td>\n",
       "      <td>49.00</td>\n",
       "    </tr>\n",
       "    <tr>\n",
       "      <th>25%</th>\n",
       "      <td>80.00</td>\n",
       "      <td>88.00</td>\n",
       "    </tr>\n",
       "    <tr>\n",
       "      <th>50%</th>\n",
       "      <td>89.00</td>\n",
       "      <td>94.00</td>\n",
       "    </tr>\n",
       "    <tr>\n",
       "      <th>75%</th>\n",
       "      <td>100.00</td>\n",
       "      <td>99.00</td>\n",
       "    </tr>\n",
       "    <tr>\n",
       "      <th>max</th>\n",
       "      <td>135.00</td>\n",
       "      <td>123.00</td>\n",
       "    </tr>\n",
       "  </tbody>\n",
       "</table>\n",
       "</div>"
      ],
      "text/plain": [
       "       FluencySA  FluencySA_end\n",
       "count     197.00         197.00\n",
       "mean       90.05          93.21\n",
       "std        13.98          10.29\n",
       "min        62.00          49.00\n",
       "25%        80.00          88.00\n",
       "50%        89.00          94.00\n",
       "75%       100.00          99.00\n",
       "max       135.00         123.00"
      ]
     },
     "execution_count": 34,
     "metadata": {},
     "output_type": "execute_result"
    }
   ],
   "source": [
    "# look at data\n",
    "round(new_data[['FluencySA', 'FluencySA_end']].describe(),2)"
   ]
  },
  {
   "cell_type": "code",
   "execution_count": 35,
   "metadata": {
    "tags": []
   },
   "outputs": [
    {
     "data": {
      "text/html": [
       "<div>\n",
       "<style scoped>\n",
       "    .dataframe tbody tr th:only-of-type {\n",
       "        vertical-align: middle;\n",
       "    }\n",
       "\n",
       "    .dataframe tbody tr th {\n",
       "        vertical-align: top;\n",
       "    }\n",
       "\n",
       "    .dataframe thead th {\n",
       "        text-align: right;\n",
       "    }\n",
       "</style>\n",
       "<table border=\"1\" class=\"dataframe\">\n",
       "  <thead>\n",
       "    <tr style=\"text-align: right;\">\n",
       "      <th></th>\n",
       "      <th>FlexibilitySA</th>\n",
       "      <th>FlexibilitySA_end</th>\n",
       "    </tr>\n",
       "  </thead>\n",
       "  <tbody>\n",
       "    <tr>\n",
       "      <th>count</th>\n",
       "      <td>197.00</td>\n",
       "      <td>197.00</td>\n",
       "    </tr>\n",
       "    <tr>\n",
       "      <th>mean</th>\n",
       "      <td>89.56</td>\n",
       "      <td>93.62</td>\n",
       "    </tr>\n",
       "    <tr>\n",
       "      <th>std</th>\n",
       "      <td>13.87</td>\n",
       "      <td>12.46</td>\n",
       "    </tr>\n",
       "    <tr>\n",
       "      <th>min</th>\n",
       "      <td>62.00</td>\n",
       "      <td>50.00</td>\n",
       "    </tr>\n",
       "    <tr>\n",
       "      <th>25%</th>\n",
       "      <td>80.00</td>\n",
       "      <td>84.00</td>\n",
       "    </tr>\n",
       "    <tr>\n",
       "      <th>50%</th>\n",
       "      <td>87.00</td>\n",
       "      <td>93.00</td>\n",
       "    </tr>\n",
       "    <tr>\n",
       "      <th>75%</th>\n",
       "      <td>98.00</td>\n",
       "      <td>103.00</td>\n",
       "    </tr>\n",
       "    <tr>\n",
       "      <th>max</th>\n",
       "      <td>138.00</td>\n",
       "      <td>138.00</td>\n",
       "    </tr>\n",
       "  </tbody>\n",
       "</table>\n",
       "</div>"
      ],
      "text/plain": [
       "       FlexibilitySA  FlexibilitySA_end\n",
       "count         197.00             197.00\n",
       "mean           89.56              93.62\n",
       "std            13.87              12.46\n",
       "min            62.00              50.00\n",
       "25%            80.00              84.00\n",
       "50%            87.00              93.00\n",
       "75%            98.00             103.00\n",
       "max           138.00             138.00"
      ]
     },
     "execution_count": 35,
     "metadata": {},
     "output_type": "execute_result"
    }
   ],
   "source": [
    "# look at data\n",
    "round(new_data[['FlexibilitySA', 'FlexibilitySA_end']].describe(),2)"
   ]
  },
  {
   "cell_type": "code",
   "execution_count": 36,
   "metadata": {
    "tags": []
   },
   "outputs": [
    {
     "data": {
      "text/html": [
       "<div>\n",
       "<style scoped>\n",
       "    .dataframe tbody tr th:only-of-type {\n",
       "        vertical-align: middle;\n",
       "    }\n",
       "\n",
       "    .dataframe tbody tr th {\n",
       "        vertical-align: top;\n",
       "    }\n",
       "\n",
       "    .dataframe thead th {\n",
       "        text-align: right;\n",
       "    }\n",
       "</style>\n",
       "<table border=\"1\" class=\"dataframe\">\n",
       "  <thead>\n",
       "    <tr style=\"text-align: right;\">\n",
       "      <th></th>\n",
       "      <th>OriginalitySA</th>\n",
       "      <th>OriginalitySA_end</th>\n",
       "    </tr>\n",
       "  </thead>\n",
       "  <tbody>\n",
       "    <tr>\n",
       "      <th>count</th>\n",
       "      <td>197.00</td>\n",
       "      <td>197.00</td>\n",
       "    </tr>\n",
       "    <tr>\n",
       "      <th>mean</th>\n",
       "      <td>88.26</td>\n",
       "      <td>91.82</td>\n",
       "    </tr>\n",
       "    <tr>\n",
       "      <th>std</th>\n",
       "      <td>14.53</td>\n",
       "      <td>10.23</td>\n",
       "    </tr>\n",
       "    <tr>\n",
       "      <th>min</th>\n",
       "      <td>59.00</td>\n",
       "      <td>50.00</td>\n",
       "    </tr>\n",
       "    <tr>\n",
       "      <th>25%</th>\n",
       "      <td>78.00</td>\n",
       "      <td>87.00</td>\n",
       "    </tr>\n",
       "    <tr>\n",
       "      <th>50%</th>\n",
       "      <td>85.00</td>\n",
       "      <td>92.00</td>\n",
       "    </tr>\n",
       "    <tr>\n",
       "      <th>75%</th>\n",
       "      <td>98.00</td>\n",
       "      <td>98.00</td>\n",
       "    </tr>\n",
       "    <tr>\n",
       "      <th>max</th>\n",
       "      <td>135.00</td>\n",
       "      <td>120.00</td>\n",
       "    </tr>\n",
       "  </tbody>\n",
       "</table>\n",
       "</div>"
      ],
      "text/plain": [
       "       OriginalitySA  OriginalitySA_end\n",
       "count         197.00             197.00\n",
       "mean           88.26              91.82\n",
       "std            14.53              10.23\n",
       "min            59.00              50.00\n",
       "25%            78.00              87.00\n",
       "50%            85.00              92.00\n",
       "75%            98.00              98.00\n",
       "max           135.00             120.00"
      ]
     },
     "execution_count": 36,
     "metadata": {},
     "output_type": "execute_result"
    }
   ],
   "source": [
    "# look at data\n",
    "round(new_data[['OriginalitySA', 'OriginalitySA_end']].describe(),2)"
   ]
  },
  {
   "cell_type": "code",
   "execution_count": 37,
   "metadata": {},
   "outputs": [
    {
     "data": {
      "text/plain": [
       "Ttest_relResult(statistic=-3.8483735817969755, pvalue=0.00016083015224618624)"
      ]
     },
     "execution_count": 37,
     "metadata": {},
     "output_type": "execute_result"
    }
   ],
   "source": [
    "# t-test results\n",
    "stats.ttest_rel(new_data['AverageSA'], new_data['AverageSA_end'])"
   ]
  },
  {
   "cell_type": "code",
   "execution_count": 38,
   "metadata": {},
   "outputs": [
    {
     "data": {
      "text/plain": [
       "Ttest_relResult(statistic=-3.723699474033127, pvalue=0.00025656912770077883)"
      ]
     },
     "execution_count": 38,
     "metadata": {},
     "output_type": "execute_result"
    }
   ],
   "source": [
    "# t-test results\n",
    "stats.ttest_rel(new_data['FluencySA'], new_data['FluencySA_end'])"
   ]
  },
  {
   "cell_type": "code",
   "execution_count": 39,
   "metadata": {},
   "outputs": [
    {
     "data": {
      "text/plain": [
       "Ttest_relResult(statistic=-4.3533140146938445, pvalue=2.1580303589669697e-05)"
      ]
     },
     "execution_count": 39,
     "metadata": {},
     "output_type": "execute_result"
    }
   ],
   "source": [
    "# t-test results\n",
    "stats.ttest_rel(new_data['FlexibilitySA'], new_data['FlexibilitySA_end'])"
   ]
  },
  {
   "cell_type": "code",
   "execution_count": 40,
   "metadata": {},
   "outputs": [
    {
     "data": {
      "text/plain": [
       "Ttest_relResult(statistic=-3.9647989230253255, pvalue=0.0001028977450119307)"
      ]
     },
     "execution_count": 40,
     "metadata": {},
     "output_type": "execute_result"
    }
   ],
   "source": [
    "# t-test results\n",
    "stats.ttest_rel(new_data['OriginalitySA'], new_data['OriginalitySA_end'])"
   ]
  },
  {
   "cell_type": "markdown",
   "metadata": {},
   "source": [
    "## Research Idea 2 Approach 1"
   ]
  },
  {
   "cell_type": "markdown",
   "metadata": {},
   "source": [
    "### Create New Data Columns w/ New Grouping of Levels"
   ]
  },
  {
   "cell_type": "code",
   "execution_count": 41,
   "metadata": {},
   "outputs": [
    {
     "data": {
      "text/plain": [
       "Biology    115\n",
       "Others      83\n",
       "Name: new_major, dtype: int64"
      ]
     },
     "execution_count": 41,
     "metadata": {},
     "output_type": "execute_result"
    }
   ],
   "source": [
    "# create new major variable with 2 levels\n",
    "data['new_major'] = ['Biology' if x == 'Biology - BA' or x == 'Biology - BS' else 'Others' for x in data['Intended Major_end']]\n",
    "data['new_major'].value_counts()"
   ]
  },
  {
   "cell_type": "code",
   "execution_count": 42,
   "metadata": {},
   "outputs": [
    {
     "data": {
      "text/plain": [
       "Female    167\n",
       "Others     31\n",
       "Name: new_gender, dtype: int64"
      ]
     },
     "execution_count": 42,
     "metadata": {},
     "output_type": "execute_result"
    }
   ],
   "source": [
    "# create new gender variable with 2 levels\n",
    "data['new_gender'] = ['Female' if x == 'Female' else 'Others' for x in data['Gender']]\n",
    "data['new_gender'].value_counts()"
   ]
  },
  {
   "cell_type": "code",
   "execution_count": 43,
   "metadata": {},
   "outputs": [
    {
     "data": {
      "text/plain": [
       "Caucasian; White    141\n",
       "Others               57\n",
       "Name: new_race, dtype: int64"
      ]
     },
     "execution_count": 43,
     "metadata": {},
     "output_type": "execute_result"
    }
   ],
   "source": [
    "# create new race variable with 2 levels\n",
    "data['new_race'] = ['Caucasian; White' if x == 'Caucasian; White' else 'Others' for x in data['Race']]\n",
    "data['new_race'].value_counts()"
   ]
  },
  {
   "cell_type": "code",
   "execution_count": 44,
   "metadata": {},
   "outputs": [
    {
     "data": {
      "text/plain": [
       "Town      62\n",
       "City      52\n",
       "Suburb    49\n",
       "Others    35\n",
       "Name: new_hometown, dtype: int64"
      ]
     },
     "execution_count": 44,
     "metadata": {},
     "output_type": "execute_result"
    }
   ],
   "source": [
    "# create new hometown variable with 4 levels\n",
    "hometown_dictionary = {'City' : 'City', 'Town' : 'Town', 'Suburb' : 'Suburb', 'Rural Area' : 'Others', 'Village' : 'Others'}\n",
    "data['new_hometown'] = data['Hometown Type_end'].map(hometown_dictionary)\n",
    "data['new_hometown'].value_counts()"
   ]
  },
  {
   "cell_type": "code",
   "execution_count": 45,
   "metadata": {},
   "outputs": [
    {
     "data": {
      "text/plain": [
       "Medium    69\n",
       "Higher    67\n",
       "Lower     62\n",
       "Name: new_gpa, dtype: int64"
      ]
     },
     "execution_count": 45,
     "metadata": {},
     "output_type": "execute_result"
    }
   ],
   "source": [
    "# create new gpa variable with 3 levels\n",
    "data['new_gpa'] = pd.cut(data['weighted_hs_gpa'], bins=[3.421, 4.299, 4.499, 5.143], labels = ['Lower', 'Medium', 'Higher'])\n",
    "data['new_gpa'].value_counts()"
   ]
  },
  {
   "cell_type": "code",
   "execution_count": 46,
   "metadata": {},
   "outputs": [
    {
     "name": "stdout",
     "output_type": "stream",
     "text": [
      "Index(['First Name', 'Last Name', 'Student ID number', 'LSC 101 Instructor',\n",
      "       'Gender', 'Race', 'Intended Major_beginning', 'Intended Major_end',\n",
      "       'Hometown Type_end', 'Deidentified Number', 'unweighted_hs_gpa',\n",
      "       'weighted_hs_gpa', 'Quiz_Score_end', 'S1_beginning', 'S2_beginning',\n",
      "       'S3_beginning', 'S4_beginning', 'S5_beginning', 'S6_beginning',\n",
      "       'S7_beginning', 'S8_beginning', 'S9_beginning', 'S10_beginning',\n",
      "       'S11_beginning', 'S12_beginning', 'S13_beginning', 'Q12a_beginning',\n",
      "       'Q1_beginning', 'Q2_beginning', 'Q3_beginning', 'Q4_beginning',\n",
      "       'Q5_beginning', 'Q6_beginning', 'Q7_beginning', 'Q8_beginning',\n",
      "       'Q9_beginning', 'Q10_beginning', 'Q11_beginning', 'S1_end', 'S2_end',\n",
      "       'S3_end', 'S4_end', 'S5_end', 'S6_end', 'S7_end', 'S8_end', 'S9_end',\n",
      "       'S10_end', 'S11_end', 'S12_end', 'S13_end', 'Q12b_end', 'Q1_end',\n",
      "       'Q2_ end', 'Q4_end', 'Q5_end', 'Q6_end', 'Q7_end', 'Q8_end', 'Q9_end',\n",
      "       'Q10_end', 'Q11_end', 'Q1_extra_end', 'Q2_extra_end', 'Q3_extra_end',\n",
      "       'Q4_extra_end', 'Q5_extra_end', 'FluencySA', 'FlexibilitySA',\n",
      "       'OriginalitySA', 'AverageSA', 'RSFluency', 'RSFlexibility',\n",
      "       'RSOriginality', 'FluencySA_end', 'FlexibilitySA_end',\n",
      "       'OriginalitySA_end', 'AverageSA_end', 'RSFluency_end',\n",
      "       'RSFlexibility_end', 'RSOriginality_end', 'Include Student data',\n",
      "       'average_diff', 'fluency_diff', 'flexibility_diff', 'originality_diff',\n",
      "       'new_major', 'new_gender', 'new_race', 'new_hometown', 'new_gpa'],\n",
      "      dtype='object')\n"
     ]
    }
   ],
   "source": [
    "# make sure new columns are added\n",
    "print(data.columns)"
   ]
  },
  {
   "cell_type": "markdown",
   "metadata": {},
   "source": [
    "### Data Visualizations"
   ]
  },
  {
   "cell_type": "code",
   "execution_count": 47,
   "metadata": {},
   "outputs": [],
   "source": [
    "# import packages\n",
    "%matplotlib inline\n",
    "import matplotlib.pyplot as plt\n",
    "plt.style.use('seaborn-whitegrid')\n",
    "import numpy as np"
   ]
  },
  {
   "cell_type": "code",
   "execution_count": 48,
   "metadata": {},
   "outputs": [
    {
     "data": {
      "text/plain": [
       "<matplotlib.collections.PathCollection at 0x7f8f0a95b2e0>"
      ]
     },
     "execution_count": 48,
     "metadata": {},
     "output_type": "execute_result"
    },
    {
     "data": {
      "image/png": "[encoded data removed]",
      "text/plain": [
       "<Figure size 432x288 with 1 Axes>"
      ]
     },
     "metadata": {},
     "output_type": "display_data"
    }
   ],
   "source": [
    "# scatter plot of average score change for each student\n",
    "x = data['Deidentified Number']\n",
    "y = data['average_diff']\n",
    "fig, (ax1) = plt.subplots(1)\n",
    "plt.rcParams.update({'figure.figsize':(6,4), 'figure.dpi':100})\n",
    "ax1.axhline(y=0, xmin=0, xmax=250, c=\"red\", linewidth=2, zorder=0)\n",
    "plt.title(\"Students Improvement in Average TTCT Score\") \n",
    "plt.xlabel(\"Students\")\n",
    "plt.ylabel(\"Average TTCT Score Difference\")\n",
    "plt.scatter(x, y)"
   ]
  },
  {
   "cell_type": "code",
   "execution_count": 49,
   "metadata": {},
   "outputs": [
    {
     "data": {
      "text/plain": [
       "positive    124\n",
       "negative     70\n",
       "same          4\n",
       "Name: average_diff, dtype: int64"
      ]
     },
     "execution_count": 49,
     "metadata": {},
     "output_type": "execute_result"
    }
   ],
   "source": [
    "# see how many students increased, decrease or had no change in scores\n",
    "pd.cut(x=data['average_diff'], bins=[-100, -0.01, 0.01, 50], labels=['negative','same', 'positive']).value_counts()"
   ]
  },
  {
   "cell_type": "code",
   "execution_count": 50,
   "metadata": {},
   "outputs": [
    {
     "data": {
      "text/plain": [
       "<matplotlib.collections.PathCollection at 0x7f8f0ab34b20>"
      ]
     },
     "execution_count": 50,
     "metadata": {},
     "output_type": "execute_result"
    },
    {
     "data": {
      "image/png": "[encoded data removed]",
      "text/plain": [
       "<Figure size 600x400 with 1 Axes>"
      ]
     },
     "metadata": {},
     "output_type": "display_data"
    }
   ],
   "source": [
    "# scatter plot of fluency score change for each student\n",
    "x = data['Deidentified Number']\n",
    "y = data['fluency_diff']\n",
    "fig, (ax1) = plt.subplots(1)\n",
    "plt.rcParams.update({'figure.figsize':(6,4), 'figure.dpi':100})\n",
    "ax1.axhline(y=0, xmin=0, xmax=250, c=\"red\", linewidth=2, zorder=0)\n",
    "plt.title(\"Students Improvement in Fluency TTCT Score\") \n",
    "plt.xlabel(\"Students\")\n",
    "plt.ylabel(\"Fluency TTCT Score Difference\")\n",
    "plt.scatter(x, y)"
   ]
  },
  {
   "cell_type": "code",
   "execution_count": 51,
   "metadata": {},
   "outputs": [
    {
     "data": {
      "text/plain": [
       "positive    125\n",
       "negative     70\n",
       "same          3\n",
       "Name: fluency_diff, dtype: int64"
      ]
     },
     "execution_count": 51,
     "metadata": {},
     "output_type": "execute_result"
    }
   ],
   "source": [
    "# see how many students increased, decrease or had no change in scores\n",
    "pd.cut(x=data['fluency_diff'], bins=[-100, -0.01, 0.01, 50], labels=['negative','same', 'positive']).value_counts()"
   ]
  },
  {
   "cell_type": "code",
   "execution_count": 52,
   "metadata": {},
   "outputs": [
    {
     "data": {
      "text/plain": [
       "<matplotlib.collections.PathCollection at 0x7f8f0aae6a90>"
      ]
     },
     "execution_count": 52,
     "metadata": {},
     "output_type": "execute_result"
    },
    {
     "data": {
      "image/png": "[encoded data removed]",
      "text/plain": [
       "<Figure size 600x400 with 1 Axes>"
      ]
     },
     "metadata": {},
     "output_type": "display_data"
    }
   ],
   "source": [
    "# scatter plot of flexibility score change for each student\n",
    "x = data['Deidentified Number']\n",
    "y = data['flexibility_diff']\n",
    "fig, (ax1) = plt.subplots(1)\n",
    "plt.rcParams.update({'figure.figsize':(6,4), 'figure.dpi':100})\n",
    "ax1.axhline(y=0, xmin=0, xmax=250, c=\"red\", linewidth=2, zorder=0)\n",
    "plt.title(\"Students Improvement in Flexibility TTCT Score\") \n",
    "plt.xlabel(\"Students\")\n",
    "plt.ylabel(\"Flexibility TTCT Score Difference\")\n",
    "plt.scatter(x, y)"
   ]
  },
  {
   "cell_type": "code",
   "execution_count": 53,
   "metadata": {},
   "outputs": [
    {
     "data": {
      "text/plain": [
       "positive    123\n",
       "negative     64\n",
       "same         11\n",
       "Name: flexibility_diff, dtype: int64"
      ]
     },
     "execution_count": 53,
     "metadata": {},
     "output_type": "execute_result"
    }
   ],
   "source": [
    "# see how many students increased, decrease or had no change in scores\n",
    "pd.cut(x=data['flexibility_diff'], bins=[-100, -0.01, 0.01, 50], labels=['negative','same', 'positive']).value_counts()"
   ]
  },
  {
   "cell_type": "code",
   "execution_count": 54,
   "metadata": {},
   "outputs": [
    {
     "data": {
      "text/plain": [
       "<matplotlib.collections.PathCollection at 0x7f8f0af53730>"
      ]
     },
     "execution_count": 54,
     "metadata": {},
     "output_type": "execute_result"
    },
    {
     "data": {
      "image/png": "[encoded data removed]",
      "text/plain": [
       "<Figure size 600x400 with 1 Axes>"
      ]
     },
     "metadata": {},
     "output_type": "display_data"
    }
   ],
   "source": [
    "# scatter plot of originality score change for each student\n",
    "x = data['Deidentified Number']\n",
    "y = data['originality_diff']\n",
    "fig, (ax1) = plt.subplots(1)\n",
    "plt.rcParams.update({'figure.figsize':(6,4), 'figure.dpi':100})\n",
    "ax1.axhline(y=0, xmin=0, xmax=250, c=\"red\", linewidth=2, zorder=0)\n",
    "plt.title(\"Students Improvement in Originality TTCT Score\") \n",
    "plt.xlabel(\"Students\")\n",
    "plt.ylabel(\"Originality TTCT Score Difference\")\n",
    "plt.scatter(x, y)"
   ]
  },
  {
   "cell_type": "code",
   "execution_count": 55,
   "metadata": {},
   "outputs": [
    {
     "data": {
      "text/plain": [
       "positive    120\n",
       "negative     67\n",
       "same         11\n",
       "Name: originality_diff, dtype: int64"
      ]
     },
     "execution_count": 55,
     "metadata": {},
     "output_type": "execute_result"
    }
   ],
   "source": [
    "# see how many students increased, decrease or had no change in scores\n",
    "pd.cut(x=data['originality_diff'], bins=[-100, -0.01, 0.01, 50], labels=['negative','same', 'positive']).value_counts()"
   ]
  },
  {
   "cell_type": "code",
   "execution_count": 56,
   "metadata": {},
   "outputs": [
    {
     "name": "stderr",
     "output_type": "stream",
     "text": [
      "/Library/Frameworks/Python.framework/Versions/3.8/lib/python3.8/site-packages/seaborn/_decorators.py:36: FutureWarning: Pass the following variables as keyword args: x, y. From version 0.12, the only valid positional argument will be `data`, and passing other arguments without an explicit keyword will result in an error or misinterpretation.\n",
      "  warnings.warn(\n"
     ]
    },
    {
     "data": {
      "image/png": "[encoded data removed]",
      "text/plain": [
       "<Figure size 600x400 with 1 Axes>"
      ]
     },
     "metadata": {},
     "output_type": "display_data"
    }
   ],
   "source": [
    "# scatter plot of average score difference, colored by major\n",
    "import seaborn as sns\n",
    "avg_graph = sns.scatterplot('Deidentified Number', 'average_diff', data=data, hue='new_major')\n",
    "avg_graph.axhline(0)\n",
    "plt.title(\"Students Improvement in Average TTCT Score By Major\") \n",
    "plt.xlabel(\"Students\")\n",
    "plt.ylabel(\"Average TTCT Score Difference\")\n",
    "avg_graph.legend(title=\"Intended Major\");"
   ]
  },
  {
   "cell_type": "code",
   "execution_count": 57,
   "metadata": {},
   "outputs": [
    {
     "data": {
      "text/plain": [
       "<matplotlib.legend.Legend at 0x7f8f0ac02a30>"
      ]
     },
     "execution_count": 57,
     "metadata": {},
     "output_type": "execute_result"
    },
    {
     "data": {
      "image/png": "[encoded data removed]",
      "text/plain": [
       "<Figure size 600x400 with 1 Axes>"
      ]
     },
     "metadata": {},
     "output_type": "display_data"
    }
   ],
   "source": [
    "# stacked bar chart of average score change for major\n",
    "data['average_diff_bin'] = pd.cut(x=data['average_diff'], bins=[-100, -0.01, 0.01, 50], labels=['Decrease','Same', 'Increase'])\n",
    "\n",
    "major_table = pd.crosstab(data.new_major, data.average_diff_bin)\n",
    "major_table\n",
    "major_table.plot.bar(stacked = True)\n",
    "plt.xticks(rotation = 0)\n",
    "plt.title(\"Students Improvement in Average TTCT Score\") \n",
    "plt.xlabel(\"Intended Major\")\n",
    "plt.ylabel(\"Count of Students\")\n",
    "plt.legend(title=\"Average TTCT Score Change\",\n",
    "                    loc=1, fontsize='small', framealpha=1, frameon=True)"
   ]
  },
  {
   "cell_type": "code",
   "execution_count": 58,
   "metadata": {},
   "outputs": [
    {
     "name": "stderr",
     "output_type": "stream",
     "text": [
      "/Library/Frameworks/Python.framework/Versions/3.8/lib/python3.8/site-packages/seaborn/_decorators.py:36: FutureWarning: Pass the following variables as keyword args: x, y. From version 0.12, the only valid positional argument will be `data`, and passing other arguments without an explicit keyword will result in an error or misinterpretation.\n",
      "  warnings.warn(\n"
     ]
    },
    {
     "data": {
      "image/png": "[encoded data removed]",
      "text/plain": [
       "<Figure size 600x400 with 1 Axes>"
      ]
     },
     "metadata": {},
     "output_type": "display_data"
    }
   ],
   "source": [
    "# scatter plot of average score difference, colored by hometown\n",
    "avg_graph = sns.scatterplot('Deidentified Number', 'average_diff', data=data, hue='new_hometown')\n",
    "avg_graph.axhline(0)\n",
    "plt.title(\"Students Improvement in Average TTCT Score By Hometown\") \n",
    "plt.xlabel(\"Students\")\n",
    "plt.ylabel(\"Average TTCT Score Difference\")\n",
    "avg_graph.legend(title=\"Hometown\");"
   ]
  },
  {
   "cell_type": "code",
   "execution_count": 59,
   "metadata": {},
   "outputs": [
    {
     "data": {
      "text/plain": [
       "<matplotlib.legend.Legend at 0x7f8f0b507e20>"
      ]
     },
     "execution_count": 59,
     "metadata": {},
     "output_type": "execute_result"
    },
    {
     "data": {
      "image/png": "[encoded data removed]",
      "text/plain": [
       "<Figure size 600x400 with 1 Axes>"
      ]
     },
     "metadata": {},
     "output_type": "display_data"
    }
   ],
   "source": [
    "# stacked bar chart of average score change for hometown\n",
    "hometown_table = pd.crosstab(data.new_hometown, data.average_diff_bin)\n",
    "hometown_table\n",
    "hometown_table.plot.bar(stacked = True)\n",
    "plt.xticks(rotation = 0)\n",
    "plt.title(\"Students Improvement in Average TTCT Score\") \n",
    "plt.xlabel(\"Hometown\")\n",
    "plt.ylabel(\"Count of Students\")\n",
    "plt.legend(title=\"Average TTCT Score Change\",\n",
    "                    loc=4, fontsize='small', framealpha=1, frameon=True)"
   ]
  },
  {
   "cell_type": "code",
   "execution_count": 60,
   "metadata": {},
   "outputs": [
    {
     "name": "stderr",
     "output_type": "stream",
     "text": [
      "/Library/Frameworks/Python.framework/Versions/3.8/lib/python3.8/site-packages/seaborn/_decorators.py:36: FutureWarning: Pass the following variables as keyword args: x, y. From version 0.12, the only valid positional argument will be `data`, and passing other arguments without an explicit keyword will result in an error or misinterpretation.\n",
      "  warnings.warn(\n"
     ]
    },
    {
     "data": {
      "image/png": "[encoded data removed]",
      "text/plain": [
       "<Figure size 600x400 with 1 Axes>"
      ]
     },
     "metadata": {},
     "output_type": "display_data"
    }
   ],
   "source": [
    "# scatter plot of average score difference, colored by HS GPA\n",
    "avg_graph = sns.scatterplot('Deidentified Number', 'average_diff', data=data, hue='new_gpa')\n",
    "avg_graph.axhline(0)\n",
    "plt.title(\"Students Improvement in Average TTCT Score By HS GPA\") \n",
    "plt.xlabel(\"Students\")\n",
    "plt.ylabel(\"Average TTCT Score Difference\")\n",
    "avg_graph.legend(title=\"HS GPA\");"
   ]
  },
  {
   "cell_type": "code",
   "execution_count": 61,
   "metadata": {},
   "outputs": [
    {
     "data": {
      "text/plain": [
       "<matplotlib.legend.Legend at 0x7f8f0b0b6910>"
      ]
     },
     "execution_count": 61,
     "metadata": {},
     "output_type": "execute_result"
    },
    {
     "data": {
      "image/png": "[encoded data removed]",
      "text/plain": [
       "<Figure size 600x400 with 1 Axes>"
      ]
     },
     "metadata": {},
     "output_type": "display_data"
    }
   ],
   "source": [
    "# stacked bar chart of average score change for HS GPA\n",
    "gpa_table = pd.crosstab(data.new_gpa, data.average_diff_bin)\n",
    "gpa_table\n",
    "gpa_table.plot.bar(stacked = True)\n",
    "plt.xticks(rotation = 0) \n",
    "plt.title(\"Students Improvement in Average TTCT Score\") \n",
    "plt.xlabel(\"HS GPA\")\n",
    "plt.ylabel(\"Count of Students\")\n",
    "plt.legend(title=\"Average TTCT Score Change\", loc=7,\n",
    "                    fontsize='small', framealpha=1, frameon=True)"
   ]
  },
  {
   "cell_type": "markdown",
   "metadata": {},
   "source": [
    "### Paired Sample t-Tests for Individual Variables"
   ]
  },
  {
   "cell_type": "markdown",
   "metadata": {},
   "source": [
    "#### Major"
   ]
  },
  {
   "cell_type": "code",
   "execution_count": 62,
   "metadata": {},
   "outputs": [
    {
     "data": {
      "text/plain": [
       "Ttest_relResult(statistic=-4.058822892181705, pvalue=9.071856728588523e-05)"
      ]
     },
     "execution_count": 62,
     "metadata": {},
     "output_type": "execute_result"
    }
   ],
   "source": [
    "major_biology = data.loc[data['new_major'] == 'Biology', :]\n",
    "stats.ttest_rel(major_biology['AverageSA'], major_biology['AverageSA_end'])"
   ]
  },
  {
   "cell_type": "code",
   "execution_count": 63,
   "metadata": {},
   "outputs": [
    {
     "data": {
      "text/plain": [
       "Ttest_relResult(statistic=-0.4098465542705219, pvalue=0.6829872630128158)"
      ]
     },
     "execution_count": 63,
     "metadata": {},
     "output_type": "execute_result"
    }
   ],
   "source": [
    "major_others = data.loc[data['new_major'] == 'Others', :]\n",
    "stats.ttest_rel(major_others['AverageSA'], major_others['AverageSA_end'])"
   ]
  },
  {
   "cell_type": "markdown",
   "metadata": {},
   "source": [
    "#### Hometown"
   ]
  },
  {
   "cell_type": "code",
   "execution_count": 64,
   "metadata": {},
   "outputs": [
    {
     "data": {
      "text/plain": [
       "Ttest_relResult(statistic=-1.5223976707034912, pvalue=0.13408635571721358)"
      ]
     },
     "execution_count": 64,
     "metadata": {},
     "output_type": "execute_result"
    }
   ],
   "source": [
    "hometown_city = data.loc[data['new_hometown'] == 'City', :]\n",
    "stats.ttest_rel(hometown_city['AverageSA'], hometown_city['AverageSA_end'])"
   ]
  },
  {
   "cell_type": "code",
   "execution_count": 65,
   "metadata": {},
   "outputs": [
    {
     "data": {
      "text/plain": [
       "Ttest_relResult(statistic=-2.439374474871331, pvalue=0.017636336165781506)"
      ]
     },
     "execution_count": 65,
     "metadata": {},
     "output_type": "execute_result"
    }
   ],
   "source": [
    "hometown_town = data.loc[data['new_hometown'] == 'Town', :]\n",
    "stats.ttest_rel(hometown_town['AverageSA'], hometown_town['AverageSA_end'])"
   ]
  },
  {
   "cell_type": "code",
   "execution_count": 66,
   "metadata": {},
   "outputs": [
    {
     "data": {
      "text/plain": [
       "Ttest_relResult(statistic=-1.298409508398529, pvalue=0.2003504842630856)"
      ]
     },
     "execution_count": 66,
     "metadata": {},
     "output_type": "execute_result"
    }
   ],
   "source": [
    "hometown_suburb = data.loc[data['new_hometown'] == 'Suburb', :]\n",
    "stats.ttest_rel(hometown_suburb['AverageSA'], hometown_suburb['AverageSA_end'])"
   ]
  },
  {
   "cell_type": "code",
   "execution_count": 67,
   "metadata": {},
   "outputs": [
    {
     "data": {
      "text/plain": [
       "Ttest_relResult(statistic=-1.4463181509062073, pvalue=0.15724443867608304)"
      ]
     },
     "execution_count": 67,
     "metadata": {},
     "output_type": "execute_result"
    }
   ],
   "source": [
    "hometown_others = data.loc[data['new_hometown'] == 'Others', :]\n",
    "stats.ttest_rel(hometown_others['AverageSA'], hometown_others['AverageSA_end'])"
   ]
  },
  {
   "cell_type": "markdown",
   "metadata": {},
   "source": [
    "#### HS GPA"
   ]
  },
  {
   "cell_type": "code",
   "execution_count": 68,
   "metadata": {},
   "outputs": [
    {
     "data": {
      "text/plain": [
       "Ttest_relResult(statistic=-1.03579630404997, pvalue=0.30438600141898964)"
      ]
     },
     "execution_count": 68,
     "metadata": {},
     "output_type": "execute_result"
    }
   ],
   "source": [
    "gpa_lower = data.loc[data['new_gpa'] == 'Lower', :]\n",
    "stats.ttest_rel(gpa_lower['AverageSA'], gpa_lower['AverageSA_end'])"
   ]
  },
  {
   "cell_type": "code",
   "execution_count": 69,
   "metadata": {},
   "outputs": [
    {
     "data": {
      "text/plain": [
       "Ttest_relResult(statistic=-2.1372311548697285, pvalue=0.03617844140239755)"
      ]
     },
     "execution_count": 69,
     "metadata": {},
     "output_type": "execute_result"
    }
   ],
   "source": [
    "gpa_medium = data.loc[data['new_gpa'] == 'Medium', :]\n",
    "stats.ttest_rel(gpa_medium['AverageSA'], gpa_medium['AverageSA_end'])"
   ]
  },
  {
   "cell_type": "code",
   "execution_count": 70,
   "metadata": {},
   "outputs": [
    {
     "data": {
      "text/plain": [
       "Ttest_relResult(statistic=-2.4479489055266805, pvalue=0.017034067388272487)"
      ]
     },
     "execution_count": 70,
     "metadata": {},
     "output_type": "execute_result"
    }
   ],
   "source": [
    "gpa_higher = data.loc[data['new_gpa'] == 'Higher', :]\n",
    "stats.ttest_rel(gpa_higher['AverageSA'], gpa_higher['AverageSA_end'])"
   ]
  },
  {
   "cell_type": "markdown",
   "metadata": {},
   "source": [
    "## Research Idea 2 Approach 2"
   ]
  },
  {
   "cell_type": "markdown",
   "metadata": {},
   "source": [
    "2 sample t-test for gpa medium and gpa higher"
   ]
  },
  {
   "cell_type": "markdown",
   "metadata": {},
   "source": [
    "### Bartlett's test to check for equality of variances"
   ]
  },
  {
   "cell_type": "markdown",
   "metadata": {},
   "source": [
    "Bartlett’s test is one of the popular tests in inferential statistics that addresses the data drawn from normal distribution. Bartlett’s test is used to test for equality of variances of a variable calculated for two or more groups (samples). If the p-value of Bartlett’s test is less than the significance level (for example 0.05), the variances of at least two groups are not equal."
   ]
  },
  {
   "cell_type": "code",
   "execution_count": 71,
   "metadata": {},
   "outputs": [],
   "source": [
    "# import package\n",
    "from scipy.stats import bartlett"
   ]
  },
  {
   "cell_type": "code",
   "execution_count": 72,
   "metadata": {},
   "outputs": [],
   "source": [
    "# compute some group summary statistics to understand the data better:\n",
    "gpa_agg = (\n",
    "    data.groupby('new_gpa').agg(mean_pre_avg_diff=(\"AverageSA\", \"mean\"),\n",
    "                                var_pre_avg_diff=(\"AverageSA\", \"var\"),\n",
    "                                mean_post_avg_diff=(\"AverageSA_end\", \"mean\"),\n",
    "                                var_post_avg_diff=(\"AverageSA_end\", \"var\")\n",
    "                               ).reset_index()\n",
    ")"
   ]
  },
  {
   "cell_type": "code",
   "execution_count": 73,
   "metadata": {},
   "outputs": [
    {
     "data": {
      "text/html": [
       "<div>\n",
       "<style scoped>\n",
       "    .dataframe tbody tr th:only-of-type {\n",
       "        vertical-align: middle;\n",
       "    }\n",
       "\n",
       "    .dataframe tbody tr th {\n",
       "        vertical-align: top;\n",
       "    }\n",
       "\n",
       "    .dataframe thead th {\n",
       "        text-align: right;\n",
       "    }\n",
       "</style>\n",
       "<table border=\"1\" class=\"dataframe\">\n",
       "  <thead>\n",
       "    <tr style=\"text-align: right;\">\n",
       "      <th></th>\n",
       "      <th>new_gpa</th>\n",
       "      <th>mean_pre_avg_diff</th>\n",
       "      <th>var_pre_avg_diff</th>\n",
       "      <th>mean_post_avg_diff</th>\n",
       "      <th>var_post_avg_diff</th>\n",
       "    </tr>\n",
       "  </thead>\n",
       "  <tbody>\n",
       "    <tr>\n",
       "      <th>0</th>\n",
       "      <td>Lower</td>\n",
       "      <td>90.725806</td>\n",
       "      <td>222.530143</td>\n",
       "      <td>92.225806</td>\n",
       "      <td>128.603913</td>\n",
       "    </tr>\n",
       "    <tr>\n",
       "      <th>1</th>\n",
       "      <td>Medium</td>\n",
       "      <td>89.391304</td>\n",
       "      <td>211.300512</td>\n",
       "      <td>92.724638</td>\n",
       "      <td>106.614237</td>\n",
       "    </tr>\n",
       "    <tr>\n",
       "      <th>2</th>\n",
       "      <td>Higher</td>\n",
       "      <td>88.925373</td>\n",
       "      <td>182.827680</td>\n",
       "      <td>93.104478</td>\n",
       "      <td>116.125283</td>\n",
       "    </tr>\n",
       "  </tbody>\n",
       "</table>\n",
       "</div>"
      ],
      "text/plain": [
       "  new_gpa  mean_pre_avg_diff  var_pre_avg_diff  mean_post_avg_diff  \\\n",
       "0   Lower          90.725806        222.530143           92.225806   \n",
       "1  Medium          89.391304        211.300512           92.724638   \n",
       "2  Higher          88.925373        182.827680           93.104478   \n",
       "\n",
       "   var_post_avg_diff  \n",
       "0         128.603913  \n",
       "1         106.614237  \n",
       "2         116.125283  "
      ]
     },
     "execution_count": 73,
     "metadata": {},
     "output_type": "execute_result"
    }
   ],
   "source": [
    "gpa_agg"
   ]
  },
  {
   "cell_type": "markdown",
   "metadata": {},
   "source": [
    "The variance for pre and post across the 3 groups are slightly different. To check it statistically we will perform the Bartlett’s test"
   ]
  },
  {
   "cell_type": "code",
   "execution_count": 74,
   "metadata": {},
   "outputs": [],
   "source": [
    "# create the variables which will store observations relevant to a particular group\n",
    "lower_group = data[data['new_gpa']=='Lower']['average_diff']\n",
    "medium_group = data[data['new_gpa']=='Medium']['average_diff']\n",
    "higher_group = data[data['new_gpa']=='Higher']['average_diff']"
   ]
  },
  {
   "cell_type": "code",
   "execution_count": 75,
   "metadata": {},
   "outputs": [],
   "source": [
    "# Bartlett’s test\n",
    "stat, p_value = bartlett(lower_group, medium_group, higher_group)"
   ]
  },
  {
   "cell_type": "code",
   "execution_count": 76,
   "metadata": {},
   "outputs": [
    {
     "name": "stdout",
     "output_type": "stream",
     "text": [
      "Bartlett's test statistic: 2.5843250534423987\n",
      "P-value: 0.27467614585694416\n"
     ]
    }
   ],
   "source": [
    "print(f\"Bartlett's test statistic: {stat}\")\n",
    "print(f\"P-value: {p_value}\")"
   ]
  },
  {
   "cell_type": "markdown",
   "metadata": {},
   "source": [
    "Since the p-value is greater than 0.05, we fail to reject the null hypothesis and conclude that there are equal variances across 3 groups."
   ]
  },
  {
   "cell_type": "markdown",
   "metadata": {},
   "source": [
    "### 2-Sample t-Test"
   ]
  },
  {
   "cell_type": "markdown",
   "metadata": {},
   "source": [
    "H0 => µ1 = µ2 (population mean of Medium GPA group is equal to Higher GPA group) \\\n",
    "HA => µ1 ≠ µ2 (population mean of Medium GPA group is different from Higher GPA group)"
   ]
  },
  {
   "cell_type": "code",
   "execution_count": 77,
   "metadata": {},
   "outputs": [
    {
     "data": {
      "text/plain": [
       "Ttest_indResult(statistic=-0.3661710775624387, pvalue=0.7148148976356494)"
      ]
     },
     "execution_count": 77,
     "metadata": {},
     "output_type": "execute_result"
    }
   ],
   "source": [
    "# Perform the two sample t-test with equal variances\n",
    "stats.ttest_ind(a=medium_group, b=higher_group, equal_var=True)"
   ]
  },
  {
   "cell_type": "markdown",
   "metadata": {},
   "source": [
    "The p-value of the test comes out to be 0.7148148976356494, which is greater than the significance level alpha=0.05. We do not reject the null hypothesis that the population mean of Medium GPA group is equal to Higher GPA group. "
   ]
  },
  {
   "cell_type": "markdown",
   "metadata": {},
   "source": [
    "## Research Idea 2 Approach 3"
   ]
  },
  {
   "cell_type": "code",
   "execution_count": 78,
   "metadata": {},
   "outputs": [
    {
     "data": {
      "text/html": [
       "<div>\n",
       "<style scoped>\n",
       "    .dataframe tbody tr th:only-of-type {\n",
       "        vertical-align: middle;\n",
       "    }\n",
       "\n",
       "    .dataframe tbody tr th {\n",
       "        vertical-align: top;\n",
       "    }\n",
       "\n",
       "    .dataframe thead th {\n",
       "        text-align: right;\n",
       "    }\n",
       "</style>\n",
       "<table border=\"1\" class=\"dataframe\">\n",
       "  <thead>\n",
       "    <tr style=\"text-align: right;\">\n",
       "      <th>new_gender</th>\n",
       "      <th>Female</th>\n",
       "      <th>Others</th>\n",
       "    </tr>\n",
       "    <tr>\n",
       "      <th>new_race</th>\n",
       "      <th></th>\n",
       "      <th></th>\n",
       "    </tr>\n",
       "  </thead>\n",
       "  <tbody>\n",
       "    <tr>\n",
       "      <th>Caucasian; White</th>\n",
       "      <td>116</td>\n",
       "      <td>25</td>\n",
       "    </tr>\n",
       "    <tr>\n",
       "      <th>Others</th>\n",
       "      <td>51</td>\n",
       "      <td>6</td>\n",
       "    </tr>\n",
       "  </tbody>\n",
       "</table>\n",
       "</div>"
      ],
      "text/plain": [
       "new_gender        Female  Others\n",
       "new_race                        \n",
       "Caucasian; White     116      25\n",
       "Others                51       6"
      ]
     },
     "execution_count": 78,
     "metadata": {},
     "output_type": "execute_result"
    }
   ],
   "source": [
    "# cross table between race and gender to see count\n",
    "pd.crosstab(index=data['new_race'], columns=data['new_gender'])"
   ]
  },
  {
   "cell_type": "code",
   "execution_count": 79,
   "metadata": {},
   "outputs": [
    {
     "data": {
      "text/html": [
       "<div>\n",
       "<style scoped>\n",
       "    .dataframe tbody tr th:only-of-type {\n",
       "        vertical-align: middle;\n",
       "    }\n",
       "\n",
       "    .dataframe tbody tr th {\n",
       "        vertical-align: top;\n",
       "    }\n",
       "\n",
       "    .dataframe thead th {\n",
       "        text-align: right;\n",
       "    }\n",
       "</style>\n",
       "<table border=\"1\" class=\"dataframe\">\n",
       "  <thead>\n",
       "    <tr style=\"text-align: right;\">\n",
       "      <th>new_hometown</th>\n",
       "      <th>City</th>\n",
       "      <th>Others</th>\n",
       "      <th>Suburb</th>\n",
       "      <th>Town</th>\n",
       "    </tr>\n",
       "    <tr>\n",
       "      <th>new_major</th>\n",
       "      <th></th>\n",
       "      <th></th>\n",
       "      <th></th>\n",
       "      <th></th>\n",
       "    </tr>\n",
       "  </thead>\n",
       "  <tbody>\n",
       "    <tr>\n",
       "      <th>Biology</th>\n",
       "      <td>36</td>\n",
       "      <td>20</td>\n",
       "      <td>26</td>\n",
       "      <td>33</td>\n",
       "    </tr>\n",
       "    <tr>\n",
       "      <th>Others</th>\n",
       "      <td>16</td>\n",
       "      <td>15</td>\n",
       "      <td>23</td>\n",
       "      <td>29</td>\n",
       "    </tr>\n",
       "  </tbody>\n",
       "</table>\n",
       "</div>"
      ],
      "text/plain": [
       "new_hometown  City  Others  Suburb  Town\n",
       "new_major                               \n",
       "Biology         36      20      26    33\n",
       "Others          16      15      23    29"
      ]
     },
     "execution_count": 79,
     "metadata": {},
     "output_type": "execute_result"
    }
   ],
   "source": [
    "# cross table between major and hometown to see count\n",
    "pd.crosstab(index=data['new_major'], columns=data['new_hometown'])"
   ]
  },
  {
   "cell_type": "code",
   "execution_count": 80,
   "metadata": {},
   "outputs": [
    {
     "data": {
      "text/html": [
       "<div>\n",
       "<style scoped>\n",
       "    .dataframe tbody tr th:only-of-type {\n",
       "        vertical-align: middle;\n",
       "    }\n",
       "\n",
       "    .dataframe tbody tr th {\n",
       "        vertical-align: top;\n",
       "    }\n",
       "\n",
       "    .dataframe thead th {\n",
       "        text-align: right;\n",
       "    }\n",
       "</style>\n",
       "<table border=\"1\" class=\"dataframe\">\n",
       "  <thead>\n",
       "    <tr style=\"text-align: right;\">\n",
       "      <th>new_gpa</th>\n",
       "      <th>Lower</th>\n",
       "      <th>Medium</th>\n",
       "      <th>Higher</th>\n",
       "    </tr>\n",
       "    <tr>\n",
       "      <th>new_major</th>\n",
       "      <th></th>\n",
       "      <th></th>\n",
       "      <th></th>\n",
       "    </tr>\n",
       "  </thead>\n",
       "  <tbody>\n",
       "    <tr>\n",
       "      <th>Biology</th>\n",
       "      <td>35</td>\n",
       "      <td>38</td>\n",
       "      <td>42</td>\n",
       "    </tr>\n",
       "    <tr>\n",
       "      <th>Others</th>\n",
       "      <td>27</td>\n",
       "      <td>31</td>\n",
       "      <td>25</td>\n",
       "    </tr>\n",
       "  </tbody>\n",
       "</table>\n",
       "</div>"
      ],
      "text/plain": [
       "new_gpa    Lower  Medium  Higher\n",
       "new_major                       \n",
       "Biology       35      38      42\n",
       "Others        27      31      25"
      ]
     },
     "execution_count": 80,
     "metadata": {},
     "output_type": "execute_result"
    }
   ],
   "source": [
    "# cross table between major and HS GPA to see count\n",
    "pd.crosstab(index=data['new_major'], columns=data['new_gpa'])"
   ]
  },
  {
   "cell_type": "code",
   "execution_count": 81,
   "metadata": {},
   "outputs": [
    {
     "data": {
      "text/html": [
       "<div>\n",
       "<style scoped>\n",
       "    .dataframe tbody tr th:only-of-type {\n",
       "        vertical-align: middle;\n",
       "    }\n",
       "\n",
       "    .dataframe tbody tr th {\n",
       "        vertical-align: top;\n",
       "    }\n",
       "\n",
       "    .dataframe thead th {\n",
       "        text-align: right;\n",
       "    }\n",
       "</style>\n",
       "<table border=\"1\" class=\"dataframe\">\n",
       "  <thead>\n",
       "    <tr style=\"text-align: right;\">\n",
       "      <th>new_hometown</th>\n",
       "      <th>City</th>\n",
       "      <th>Others</th>\n",
       "      <th>Suburb</th>\n",
       "      <th>Town</th>\n",
       "    </tr>\n",
       "    <tr>\n",
       "      <th>new_gpa</th>\n",
       "      <th></th>\n",
       "      <th></th>\n",
       "      <th></th>\n",
       "      <th></th>\n",
       "    </tr>\n",
       "  </thead>\n",
       "  <tbody>\n",
       "    <tr>\n",
       "      <th>Lower</th>\n",
       "      <td>15</td>\n",
       "      <td>10</td>\n",
       "      <td>19</td>\n",
       "      <td>18</td>\n",
       "    </tr>\n",
       "    <tr>\n",
       "      <th>Medium</th>\n",
       "      <td>15</td>\n",
       "      <td>9</td>\n",
       "      <td>16</td>\n",
       "      <td>29</td>\n",
       "    </tr>\n",
       "    <tr>\n",
       "      <th>Higher</th>\n",
       "      <td>22</td>\n",
       "      <td>16</td>\n",
       "      <td>14</td>\n",
       "      <td>15</td>\n",
       "    </tr>\n",
       "  </tbody>\n",
       "</table>\n",
       "</div>"
      ],
      "text/plain": [
       "new_hometown  City  Others  Suburb  Town\n",
       "new_gpa                                 \n",
       "Lower           15      10      19    18\n",
       "Medium          15       9      16    29\n",
       "Higher          22      16      14    15"
      ]
     },
     "execution_count": 81,
     "metadata": {},
     "output_type": "execute_result"
    }
   ],
   "source": [
    "# cross table between HS GPA and hometown to see count\n",
    "pd.crosstab(index=data['new_gpa'], columns=data['new_hometown'])"
   ]
  },
  {
   "cell_type": "markdown",
   "metadata": {},
   "source": [
    "### Data Visualizations"
   ]
  },
  {
   "cell_type": "code",
   "execution_count": 82,
   "metadata": {},
   "outputs": [],
   "source": [
    "# import packages\n",
    "import numpy as np\n",
    "import matplotlib.pyplot as plt\n",
    "import pandas as pd\n",
    "from statsmodels.graphics.factorplots import interaction_plot"
   ]
  },
  {
   "cell_type": "code",
   "execution_count": 83,
   "metadata": {},
   "outputs": [
    {
     "data": {
      "image/png": "[encoded data removed]",
      "text/plain": [
       "<Figure size 432x432 with 1 Axes>"
      ]
     },
     "metadata": {
      "needs_background": "light"
     },
     "output_type": "display_data"
    }
   ],
   "source": [
    "# interaction plot for major and hometown\n",
    "%matplotlib inline\n",
    "\n",
    "fig, ax = plt.subplots(figsize=(6, 6))\n",
    "plt.title(\"Interaction Effect of Hometown and Intended Major\") \n",
    "fig = interaction_plot(\n",
    "    x=data['new_hometown'],\n",
    "    trace=data['new_major'],\n",
    "    response=data['average_diff'],\n",
    "    xlabel = \"Hometown\",\n",
    "    ylabel = \"Average Score Difference\",\n",
    "    colors=[\"red\", \"blue\"],\n",
    "    markers=[\"D\", \"D\"],\n",
    "    ms=10,\n",
    "    ax=ax,\n",
    "    legendtitle = \"Intended Major\"\n",
    ")\n",
    "\n",
    "# This plot suggests no interaction between major and hometown"
   ]
  },
  {
   "cell_type": "code",
   "execution_count": 84,
   "metadata": {},
   "outputs": [
    {
     "data": {
      "image/png": "[encoded data removed]",
      "text/plain": [
       "<Figure size 432x432 with 1 Axes>"
      ]
     },
     "metadata": {
      "needs_background": "light"
     },
     "output_type": "display_data"
    }
   ],
   "source": [
    "# interaction plot for HS GPA and hometown\n",
    "fig, ax = plt.subplots(figsize=(6, 6))\n",
    "plt.title(\"Interaction Effect of Hometown and HS GPA\") \n",
    "fig = interaction_plot(\n",
    "    x=data['new_hometown'],\n",
    "    trace=data['new_gpa'],\n",
    "    response=data['average_diff'],\n",
    "    xlabel = \"Hometown\",\n",
    "    ylabel = \"Average Score Difference\",\n",
    "    colors=[\"red\", \"blue\",\"orange\"],\n",
    "    markers=[\"D\", \"D\", \"D\"],\n",
    "    ms=10,\n",
    "    ax=ax,\n",
    "    legendtitle = \"HS GPA\"\n",
    ")\n",
    "\n",
    "# This plot suggests interaction between hometown and gpa"
   ]
  },
  {
   "cell_type": "code",
   "execution_count": 85,
   "metadata": {},
   "outputs": [
    {
     "data": {
      "image/png": "[encoded data removed]",
      "text/plain": [
       "<Figure size 432x432 with 1 Axes>"
      ]
     },
     "metadata": {
      "needs_background": "light"
     },
     "output_type": "display_data"
    }
   ],
   "source": [
    "# interaction plot for major and HS GPA\n",
    "fig, ax = plt.subplots(figsize=(6, 6))\n",
    "plt.title(\"Interaction Effect of Intended Major and HS GPA\") \n",
    "fig = interaction_plot(\n",
    "    x=data['new_major'],\n",
    "    trace=data['new_gpa'],\n",
    "    response=data['average_diff'],\n",
    "    xlabel = \"Intended Major\",\n",
    "    ylabel = \"Average Score Difference\",\n",
    "    colors=[\"red\", \"blue\",\"orange\"],\n",
    "    markers=[\"D\", \"D\", \"D\"],\n",
    "    ms=5,\n",
    "    ax=ax,\n",
    "    legendtitle = \"HS GPA\"\n",
    ")\n",
    "\n",
    "# This plot suggests no interaction between major and gpa."
   ]
  },
  {
   "cell_type": "markdown",
   "metadata": {},
   "source": [
    "### Overall Model"
   ]
  },
  {
   "cell_type": "code",
   "execution_count": 86,
   "metadata": {},
   "outputs": [],
   "source": [
    "# import package\n",
    "from statsmodels.formula.api import ols"
   ]
  },
  {
   "cell_type": "code",
   "execution_count": 87,
   "metadata": {},
   "outputs": [
    {
     "data": {
      "text/html": [
       "<table class=\"simpletable\">\n",
       "<caption>OLS Regression Results</caption>\n",
       "<tr>\n",
       "  <th>Dep. Variable:</th>      <td>average_diff</td>   <th>  R-squared:         </th> <td>   0.136</td>\n",
       "</tr>\n",
       "<tr>\n",
       "  <th>Model:</th>                   <td>OLS</td>       <th>  Adj. R-squared:    </th> <td>   0.011</td>\n",
       "</tr>\n",
       "<tr>\n",
       "  <th>Method:</th>             <td>Least Squares</td>  <th>  F-statistic:       </th> <td>   1.084</td>\n",
       "</tr>\n",
       "<tr>\n",
       "  <th>Date:</th>             <td>Sat, 03 Dec 2022</td> <th>  Prob (F-statistic):</th>  <td> 0.365</td> \n",
       "</tr>\n",
       "<tr>\n",
       "  <th>Time:</th>                 <td>15:32:48</td>     <th>  Log-Likelihood:    </th> <td> -771.35</td>\n",
       "</tr>\n",
       "<tr>\n",
       "  <th>No. Observations:</th>      <td>   198</td>      <th>  AIC:               </th> <td>   1595.</td>\n",
       "</tr>\n",
       "<tr>\n",
       "  <th>Df Residuals:</th>          <td>   172</td>      <th>  BIC:               </th> <td>   1680.</td>\n",
       "</tr>\n",
       "<tr>\n",
       "  <th>Df Model:</th>              <td>    25</td>      <th>                     </th>     <td> </td>   \n",
       "</tr>\n",
       "<tr>\n",
       "  <th>Covariance Type:</th>      <td>nonrobust</td>    <th>                     </th>     <td> </td>   \n",
       "</tr>\n",
       "</table>\n",
       "<table class=\"simpletable\">\n",
       "<tr>\n",
       "                                    <td></td>                                       <th>coef</th>     <th>std err</th>      <th>t</th>      <th>P>|t|</th>  <th>[0.025</th>    <th>0.975]</th>  \n",
       "</tr>\n",
       "<tr>\n",
       "  <th>Intercept</th>                                                             <td>    7.0050</td> <td>    4.129</td> <td>    1.697</td> <td> 0.092</td> <td>   -1.144</td> <td>   15.154</td>\n",
       "</tr>\n",
       "<tr>\n",
       "  <th>C(new_gender)[T.Others]</th>                                               <td>   -2.6483</td> <td>    2.678</td> <td>   -0.989</td> <td> 0.324</td> <td>   -7.935</td> <td>    2.639</td>\n",
       "</tr>\n",
       "<tr>\n",
       "  <th>C(new_race)[T.Others]</th>                                                 <td>   -0.1052</td> <td>    2.155</td> <td>   -0.049</td> <td> 0.961</td> <td>   -4.359</td> <td>    4.148</td>\n",
       "</tr>\n",
       "<tr>\n",
       "  <th>C(new_major)[T.Others]</th>                                                <td>   -3.0615</td> <td>    7.168</td> <td>   -0.427</td> <td> 0.670</td> <td>  -17.210</td> <td>   11.087</td>\n",
       "</tr>\n",
       "<tr>\n",
       "  <th>C(new_hometown)[T.Others]</th>                                             <td>    1.1834</td> <td>    6.067</td> <td>    0.195</td> <td> 0.846</td> <td>  -10.792</td> <td>   13.159</td>\n",
       "</tr>\n",
       "<tr>\n",
       "  <th>C(new_hometown)[T.Suburb]</th>                                             <td>   -3.6366</td> <td>    5.935</td> <td>   -0.613</td> <td> 0.541</td> <td>  -15.352</td> <td>    8.079</td>\n",
       "</tr>\n",
       "<tr>\n",
       "  <th>C(new_hometown)[T.Town]</th>                                               <td>   -6.7595</td> <td>    6.099</td> <td>   -1.108</td> <td> 0.269</td> <td>  -18.798</td> <td>    5.279</td>\n",
       "</tr>\n",
       "<tr>\n",
       "  <th>C(new_gpa)[T.Medium]</th>                                                  <td>   -7.0872</td> <td>    5.891</td> <td>   -1.203</td> <td> 0.231</td> <td>  -18.715</td> <td>    4.541</td>\n",
       "</tr>\n",
       "<tr>\n",
       "  <th>C(new_gpa)[T.Higher]</th>                                                  <td>   -2.1745</td> <td>    5.108</td> <td>   -0.426</td> <td> 0.671</td> <td>  -12.257</td> <td>    7.908</td>\n",
       "</tr>\n",
       "<tr>\n",
       "  <th>C(new_major)[T.Others]:C(new_hometown)[T.Others]</th>                      <td>  -24.6269</td> <td>   12.507</td> <td>   -1.969</td> <td> 0.051</td> <td>  -49.313</td> <td>    0.059</td>\n",
       "</tr>\n",
       "<tr>\n",
       "  <th>C(new_major)[T.Others]:C(new_hometown)[T.Suburb]</th>                      <td>   -3.1543</td> <td>    9.210</td> <td>   -0.342</td> <td> 0.732</td> <td>  -21.334</td> <td>   15.025</td>\n",
       "</tr>\n",
       "<tr>\n",
       "  <th>C(new_major)[T.Others]:C(new_hometown)[T.Town]</th>                        <td>    2.7229</td> <td>    9.379</td> <td>    0.290</td> <td> 0.772</td> <td>  -15.791</td> <td>   21.237</td>\n",
       "</tr>\n",
       "<tr>\n",
       "  <th>C(new_major)[T.Others]:C(new_gpa)[T.Medium]</th>                           <td>   13.2693</td> <td>    9.928</td> <td>    1.337</td> <td> 0.183</td> <td>   -6.327</td> <td>   32.866</td>\n",
       "</tr>\n",
       "<tr>\n",
       "  <th>C(new_major)[T.Others]:C(new_gpa)[T.Higher]</th>                           <td>   -5.5973</td> <td>    9.645</td> <td>   -0.580</td> <td> 0.562</td> <td>  -24.635</td> <td>   13.441</td>\n",
       "</tr>\n",
       "<tr>\n",
       "  <th>C(new_gpa)[T.Medium]:C(new_hometown)[T.Others]</th>                        <td>    4.8636</td> <td>    8.881</td> <td>    0.548</td> <td> 0.585</td> <td>  -12.665</td> <td>   22.393</td>\n",
       "</tr>\n",
       "<tr>\n",
       "  <th>C(new_gpa)[T.Higher]:C(new_hometown)[T.Others]</th>                        <td>    4.6665</td> <td>    8.913</td> <td>    0.524</td> <td> 0.601</td> <td>  -12.926</td> <td>   22.259</td>\n",
       "</tr>\n",
       "<tr>\n",
       "  <th>C(new_gpa)[T.Medium]:C(new_hometown)[T.Suburb]</th>                        <td>   13.3001</td> <td>    8.714</td> <td>    1.526</td> <td> 0.129</td> <td>   -3.901</td> <td>   30.501</td>\n",
       "</tr>\n",
       "<tr>\n",
       "  <th>C(new_gpa)[T.Higher]:C(new_hometown)[T.Suburb]</th>                        <td>    4.0673</td> <td>    7.810</td> <td>    0.521</td> <td> 0.603</td> <td>  -11.348</td> <td>   19.482</td>\n",
       "</tr>\n",
       "<tr>\n",
       "  <th>C(new_gpa)[T.Medium]:C(new_hometown)[T.Town]</th>                          <td>   12.6031</td> <td>    8.154</td> <td>    1.546</td> <td> 0.124</td> <td>   -3.492</td> <td>   28.698</td>\n",
       "</tr>\n",
       "<tr>\n",
       "  <th>C(new_gpa)[T.Higher]:C(new_hometown)[T.Town]</th>                          <td>    7.8290</td> <td>    8.011</td> <td>    0.977</td> <td> 0.330</td> <td>   -7.984</td> <td>   23.642</td>\n",
       "</tr>\n",
       "<tr>\n",
       "  <th>C(new_major)[T.Others]:C(new_hometown)[T.Others]:C(new_gpa)[T.Medium]</th> <td>   -5.6689</td> <td>   17.845</td> <td>   -0.318</td> <td> 0.751</td> <td>  -40.893</td> <td>   29.555</td>\n",
       "</tr>\n",
       "<tr>\n",
       "  <th>C(new_major)[T.Others]:C(new_hometown)[T.Suburb]:C(new_gpa)[T.Medium]</th> <td>  -17.9001</td> <td>   13.121</td> <td>   -1.364</td> <td> 0.174</td> <td>  -43.799</td> <td>    7.999</td>\n",
       "</tr>\n",
       "<tr>\n",
       "  <th>C(new_major)[T.Others]:C(new_hometown)[T.Town]:C(new_gpa)[T.Medium]</th>   <td>  -15.4265</td> <td>   12.601</td> <td>   -1.224</td> <td> 0.223</td> <td>  -40.299</td> <td>    9.446</td>\n",
       "</tr>\n",
       "<tr>\n",
       "  <th>C(new_major)[T.Others]:C(new_hometown)[T.Others]:C(new_gpa)[T.Higher]</th> <td>   26.3517</td> <td>   15.610</td> <td>    1.688</td> <td> 0.093</td> <td>   -4.460</td> <td>   57.163</td>\n",
       "</tr>\n",
       "<tr>\n",
       "  <th>C(new_major)[T.Others]:C(new_hometown)[T.Suburb]:C(new_gpa)[T.Higher]</th> <td>    8.2402</td> <td>   13.552</td> <td>    0.608</td> <td> 0.544</td> <td>  -18.510</td> <td>   34.990</td>\n",
       "</tr>\n",
       "<tr>\n",
       "  <th>C(new_major)[T.Others]:C(new_hometown)[T.Town]:C(new_gpa)[T.Higher]</th>   <td>    6.9655</td> <td>   13.398</td> <td>    0.520</td> <td> 0.604</td> <td>  -19.479</td> <td>   33.411</td>\n",
       "</tr>\n",
       "</table>\n",
       "<table class=\"simpletable\">\n",
       "<tr>\n",
       "  <th>Omnibus:</th>       <td>36.258</td> <th>  Durbin-Watson:     </th> <td>   1.897</td>\n",
       "</tr>\n",
       "<tr>\n",
       "  <th>Prob(Omnibus):</th> <td> 0.000</td> <th>  Jarque-Bera (JB):  </th> <td>  78.458</td>\n",
       "</tr>\n",
       "<tr>\n",
       "  <th>Skew:</th>          <td>-0.846</td> <th>  Prob(JB):          </th> <td>9.18e-18</td>\n",
       "</tr>\n",
       "<tr>\n",
       "  <th>Kurtosis:</th>      <td> 5.578</td> <th>  Cond. No.          </th> <td>    50.6</td>\n",
       "</tr>\n",
       "</table><br/><br/>Notes:<br/>[1] Standard Errors assume that the covariance matrix of the errors is correctly specified."
      ],
      "text/plain": [
       "<class 'statsmodels.iolib.summary.Summary'>\n",
       "\"\"\"\n",
       "                            OLS Regression Results                            \n",
       "==============================================================================\n",
       "Dep. Variable:           average_diff   R-squared:                       0.136\n",
       "Model:                            OLS   Adj. R-squared:                  0.011\n",
       "Method:                 Least Squares   F-statistic:                     1.084\n",
       "Date:                Sat, 03 Dec 2022   Prob (F-statistic):              0.365\n",
       "Time:                        15:32:48   Log-Likelihood:                -771.35\n",
       "No. Observations:                 198   AIC:                             1595.\n",
       "Df Residuals:                     172   BIC:                             1680.\n",
       "Df Model:                          25                                         \n",
       "Covariance Type:            nonrobust                                         \n",
       "=========================================================================================================================================\n",
       "                                                                            coef    std err          t      P>|t|      [0.025      0.975]\n",
       "-----------------------------------------------------------------------------------------------------------------------------------------\n",
       "Intercept                                                                 7.0050      4.129      1.697      0.092      -1.144      15.154\n",
       "C(new_gender)[T.Others]                                                  -2.6483      2.678     -0.989      0.324      -7.935       2.639\n",
       "C(new_race)[T.Others]                                                    -0.1052      2.155     -0.049      0.961      -4.359       4.148\n",
       "C(new_major)[T.Others]                                                   -3.0615      7.168     -0.427      0.670     -17.210      11.087\n",
       "C(new_hometown)[T.Others]                                                 1.1834      6.067      0.195      0.846     -10.792      13.159\n",
       "C(new_hometown)[T.Suburb]                                                -3.6366      5.935     -0.613      0.541     -15.352       8.079\n",
       "C(new_hometown)[T.Town]                                                  -6.7595      6.099     -1.108      0.269     -18.798       5.279\n",
       "C(new_gpa)[T.Medium]                                                     -7.0872      5.891     -1.203      0.231     -18.715       4.541\n",
       "C(new_gpa)[T.Higher]                                                     -2.1745      5.108     -0.426      0.671     -12.257       7.908\n",
       "C(new_major)[T.Others]:C(new_hometown)[T.Others]                        -24.6269     12.507     -1.969      0.051     -49.313       0.059\n",
       "C(new_major)[T.Others]:C(new_hometown)[T.Suburb]                         -3.1543      9.210     -0.342      0.732     -21.334      15.025\n",
       "C(new_major)[T.Others]:C(new_hometown)[T.Town]                            2.7229      9.379      0.290      0.772     -15.791      21.237\n",
       "C(new_major)[T.Others]:C(new_gpa)[T.Medium]                              13.2693      9.928      1.337      0.183      -6.327      32.866\n",
       "C(new_major)[T.Others]:C(new_gpa)[T.Higher]                              -5.5973      9.645     -0.580      0.562     -24.635      13.441\n",
       "C(new_gpa)[T.Medium]:C(new_hometown)[T.Others]                            4.8636      8.881      0.548      0.585     -12.665      22.393\n",
       "C(new_gpa)[T.Higher]:C(new_hometown)[T.Others]                            4.6665      8.913      0.524      0.601     -12.926      22.259\n",
       "C(new_gpa)[T.Medium]:C(new_hometown)[T.Suburb]                           13.3001      8.714      1.526      0.129      -3.901      30.501\n",
       "C(new_gpa)[T.Higher]:C(new_hometown)[T.Suburb]                            4.0673      7.810      0.521      0.603     -11.348      19.482\n",
       "C(new_gpa)[T.Medium]:C(new_hometown)[T.Town]                             12.6031      8.154      1.546      0.124      -3.492      28.698\n",
       "C(new_gpa)[T.Higher]:C(new_hometown)[T.Town]                              7.8290      8.011      0.977      0.330      -7.984      23.642\n",
       "C(new_major)[T.Others]:C(new_hometown)[T.Others]:C(new_gpa)[T.Medium]    -5.6689     17.845     -0.318      0.751     -40.893      29.555\n",
       "C(new_major)[T.Others]:C(new_hometown)[T.Suburb]:C(new_gpa)[T.Medium]   -17.9001     13.121     -1.364      0.174     -43.799       7.999\n",
       "C(new_major)[T.Others]:C(new_hometown)[T.Town]:C(new_gpa)[T.Medium]     -15.4265     12.601     -1.224      0.223     -40.299       9.446\n",
       "C(new_major)[T.Others]:C(new_hometown)[T.Others]:C(new_gpa)[T.Higher]    26.3517     15.610      1.688      0.093      -4.460      57.163\n",
       "C(new_major)[T.Others]:C(new_hometown)[T.Suburb]:C(new_gpa)[T.Higher]     8.2402     13.552      0.608      0.544     -18.510      34.990\n",
       "C(new_major)[T.Others]:C(new_hometown)[T.Town]:C(new_gpa)[T.Higher]       6.9655     13.398      0.520      0.604     -19.479      33.411\n",
       "==============================================================================\n",
       "Omnibus:                       36.258   Durbin-Watson:                   1.897\n",
       "Prob(Omnibus):                  0.000   Jarque-Bera (JB):               78.458\n",
       "Skew:                          -0.846   Prob(JB):                     9.18e-18\n",
       "Kurtosis:                       5.578   Cond. No.                         50.6\n",
       "==============================================================================\n",
       "\n",
       "Notes:\n",
       "[1] Standard Errors assume that the covariance matrix of the errors is correctly specified.\n",
       "\"\"\""
      ]
     },
     "execution_count": 87,
     "metadata": {},
     "output_type": "execute_result"
    }
   ],
   "source": [
    "# model with all the variables and all the interactions between major, hometown, gpa\n",
    "formula = 'average_diff ~ C(new_gender) + C(new_race) + C(new_major) + C(new_hometown) + C(new_gpa) + C(new_major):C(new_hometown) + C(new_major):C(new_gpa) + C(new_gpa):C(new_hometown) + C(new_major):C(new_hometown):C(new_gpa)'\n",
    "\n",
    "# check overall model\n",
    "anova5 = ols(formula, data=data).fit()\n",
    "anova5.summary()"
   ]
  },
  {
   "cell_type": "markdown",
   "metadata": {},
   "source": [
    "Based on the summary, that model turned out to be non-significant. \\\n",
    "Then, try all the models that have all the variables and some from the interactions above, but none of those models turned out significant either. \\\n",
    "Checked all the models with all the variables and/or interactions possible with the hope to find a significant model so that we have something to analyze like interactions, main effects, etc."
   ]
  },
  {
   "cell_type": "markdown",
   "metadata": {},
   "source": [
    "### 5-way ANOVA"
   ]
  },
  {
   "cell_type": "markdown",
   "metadata": {},
   "source": [
    "Null Hypothesis (H0) — All major/hometown/gpa combinations are equal in terms of mean average difference. \\\n",
    "Alternative Hypothesis (HA) — Some major/hometown/gpa combinations have greater mean average difference."
   ]
  },
  {
   "cell_type": "code",
   "execution_count": 88,
   "metadata": {},
   "outputs": [],
   "source": [
    "# import packages\n",
    "import statsmodels.api as sm\n",
    "from statsmodels.formula.api import ols"
   ]
  },
  {
   "cell_type": "code",
   "execution_count": 89,
   "metadata": {},
   "outputs": [],
   "source": [
    "# Performing 5-way ANOVA\n",
    "model = ols('average_diff ~ C(new_major) + C(new_hometown) + C(new_gpa) + C(new_race) + C(new_gender) + C(new_major):C(new_hometown) + C(new_major):C(new_gpa) + C(new_gpa):C(new_hometown) + C(new_major):C(new_gpa):C(new_hometown)', data=data).fit()\n",
    "result = sm.stats.anova_lm(model, type=5)"
   ]
  },
  {
   "cell_type": "code",
   "execution_count": 90,
   "metadata": {
    "tags": []
   },
   "outputs": [
    {
     "data": {
      "text/html": [
       "<div>\n",
       "<style scoped>\n",
       "    .dataframe tbody tr th:only-of-type {\n",
       "        vertical-align: middle;\n",
       "    }\n",
       "\n",
       "    .dataframe tbody tr th {\n",
       "        vertical-align: top;\n",
       "    }\n",
       "\n",
       "    .dataframe thead th {\n",
       "        text-align: right;\n",
       "    }\n",
       "</style>\n",
       "<table border=\"1\" class=\"dataframe\">\n",
       "  <thead>\n",
       "    <tr style=\"text-align: right;\">\n",
       "      <th></th>\n",
       "      <th>df</th>\n",
       "      <th>sum_sq</th>\n",
       "      <th>mean_sq</th>\n",
       "      <th>F</th>\n",
       "      <th>PR(&gt;F)</th>\n",
       "    </tr>\n",
       "  </thead>\n",
       "  <tbody>\n",
       "    <tr>\n",
       "      <th>C(new_major)</th>\n",
       "      <td>1.0</td>\n",
       "      <td>878.344497</td>\n",
       "      <td>878.344497</td>\n",
       "      <td>5.385568</td>\n",
       "      <td>0.021478</td>\n",
       "    </tr>\n",
       "    <tr>\n",
       "      <th>C(new_hometown)</th>\n",
       "      <td>3.0</td>\n",
       "      <td>59.452234</td>\n",
       "      <td>19.817411</td>\n",
       "      <td>0.121510</td>\n",
       "      <td>0.947333</td>\n",
       "    </tr>\n",
       "    <tr>\n",
       "      <th>C(new_gpa)</th>\n",
       "      <td>2.0</td>\n",
       "      <td>194.627017</td>\n",
       "      <td>97.313508</td>\n",
       "      <td>0.596678</td>\n",
       "      <td>0.551774</td>\n",
       "    </tr>\n",
       "    <tr>\n",
       "      <th>C(new_race)</th>\n",
       "      <td>1.0</td>\n",
       "      <td>0.892408</td>\n",
       "      <td>0.892408</td>\n",
       "      <td>0.005472</td>\n",
       "      <td>0.941119</td>\n",
       "    </tr>\n",
       "    <tr>\n",
       "      <th>C(new_gender)</th>\n",
       "      <td>1.0</td>\n",
       "      <td>162.496189</td>\n",
       "      <td>162.496189</td>\n",
       "      <td>0.996345</td>\n",
       "      <td>0.319599</td>\n",
       "    </tr>\n",
       "    <tr>\n",
       "      <th>C(new_major):C(new_hometown)</th>\n",
       "      <td>3.0</td>\n",
       "      <td>759.930317</td>\n",
       "      <td>253.310106</td>\n",
       "      <td>1.553171</td>\n",
       "      <td>0.202616</td>\n",
       "    </tr>\n",
       "    <tr>\n",
       "      <th>C(new_major):C(new_gpa)</th>\n",
       "      <td>2.0</td>\n",
       "      <td>136.610731</td>\n",
       "      <td>68.305366</td>\n",
       "      <td>0.418814</td>\n",
       "      <td>0.658495</td>\n",
       "    </tr>\n",
       "    <tr>\n",
       "      <th>C(new_gpa):C(new_hometown)</th>\n",
       "      <td>6.0</td>\n",
       "      <td>950.459991</td>\n",
       "      <td>158.409998</td>\n",
       "      <td>0.971291</td>\n",
       "      <td>0.446265</td>\n",
       "    </tr>\n",
       "    <tr>\n",
       "      <th>C(new_major):C(new_gpa):C(new_hometown)</th>\n",
       "      <td>6.0</td>\n",
       "      <td>1277.907750</td>\n",
       "      <td>212.984625</td>\n",
       "      <td>1.305915</td>\n",
       "      <td>0.256944</td>\n",
       "    </tr>\n",
       "    <tr>\n",
       "      <th>Residual</th>\n",
       "      <td>172.0</td>\n",
       "      <td>28051.869777</td>\n",
       "      <td>163.092266</td>\n",
       "      <td>NaN</td>\n",
       "      <td>NaN</td>\n",
       "    </tr>\n",
       "  </tbody>\n",
       "</table>\n",
       "</div>"
      ],
      "text/plain": [
       "                                            df        sum_sq     mean_sq  \\\n",
       "C(new_major)                               1.0    878.344497  878.344497   \n",
       "C(new_hometown)                            3.0     59.452234   19.817411   \n",
       "C(new_gpa)                                 2.0    194.627017   97.313508   \n",
       "C(new_race)                                1.0      0.892408    0.892408   \n",
       "C(new_gender)                              1.0    162.496189  162.496189   \n",
       "C(new_major):C(new_hometown)               3.0    759.930317  253.310106   \n",
       "C(new_major):C(new_gpa)                    2.0    136.610731   68.305366   \n",
       "C(new_gpa):C(new_hometown)                 6.0    950.459991  158.409998   \n",
       "C(new_major):C(new_gpa):C(new_hometown)    6.0   1277.907750  212.984625   \n",
       "Residual                                 172.0  28051.869777  163.092266   \n",
       "\n",
       "                                                F    PR(>F)  \n",
       "C(new_major)                             5.385568  0.021478  \n",
       "C(new_hometown)                          0.121510  0.947333  \n",
       "C(new_gpa)                               0.596678  0.551774  \n",
       "C(new_race)                              0.005472  0.941119  \n",
       "C(new_gender)                            0.996345  0.319599  \n",
       "C(new_major):C(new_hometown)             1.553171  0.202616  \n",
       "C(new_major):C(new_gpa)                  0.418814  0.658495  \n",
       "C(new_gpa):C(new_hometown)               0.971291  0.446265  \n",
       "C(new_major):C(new_gpa):C(new_hometown)  1.305915  0.256944  \n",
       "Residual                                      NaN       NaN  "
      ]
     },
     "execution_count": 90,
     "metadata": {},
     "output_type": "execute_result"
    }
   ],
   "source": [
    "result"
   ]
  },
  {
   "cell_type": "markdown",
   "metadata": {},
   "source": [
    "### Tukey's Method Ad-Hoc"
   ]
  },
  {
   "cell_type": "code",
   "execution_count": 91,
   "metadata": {},
   "outputs": [],
   "source": [
    "# import packages\n",
    "from scipy.stats import f_oneway\n",
    "from statsmodels.stats.multicomp import pairwise_tukeyhsd"
   ]
  },
  {
   "cell_type": "code",
   "execution_count": 92,
   "metadata": {},
   "outputs": [],
   "source": [
    "# perform Tukey's test\n",
    "tukey = pairwise_tukeyhsd(endog=data['average_diff'],\n",
    "                          groups=data['new_major'],\n",
    "                          alpha=0.05)"
   ]
  },
  {
   "cell_type": "code",
   "execution_count": 93,
   "metadata": {},
   "outputs": [
    {
     "name": "stdout",
     "output_type": "stream",
     "text": [
      " Multiple Comparison of Means - Tukey HSD, FWER=0.05 \n",
      "=====================================================\n",
      " group1 group2 meandiff p-adj   lower   upper  reject\n",
      "-----------------------------------------------------\n",
      "Biology Others  -4.2685 0.0206 -7.8748 -0.6622   True\n",
      "-----------------------------------------------------\n"
     ]
    }
   ],
   "source": [
    "# see result for Major\n",
    "print(tukey)"
   ]
  },
  {
   "cell_type": "markdown",
   "metadata": {},
   "source": [
    "## Finding Significant Models"
   ]
  },
  {
   "cell_type": "code",
   "execution_count": 94,
   "metadata": {},
   "outputs": [],
   "source": [
    "# Create dummy variables from the 5 predictor variables\n",
    "dummy_gender = pd.get_dummies(data['new_gender'], prefix = 'new_gender')\n",
    "dummy_race = pd.get_dummies(data['new_race'], prefix = 'new_race')\n",
    "dummy_major = pd.get_dummies(data['new_major'], prefix = 'new_major')\n",
    "dummy_hometown = pd.get_dummies(data['new_hometown'], prefix = 'new_hometown')\n",
    "dummy_gpa = pd.get_dummies(data['new_gpa'], prefix = 'new_gpa')"
   ]
  },
  {
   "cell_type": "code",
   "execution_count": 95,
   "metadata": {},
   "outputs": [],
   "source": [
    "# Add those dummy variables to the original dataset\n",
    "\n",
    "df = pd.concat([data, dummy_gender, dummy_race, dummy_major, dummy_hometown, dummy_gpa], axis = 1)\n",
    "\n",
    "df = df.rename(columns={\"new_race_Caucasian; White\": \"new_race_White\"})"
   ]
  },
  {
   "cell_type": "code",
   "execution_count": 96,
   "metadata": {},
   "outputs": [
    {
     "data": {
      "text/html": [
       "<div>\n",
       "<style scoped>\n",
       "    .dataframe tbody tr th:only-of-type {\n",
       "        vertical-align: middle;\n",
       "    }\n",
       "\n",
       "    .dataframe tbody tr th {\n",
       "        vertical-align: top;\n",
       "    }\n",
       "\n",
       "    .dataframe thead th {\n",
       "        text-align: right;\n",
       "    }\n",
       "</style>\n",
       "<table border=\"1\" class=\"dataframe\">\n",
       "  <thead>\n",
       "    <tr style=\"text-align: right;\">\n",
       "      <th></th>\n",
       "      <th>const</th>\n",
       "      <th>new_gender_Female</th>\n",
       "      <th>new_race_White</th>\n",
       "      <th>new_major_Biology</th>\n",
       "      <th>new_hometown_City</th>\n",
       "      <th>new_hometown_Suburb</th>\n",
       "      <th>new_hometown_Town</th>\n",
       "      <th>new_gpa_Lower</th>\n",
       "      <th>new_gpa_Medium</th>\n",
       "    </tr>\n",
       "  </thead>\n",
       "  <tbody>\n",
       "    <tr>\n",
       "      <th>0</th>\n",
       "      <td>1.0</td>\n",
       "      <td>0</td>\n",
       "      <td>0</td>\n",
       "      <td>0</td>\n",
       "      <td>1</td>\n",
       "      <td>0</td>\n",
       "      <td>0</td>\n",
       "      <td>1</td>\n",
       "      <td>0</td>\n",
       "    </tr>\n",
       "    <tr>\n",
       "      <th>1</th>\n",
       "      <td>1.0</td>\n",
       "      <td>1</td>\n",
       "      <td>0</td>\n",
       "      <td>1</td>\n",
       "      <td>1</td>\n",
       "      <td>0</td>\n",
       "      <td>0</td>\n",
       "      <td>0</td>\n",
       "      <td>0</td>\n",
       "    </tr>\n",
       "    <tr>\n",
       "      <th>2</th>\n",
       "      <td>1.0</td>\n",
       "      <td>1</td>\n",
       "      <td>0</td>\n",
       "      <td>1</td>\n",
       "      <td>1</td>\n",
       "      <td>0</td>\n",
       "      <td>0</td>\n",
       "      <td>0</td>\n",
       "      <td>1</td>\n",
       "    </tr>\n",
       "    <tr>\n",
       "      <th>3</th>\n",
       "      <td>1.0</td>\n",
       "      <td>1</td>\n",
       "      <td>1</td>\n",
       "      <td>1</td>\n",
       "      <td>0</td>\n",
       "      <td>0</td>\n",
       "      <td>0</td>\n",
       "      <td>0</td>\n",
       "      <td>0</td>\n",
       "    </tr>\n",
       "    <tr>\n",
       "      <th>4</th>\n",
       "      <td>1.0</td>\n",
       "      <td>0</td>\n",
       "      <td>0</td>\n",
       "      <td>0</td>\n",
       "      <td>1</td>\n",
       "      <td>0</td>\n",
       "      <td>0</td>\n",
       "      <td>0</td>\n",
       "      <td>1</td>\n",
       "    </tr>\n",
       "  </tbody>\n",
       "</table>\n",
       "</div>"
      ],
      "text/plain": [
       "   const  new_gender_Female  new_race_White  new_major_Biology  \\\n",
       "0    1.0                  0               0                  0   \n",
       "1    1.0                  1               0                  1   \n",
       "2    1.0                  1               0                  1   \n",
       "3    1.0                  1               1                  1   \n",
       "4    1.0                  0               0                  0   \n",
       "\n",
       "   new_hometown_City  new_hometown_Suburb  new_hometown_Town  new_gpa_Lower  \\\n",
       "0                  1                    0                  0              1   \n",
       "1                  1                    0                  0              0   \n",
       "2                  1                    0                  0              0   \n",
       "3                  0                    0                  0              0   \n",
       "4                  1                    0                  0              0   \n",
       "\n",
       "   new_gpa_Medium  \n",
       "0               0  \n",
       "1               0  \n",
       "2               1  \n",
       "3               0  \n",
       "4               1  "
      ]
     },
     "execution_count": 96,
     "metadata": {},
     "output_type": "execute_result"
    }
   ],
   "source": [
    "# Create matrix X and vector y. Now our predictor variables will be the dummy variables.\n",
    "\n",
    "X = df[['new_gender_Female','new_race_White','new_major_Biology','new_hometown_City','new_hometown_Suburb','new_hometown_Town','new_gpa_Lower','new_gpa_Medium']]\n",
    "X = sm.add_constant(X)\n",
    "y = df[['average_diff']]\n",
    "\n",
    "X.head()"
   ]
  },
  {
   "cell_type": "code",
   "execution_count": 97,
   "metadata": {},
   "outputs": [
    {
     "data": {
      "text/html": [
       "<div>\n",
       "<style scoped>\n",
       "    .dataframe tbody tr th:only-of-type {\n",
       "        vertical-align: middle;\n",
       "    }\n",
       "\n",
       "    .dataframe tbody tr th {\n",
       "        vertical-align: top;\n",
       "    }\n",
       "\n",
       "    .dataframe thead th {\n",
       "        text-align: right;\n",
       "    }\n",
       "</style>\n",
       "<table border=\"1\" class=\"dataframe\">\n",
       "  <thead>\n",
       "    <tr style=\"text-align: right;\">\n",
       "      <th></th>\n",
       "      <th>features</th>\n",
       "      <th>VIF Factor</th>\n",
       "    </tr>\n",
       "  </thead>\n",
       "  <tbody>\n",
       "    <tr>\n",
       "      <th>0</th>\n",
       "      <td>const</td>\n",
       "      <td>18.522653</td>\n",
       "    </tr>\n",
       "    <tr>\n",
       "      <th>1</th>\n",
       "      <td>new_gender_Female</td>\n",
       "      <td>1.054650</td>\n",
       "    </tr>\n",
       "    <tr>\n",
       "      <th>2</th>\n",
       "      <td>new_race_White</td>\n",
       "      <td>1.054674</td>\n",
       "    </tr>\n",
       "    <tr>\n",
       "      <th>3</th>\n",
       "      <td>new_major_Biology</td>\n",
       "      <td>1.026670</td>\n",
       "    </tr>\n",
       "    <tr>\n",
       "      <th>4</th>\n",
       "      <td>new_hometown_City</td>\n",
       "      <td>1.876000</td>\n",
       "    </tr>\n",
       "    <tr>\n",
       "      <th>5</th>\n",
       "      <td>new_hometown_Suburb</td>\n",
       "      <td>1.860550</td>\n",
       "    </tr>\n",
       "    <tr>\n",
       "      <th>6</th>\n",
       "      <td>new_hometown_Town</td>\n",
       "      <td>1.979336</td>\n",
       "    </tr>\n",
       "    <tr>\n",
       "      <th>7</th>\n",
       "      <td>new_gpa_Lower</td>\n",
       "      <td>1.369994</td>\n",
       "    </tr>\n",
       "    <tr>\n",
       "      <th>8</th>\n",
       "      <td>new_gpa_Medium</td>\n",
       "      <td>1.394672</td>\n",
       "    </tr>\n",
       "  </tbody>\n",
       "</table>\n",
       "</div>"
      ],
      "text/plain": [
       "              features  VIF Factor\n",
       "0                const   18.522653\n",
       "1    new_gender_Female    1.054650\n",
       "2       new_race_White    1.054674\n",
       "3    new_major_Biology    1.026670\n",
       "4    new_hometown_City    1.876000\n",
       "5  new_hometown_Suburb    1.860550\n",
       "6    new_hometown_Town    1.979336\n",
       "7        new_gpa_Lower    1.369994\n",
       "8       new_gpa_Medium    1.394672"
      ]
     },
     "execution_count": 97,
     "metadata": {},
     "output_type": "execute_result"
    }
   ],
   "source": [
    "# Check the multicollinearity between the predictor variables. VIF is less than 5, so no issues of multicollinearity.\n",
    "\n",
    "from statsmodels.stats.outliers_influence import variance_inflation_factor\n",
    "\n",
    "vif = pd.DataFrame()\n",
    "vif[\"features\"] = X.columns\n",
    "vif[\"VIF Factor\"] = [variance_inflation_factor(X.values, i) for i in range(X.shape[1])]\n",
    "vif"
   ]
  },
  {
   "cell_type": "code",
   "execution_count": 98,
   "metadata": {},
   "outputs": [
    {
     "name": "stderr",
     "output_type": "stream",
     "text": [
      "/Library/Frameworks/Python.framework/Versions/3.8/lib/python3.8/site-packages/sklearn/utils/deprecation.py:87: FutureWarning: Function get_feature_names is deprecated; get_feature_names is deprecated in 1.0 and will be removed in 1.2. Please use get_feature_names_out instead.\n",
      "  warnings.warn(msg, category=FutureWarning)\n"
     ]
    },
    {
     "data": {
      "text/html": [
       "<div>\n",
       "<style scoped>\n",
       "    .dataframe tbody tr th:only-of-type {\n",
       "        vertical-align: middle;\n",
       "    }\n",
       "\n",
       "    .dataframe tbody tr th {\n",
       "        vertical-align: top;\n",
       "    }\n",
       "\n",
       "    .dataframe thead th {\n",
       "        text-align: right;\n",
       "    }\n",
       "</style>\n",
       "<table border=\"1\" class=\"dataframe\">\n",
       "  <thead>\n",
       "    <tr style=\"text-align: right;\">\n",
       "      <th></th>\n",
       "      <th>1</th>\n",
       "      <th>x0</th>\n",
       "      <th>x1</th>\n",
       "      <th>x2</th>\n",
       "      <th>x3</th>\n",
       "      <th>x4</th>\n",
       "      <th>x5</th>\n",
       "      <th>x6</th>\n",
       "      <th>x7</th>\n",
       "      <th>x8</th>\n",
       "      <th>...</th>\n",
       "      <th>x4 x5</th>\n",
       "      <th>x4 x6</th>\n",
       "      <th>x4 x7</th>\n",
       "      <th>x4 x8</th>\n",
       "      <th>x5 x6</th>\n",
       "      <th>x5 x7</th>\n",
       "      <th>x5 x8</th>\n",
       "      <th>x6 x7</th>\n",
       "      <th>x6 x8</th>\n",
       "      <th>x7 x8</th>\n",
       "    </tr>\n",
       "  </thead>\n",
       "  <tbody>\n",
       "    <tr>\n",
       "      <th>0</th>\n",
       "      <td>1.0</td>\n",
       "      <td>1.0</td>\n",
       "      <td>0.0</td>\n",
       "      <td>0.0</td>\n",
       "      <td>0.0</td>\n",
       "      <td>1.0</td>\n",
       "      <td>0.0</td>\n",
       "      <td>0.0</td>\n",
       "      <td>1.0</td>\n",
       "      <td>0.0</td>\n",
       "      <td>...</td>\n",
       "      <td>0.0</td>\n",
       "      <td>0.0</td>\n",
       "      <td>1.0</td>\n",
       "      <td>0.0</td>\n",
       "      <td>0.0</td>\n",
       "      <td>0.0</td>\n",
       "      <td>0.0</td>\n",
       "      <td>0.0</td>\n",
       "      <td>0.0</td>\n",
       "      <td>0.0</td>\n",
       "    </tr>\n",
       "    <tr>\n",
       "      <th>1</th>\n",
       "      <td>1.0</td>\n",
       "      <td>1.0</td>\n",
       "      <td>1.0</td>\n",
       "      <td>0.0</td>\n",
       "      <td>1.0</td>\n",
       "      <td>1.0</td>\n",
       "      <td>0.0</td>\n",
       "      <td>0.0</td>\n",
       "      <td>0.0</td>\n",
       "      <td>0.0</td>\n",
       "      <td>...</td>\n",
       "      <td>0.0</td>\n",
       "      <td>0.0</td>\n",
       "      <td>0.0</td>\n",
       "      <td>0.0</td>\n",
       "      <td>0.0</td>\n",
       "      <td>0.0</td>\n",
       "      <td>0.0</td>\n",
       "      <td>0.0</td>\n",
       "      <td>0.0</td>\n",
       "      <td>0.0</td>\n",
       "    </tr>\n",
       "    <tr>\n",
       "      <th>2</th>\n",
       "      <td>1.0</td>\n",
       "      <td>1.0</td>\n",
       "      <td>1.0</td>\n",
       "      <td>0.0</td>\n",
       "      <td>1.0</td>\n",
       "      <td>1.0</td>\n",
       "      <td>0.0</td>\n",
       "      <td>0.0</td>\n",
       "      <td>0.0</td>\n",
       "      <td>1.0</td>\n",
       "      <td>...</td>\n",
       "      <td>0.0</td>\n",
       "      <td>0.0</td>\n",
       "      <td>0.0</td>\n",
       "      <td>1.0</td>\n",
       "      <td>0.0</td>\n",
       "      <td>0.0</td>\n",
       "      <td>0.0</td>\n",
       "      <td>0.0</td>\n",
       "      <td>0.0</td>\n",
       "      <td>0.0</td>\n",
       "    </tr>\n",
       "    <tr>\n",
       "      <th>3</th>\n",
       "      <td>1.0</td>\n",
       "      <td>1.0</td>\n",
       "      <td>1.0</td>\n",
       "      <td>1.0</td>\n",
       "      <td>1.0</td>\n",
       "      <td>0.0</td>\n",
       "      <td>0.0</td>\n",
       "      <td>0.0</td>\n",
       "      <td>0.0</td>\n",
       "      <td>0.0</td>\n",
       "      <td>...</td>\n",
       "      <td>0.0</td>\n",
       "      <td>0.0</td>\n",
       "      <td>0.0</td>\n",
       "      <td>0.0</td>\n",
       "      <td>0.0</td>\n",
       "      <td>0.0</td>\n",
       "      <td>0.0</td>\n",
       "      <td>0.0</td>\n",
       "      <td>0.0</td>\n",
       "      <td>0.0</td>\n",
       "    </tr>\n",
       "    <tr>\n",
       "      <th>4</th>\n",
       "      <td>1.0</td>\n",
       "      <td>1.0</td>\n",
       "      <td>0.0</td>\n",
       "      <td>0.0</td>\n",
       "      <td>0.0</td>\n",
       "      <td>1.0</td>\n",
       "      <td>0.0</td>\n",
       "      <td>0.0</td>\n",
       "      <td>0.0</td>\n",
       "      <td>1.0</td>\n",
       "      <td>...</td>\n",
       "      <td>0.0</td>\n",
       "      <td>0.0</td>\n",
       "      <td>0.0</td>\n",
       "      <td>1.0</td>\n",
       "      <td>0.0</td>\n",
       "      <td>0.0</td>\n",
       "      <td>0.0</td>\n",
       "      <td>0.0</td>\n",
       "      <td>0.0</td>\n",
       "      <td>0.0</td>\n",
       "    </tr>\n",
       "  </tbody>\n",
       "</table>\n",
       "<p>5 rows × 46 columns</p>\n",
       "</div>"
      ],
      "text/plain": [
       "     1   x0   x1   x2   x3   x4   x5   x6   x7   x8  ...  x4 x5  x4 x6  x4 x7  \\\n",
       "0  1.0  1.0  0.0  0.0  0.0  1.0  0.0  0.0  1.0  0.0  ...    0.0    0.0    1.0   \n",
       "1  1.0  1.0  1.0  0.0  1.0  1.0  0.0  0.0  0.0  0.0  ...    0.0    0.0    0.0   \n",
       "2  1.0  1.0  1.0  0.0  1.0  1.0  0.0  0.0  0.0  1.0  ...    0.0    0.0    0.0   \n",
       "3  1.0  1.0  1.0  1.0  1.0  0.0  0.0  0.0  0.0  0.0  ...    0.0    0.0    0.0   \n",
       "4  1.0  1.0  0.0  0.0  0.0  1.0  0.0  0.0  0.0  1.0  ...    0.0    0.0    0.0   \n",
       "\n",
       "   x4 x8  x5 x6  x5 x7  x5 x8  x6 x7  x6 x8  x7 x8  \n",
       "0    0.0    0.0    0.0    0.0    0.0    0.0    0.0  \n",
       "1    0.0    0.0    0.0    0.0    0.0    0.0    0.0  \n",
       "2    1.0    0.0    0.0    0.0    0.0    0.0    0.0  \n",
       "3    0.0    0.0    0.0    0.0    0.0    0.0    0.0  \n",
       "4    1.0    0.0    0.0    0.0    0.0    0.0    0.0  \n",
       "\n",
       "[5 rows x 46 columns]"
      ]
     },
     "execution_count": 98,
     "metadata": {},
     "output_type": "execute_result"
    }
   ],
   "source": [
    "from sklearn.preprocessing import PolynomialFeatures\n",
    "import scipy.special\n",
    "\n",
    "poly = PolynomialFeatures(interaction_only=True)\n",
    "X_tr = poly.fit_transform(X)\n",
    "k=pd.DataFrame(X_tr,columns=poly.get_feature_names()) # k is the dataframe with 8 dummy variables and all 36 interaction variables\n",
    "k.head()"
   ]
  },
  {
   "cell_type": "code",
   "execution_count": 99,
   "metadata": {},
   "outputs": [
    {
     "name": "stderr",
     "output_type": "stream",
     "text": [
      "/var/folders/y7/_1vxzd515rx2fsyf76lh5z980000gn/T/ipykernel_52077/566726670.py:3: FutureWarning: In a future version of pandas all arguments of DataFrame.drop except for the argument 'labels' will be keyword-only.\n",
      "  Xt = pd.concat([X,k.drop(['1','x0','x1','x2','x3','x4','x5','x6','x7','x8',\n",
      "/var/folders/y7/_1vxzd515rx2fsyf76lh5z980000gn/T/ipykernel_52077/566726670.py:3: FutureWarning: In a future version of pandas all arguments of concat except for the argument 'objs' will be keyword-only.\n",
      "  Xt = pd.concat([X,k.drop(['1','x0','x1','x2','x3','x4','x5','x6','x7','x8',\n"
     ]
    }
   ],
   "source": [
    "# Drop the interaction variables that include gender and race from dataframe k and then concatenate it with X\n",
    "\n",
    "Xt = pd.concat([X,k.drop(['1','x0','x1','x2','x3','x4','x5','x6','x7','x8',\n",
    " 'x0 x1',\n",
    "'x0 x2', \n",
    "'x0 x3', \n",
    "'x0 x4', \n",
    " 'x0 x5', \n",
    "'x0 x6',  \n",
    "'x0 x7',\n",
    "'x0 x8',                                                                            \n",
    " 'x1 x2',\n",
    " 'x1 x3',\n",
    " 'x1 x4',\n",
    " 'x1 x5',\n",
    " 'x1 x6',\n",
    " 'x1 x7',\n",
    " 'x1 x8',\n",
    " 'x2 x3',\n",
    " 'x2 x4',\n",
    " 'x2 x5',\n",
    " 'x2 x6',\n",
    " 'x2 x7',\n",
    " 'x2 x8',],1)],1) # drop the interactions where either gender or race is included"
   ]
  },
  {
   "cell_type": "code",
   "execution_count": 100,
   "metadata": {},
   "outputs": [
    {
     "data": {
      "text/html": [
       "<div>\n",
       "<style scoped>\n",
       "    .dataframe tbody tr th:only-of-type {\n",
       "        vertical-align: middle;\n",
       "    }\n",
       "\n",
       "    .dataframe tbody tr th {\n",
       "        vertical-align: top;\n",
       "    }\n",
       "\n",
       "    .dataframe thead th {\n",
       "        text-align: right;\n",
       "    }\n",
       "</style>\n",
       "<table border=\"1\" class=\"dataframe\">\n",
       "  <thead>\n",
       "    <tr style=\"text-align: right;\">\n",
       "      <th></th>\n",
       "      <th>const</th>\n",
       "      <th>new_gender_Female</th>\n",
       "      <th>new_race_White</th>\n",
       "      <th>new_major_Biology</th>\n",
       "      <th>new_hometown_City</th>\n",
       "      <th>new_hometown_Suburb</th>\n",
       "      <th>new_hometown_Town</th>\n",
       "      <th>new_gpa_Lower</th>\n",
       "      <th>new_gpa_Medium</th>\n",
       "      <th>x3 x4</th>\n",
       "      <th>...</th>\n",
       "      <th>x4 x5</th>\n",
       "      <th>x4 x6</th>\n",
       "      <th>x4 x7</th>\n",
       "      <th>x4 x8</th>\n",
       "      <th>x5 x6</th>\n",
       "      <th>x5 x7</th>\n",
       "      <th>x5 x8</th>\n",
       "      <th>x6 x7</th>\n",
       "      <th>x6 x8</th>\n",
       "      <th>x7 x8</th>\n",
       "    </tr>\n",
       "  </thead>\n",
       "  <tbody>\n",
       "    <tr>\n",
       "      <th>0</th>\n",
       "      <td>1.0</td>\n",
       "      <td>0</td>\n",
       "      <td>0</td>\n",
       "      <td>0</td>\n",
       "      <td>1</td>\n",
       "      <td>0</td>\n",
       "      <td>0</td>\n",
       "      <td>1</td>\n",
       "      <td>0</td>\n",
       "      <td>0.0</td>\n",
       "      <td>...</td>\n",
       "      <td>0.0</td>\n",
       "      <td>0.0</td>\n",
       "      <td>1.0</td>\n",
       "      <td>0.0</td>\n",
       "      <td>0.0</td>\n",
       "      <td>0.0</td>\n",
       "      <td>0.0</td>\n",
       "      <td>0.0</td>\n",
       "      <td>0.0</td>\n",
       "      <td>0.0</td>\n",
       "    </tr>\n",
       "    <tr>\n",
       "      <th>1</th>\n",
       "      <td>1.0</td>\n",
       "      <td>1</td>\n",
       "      <td>0</td>\n",
       "      <td>1</td>\n",
       "      <td>1</td>\n",
       "      <td>0</td>\n",
       "      <td>0</td>\n",
       "      <td>0</td>\n",
       "      <td>0</td>\n",
       "      <td>1.0</td>\n",
       "      <td>...</td>\n",
       "      <td>0.0</td>\n",
       "      <td>0.0</td>\n",
       "      <td>0.0</td>\n",
       "      <td>0.0</td>\n",
       "      <td>0.0</td>\n",
       "      <td>0.0</td>\n",
       "      <td>0.0</td>\n",
       "      <td>0.0</td>\n",
       "      <td>0.0</td>\n",
       "      <td>0.0</td>\n",
       "    </tr>\n",
       "    <tr>\n",
       "      <th>2</th>\n",
       "      <td>1.0</td>\n",
       "      <td>1</td>\n",
       "      <td>0</td>\n",
       "      <td>1</td>\n",
       "      <td>1</td>\n",
       "      <td>0</td>\n",
       "      <td>0</td>\n",
       "      <td>0</td>\n",
       "      <td>1</td>\n",
       "      <td>1.0</td>\n",
       "      <td>...</td>\n",
       "      <td>0.0</td>\n",
       "      <td>0.0</td>\n",
       "      <td>0.0</td>\n",
       "      <td>1.0</td>\n",
       "      <td>0.0</td>\n",
       "      <td>0.0</td>\n",
       "      <td>0.0</td>\n",
       "      <td>0.0</td>\n",
       "      <td>0.0</td>\n",
       "      <td>0.0</td>\n",
       "    </tr>\n",
       "    <tr>\n",
       "      <th>3</th>\n",
       "      <td>1.0</td>\n",
       "      <td>1</td>\n",
       "      <td>1</td>\n",
       "      <td>1</td>\n",
       "      <td>0</td>\n",
       "      <td>0</td>\n",
       "      <td>0</td>\n",
       "      <td>0</td>\n",
       "      <td>0</td>\n",
       "      <td>0.0</td>\n",
       "      <td>...</td>\n",
       "      <td>0.0</td>\n",
       "      <td>0.0</td>\n",
       "      <td>0.0</td>\n",
       "      <td>0.0</td>\n",
       "      <td>0.0</td>\n",
       "      <td>0.0</td>\n",
       "      <td>0.0</td>\n",
       "      <td>0.0</td>\n",
       "      <td>0.0</td>\n",
       "      <td>0.0</td>\n",
       "    </tr>\n",
       "    <tr>\n",
       "      <th>4</th>\n",
       "      <td>1.0</td>\n",
       "      <td>0</td>\n",
       "      <td>0</td>\n",
       "      <td>0</td>\n",
       "      <td>1</td>\n",
       "      <td>0</td>\n",
       "      <td>0</td>\n",
       "      <td>0</td>\n",
       "      <td>1</td>\n",
       "      <td>0.0</td>\n",
       "      <td>...</td>\n",
       "      <td>0.0</td>\n",
       "      <td>0.0</td>\n",
       "      <td>0.0</td>\n",
       "      <td>1.0</td>\n",
       "      <td>0.0</td>\n",
       "      <td>0.0</td>\n",
       "      <td>0.0</td>\n",
       "      <td>0.0</td>\n",
       "      <td>0.0</td>\n",
       "      <td>0.0</td>\n",
       "    </tr>\n",
       "  </tbody>\n",
       "</table>\n",
       "<p>5 rows × 24 columns</p>\n",
       "</div>"
      ],
      "text/plain": [
       "   const  new_gender_Female  new_race_White  new_major_Biology  \\\n",
       "0    1.0                  0               0                  0   \n",
       "1    1.0                  1               0                  1   \n",
       "2    1.0                  1               0                  1   \n",
       "3    1.0                  1               1                  1   \n",
       "4    1.0                  0               0                  0   \n",
       "\n",
       "   new_hometown_City  new_hometown_Suburb  new_hometown_Town  new_gpa_Lower  \\\n",
       "0                  1                    0                  0              1   \n",
       "1                  1                    0                  0              0   \n",
       "2                  1                    0                  0              0   \n",
       "3                  0                    0                  0              0   \n",
       "4                  1                    0                  0              0   \n",
       "\n",
       "   new_gpa_Medium  x3 x4  ...  x4 x5  x4 x6  x4 x7  x4 x8  x5 x6  x5 x7  \\\n",
       "0               0    0.0  ...    0.0    0.0    1.0    0.0    0.0    0.0   \n",
       "1               0    1.0  ...    0.0    0.0    0.0    0.0    0.0    0.0   \n",
       "2               1    1.0  ...    0.0    0.0    0.0    1.0    0.0    0.0   \n",
       "3               0    0.0  ...    0.0    0.0    0.0    0.0    0.0    0.0   \n",
       "4               1    0.0  ...    0.0    0.0    0.0    1.0    0.0    0.0   \n",
       "\n",
       "   x5 x8  x6 x7  x6 x8  x7 x8  \n",
       "0    0.0    0.0    0.0    0.0  \n",
       "1    0.0    0.0    0.0    0.0  \n",
       "2    0.0    0.0    0.0    0.0  \n",
       "3    0.0    0.0    0.0    0.0  \n",
       "4    0.0    0.0    0.0    0.0  \n",
       "\n",
       "[5 rows x 24 columns]"
      ]
     },
     "execution_count": 100,
     "metadata": {},
     "output_type": "execute_result"
    }
   ],
   "source": [
    "Xt.head() # Xt has now 8 dummy variables and 15 interaction variables"
   ]
  },
  {
   "cell_type": "code",
   "execution_count": 101,
   "metadata": {
    "collapsed": true,
    "jupyter": {
     "outputs_hidden": true
    },
    "tags": []
   },
   "outputs": [
    {
     "name": "stderr",
     "output_type": "stream",
     "text": [
      "/Library/Frameworks/Python.framework/Versions/3.8/lib/python3.8/site-packages/statsmodels/regression/linear_model.py:1918: RuntimeWarning: divide by zero encountered in double_scalars\n",
      "  return np.sqrt(eigvals[0]/eigvals[-1])\n",
      "/Library/Frameworks/Python.framework/Versions/3.8/lib/python3.8/site-packages/statsmodels/regression/linear_model.py:1918: RuntimeWarning: divide by zero encountered in double_scalars\n",
      "  return np.sqrt(eigvals[0]/eigvals[-1])\n",
      "/Library/Frameworks/Python.framework/Versions/3.8/lib/python3.8/site-packages/statsmodels/regression/linear_model.py:1918: RuntimeWarning: divide by zero encountered in double_scalars\n",
      "  return np.sqrt(eigvals[0]/eigvals[-1])\n",
      "/Library/Frameworks/Python.framework/Versions/3.8/lib/python3.8/site-packages/statsmodels/regression/linear_model.py:1918: RuntimeWarning: divide by zero encountered in double_scalars\n",
      "  return np.sqrt(eigvals[0]/eigvals[-1])\n",
      "/Library/Frameworks/Python.framework/Versions/3.8/lib/python3.8/site-packages/statsmodels/regression/linear_model.py:1918: RuntimeWarning: divide by zero encountered in double_scalars\n",
      "  return np.sqrt(eigvals[0]/eigvals[-1])\n",
      "/Library/Frameworks/Python.framework/Versions/3.8/lib/python3.8/site-packages/statsmodels/regression/linear_model.py:1918: RuntimeWarning: divide by zero encountered in double_scalars\n",
      "  return np.sqrt(eigvals[0]/eigvals[-1])\n",
      "/Library/Frameworks/Python.framework/Versions/3.8/lib/python3.8/site-packages/statsmodels/regression/linear_model.py:1918: RuntimeWarning: divide by zero encountered in double_scalars\n",
      "  return np.sqrt(eigvals[0]/eigvals[-1])\n",
      "/Library/Frameworks/Python.framework/Versions/3.8/lib/python3.8/site-packages/statsmodels/regression/linear_model.py:1918: RuntimeWarning: divide by zero encountered in double_scalars\n",
      "  return np.sqrt(eigvals[0]/eigvals[-1])\n",
      "/Library/Frameworks/Python.framework/Versions/3.8/lib/python3.8/site-packages/statsmodels/regression/linear_model.py:1918: RuntimeWarning: divide by zero encountered in double_scalars\n",
      "  return np.sqrt(eigvals[0]/eigvals[-1])\n",
      "/Library/Frameworks/Python.framework/Versions/3.8/lib/python3.8/site-packages/statsmodels/regression/linear_model.py:1918: RuntimeWarning: divide by zero encountered in double_scalars\n",
      "  return np.sqrt(eigvals[0]/eigvals[-1])\n",
      "/Library/Frameworks/Python.framework/Versions/3.8/lib/python3.8/site-packages/statsmodels/regression/linear_model.py:1918: RuntimeWarning: divide by zero encountered in double_scalars\n",
      "  return np.sqrt(eigvals[0]/eigvals[-1])\n",
      "/Library/Frameworks/Python.framework/Versions/3.8/lib/python3.8/site-packages/statsmodels/regression/linear_model.py:1918: RuntimeWarning: divide by zero encountered in double_scalars\n",
      "  return np.sqrt(eigvals[0]/eigvals[-1])\n",
      "/Library/Frameworks/Python.framework/Versions/3.8/lib/python3.8/site-packages/statsmodels/regression/linear_model.py:1918: RuntimeWarning: divide by zero encountered in double_scalars\n",
      "  return np.sqrt(eigvals[0]/eigvals[-1])\n",
      "/Library/Frameworks/Python.framework/Versions/3.8/lib/python3.8/site-packages/statsmodels/regression/linear_model.py:1918: RuntimeWarning: divide by zero encountered in double_scalars\n",
      "  return np.sqrt(eigvals[0]/eigvals[-1])\n",
      "/Library/Frameworks/Python.framework/Versions/3.8/lib/python3.8/site-packages/statsmodels/regression/linear_model.py:1918: RuntimeWarning: divide by zero encountered in double_scalars\n",
      "  return np.sqrt(eigvals[0]/eigvals[-1])\n",
      "/Library/Frameworks/Python.framework/Versions/3.8/lib/python3.8/site-packages/statsmodels/regression/linear_model.py:1918: RuntimeWarning: divide by zero encountered in double_scalars\n",
      "  return np.sqrt(eigvals[0]/eigvals[-1])\n",
      "/Library/Frameworks/Python.framework/Versions/3.8/lib/python3.8/site-packages/statsmodels/regression/linear_model.py:1918: RuntimeWarning: divide by zero encountered in double_scalars\n",
      "  return np.sqrt(eigvals[0]/eigvals[-1])\n",
      "/Library/Frameworks/Python.framework/Versions/3.8/lib/python3.8/site-packages/statsmodels/regression/linear_model.py:1918: RuntimeWarning: divide by zero encountered in double_scalars\n",
      "  return np.sqrt(eigvals[0]/eigvals[-1])\n",
      "/Library/Frameworks/Python.framework/Versions/3.8/lib/python3.8/site-packages/statsmodels/regression/linear_model.py:1918: RuntimeWarning: divide by zero encountered in double_scalars\n",
      "  return np.sqrt(eigvals[0]/eigvals[-1])\n",
      "/Library/Frameworks/Python.framework/Versions/3.8/lib/python3.8/site-packages/statsmodels/regression/linear_model.py:1918: RuntimeWarning: divide by zero encountered in double_scalars\n",
      "  return np.sqrt(eigvals[0]/eigvals[-1])\n",
      "/Library/Frameworks/Python.framework/Versions/3.8/lib/python3.8/site-packages/statsmodels/regression/linear_model.py:1918: RuntimeWarning: divide by zero encountered in double_scalars\n",
      "  return np.sqrt(eigvals[0]/eigvals[-1])\n",
      "/Library/Frameworks/Python.framework/Versions/3.8/lib/python3.8/site-packages/statsmodels/regression/linear_model.py:1918: RuntimeWarning: divide by zero encountered in double_scalars\n",
      "  return np.sqrt(eigvals[0]/eigvals[-1])\n",
      "/Library/Frameworks/Python.framework/Versions/3.8/lib/python3.8/site-packages/statsmodels/regression/linear_model.py:1918: RuntimeWarning: divide by zero encountered in double_scalars\n",
      "  return np.sqrt(eigvals[0]/eigvals[-1])\n",
      "/Library/Frameworks/Python.framework/Versions/3.8/lib/python3.8/site-packages/statsmodels/regression/linear_model.py:1918: RuntimeWarning: divide by zero encountered in double_scalars\n",
      "  return np.sqrt(eigvals[0]/eigvals[-1])\n",
      "/Library/Frameworks/Python.framework/Versions/3.8/lib/python3.8/site-packages/statsmodels/regression/linear_model.py:1918: RuntimeWarning: divide by zero encountered in double_scalars\n",
      "  return np.sqrt(eigvals[0]/eigvals[-1])\n",
      "/Library/Frameworks/Python.framework/Versions/3.8/lib/python3.8/site-packages/statsmodels/regression/linear_model.py:1918: RuntimeWarning: divide by zero encountered in double_scalars\n",
      "  return np.sqrt(eigvals[0]/eigvals[-1])\n",
      "/Library/Frameworks/Python.framework/Versions/3.8/lib/python3.8/site-packages/statsmodels/regression/linear_model.py:1918: RuntimeWarning: divide by zero encountered in double_scalars\n",
      "  return np.sqrt(eigvals[0]/eigvals[-1])\n",
      "/Library/Frameworks/Python.framework/Versions/3.8/lib/python3.8/site-packages/statsmodels/regression/linear_model.py:1918: RuntimeWarning: divide by zero encountered in double_scalars\n",
      "  return np.sqrt(eigvals[0]/eigvals[-1])\n",
      "/Library/Frameworks/Python.framework/Versions/3.8/lib/python3.8/site-packages/statsmodels/regression/linear_model.py:1918: RuntimeWarning: divide by zero encountered in double_scalars\n",
      "  return np.sqrt(eigvals[0]/eigvals[-1])\n",
      "/Library/Frameworks/Python.framework/Versions/3.8/lib/python3.8/site-packages/statsmodels/regression/linear_model.py:1918: RuntimeWarning: divide by zero encountered in double_scalars\n",
      "  return np.sqrt(eigvals[0]/eigvals[-1])\n",
      "/Library/Frameworks/Python.framework/Versions/3.8/lib/python3.8/site-packages/statsmodels/regression/linear_model.py:1918: RuntimeWarning: divide by zero encountered in double_scalars\n",
      "  return np.sqrt(eigvals[0]/eigvals[-1])\n",
      "/Library/Frameworks/Python.framework/Versions/3.8/lib/python3.8/site-packages/statsmodels/regression/linear_model.py:1918: RuntimeWarning: divide by zero encountered in double_scalars\n",
      "  return np.sqrt(eigvals[0]/eigvals[-1])\n",
      "/Library/Frameworks/Python.framework/Versions/3.8/lib/python3.8/site-packages/statsmodels/regression/linear_model.py:1918: RuntimeWarning: divide by zero encountered in double_scalars\n",
      "  return np.sqrt(eigvals[0]/eigvals[-1])\n",
      "/Library/Frameworks/Python.framework/Versions/3.8/lib/python3.8/site-packages/statsmodels/regression/linear_model.py:1918: RuntimeWarning: divide by zero encountered in double_scalars\n",
      "  return np.sqrt(eigvals[0]/eigvals[-1])\n",
      "/Library/Frameworks/Python.framework/Versions/3.8/lib/python3.8/site-packages/statsmodels/regression/linear_model.py:1918: RuntimeWarning: divide by zero encountered in double_scalars\n",
      "  return np.sqrt(eigvals[0]/eigvals[-1])\n",
      "/Library/Frameworks/Python.framework/Versions/3.8/lib/python3.8/site-packages/statsmodels/regression/linear_model.py:1918: RuntimeWarning: divide by zero encountered in double_scalars\n",
      "  return np.sqrt(eigvals[0]/eigvals[-1])\n",
      "/Library/Frameworks/Python.framework/Versions/3.8/lib/python3.8/site-packages/statsmodels/regression/linear_model.py:1918: RuntimeWarning: divide by zero encountered in double_scalars\n",
      "  return np.sqrt(eigvals[0]/eigvals[-1])\n",
      "/Library/Frameworks/Python.framework/Versions/3.8/lib/python3.8/site-packages/statsmodels/regression/linear_model.py:1918: RuntimeWarning: divide by zero encountered in double_scalars\n",
      "  return np.sqrt(eigvals[0]/eigvals[-1])\n",
      "/Library/Frameworks/Python.framework/Versions/3.8/lib/python3.8/site-packages/statsmodels/regression/linear_model.py:1918: RuntimeWarning: divide by zero encountered in double_scalars\n",
      "  return np.sqrt(eigvals[0]/eigvals[-1])\n",
      "/Library/Frameworks/Python.framework/Versions/3.8/lib/python3.8/site-packages/statsmodels/regression/linear_model.py:1918: RuntimeWarning: divide by zero encountered in double_scalars\n",
      "  return np.sqrt(eigvals[0]/eigvals[-1])\n",
      "/Library/Frameworks/Python.framework/Versions/3.8/lib/python3.8/site-packages/statsmodels/regression/linear_model.py:1918: RuntimeWarning: divide by zero encountered in double_scalars\n",
      "  return np.sqrt(eigvals[0]/eigvals[-1])\n",
      "/Library/Frameworks/Python.framework/Versions/3.8/lib/python3.8/site-packages/statsmodels/regression/linear_model.py:1918: RuntimeWarning: divide by zero encountered in double_scalars\n",
      "  return np.sqrt(eigvals[0]/eigvals[-1])\n",
      "/Library/Frameworks/Python.framework/Versions/3.8/lib/python3.8/site-packages/statsmodels/regression/linear_model.py:1918: RuntimeWarning: divide by zero encountered in double_scalars\n",
      "  return np.sqrt(eigvals[0]/eigvals[-1])\n",
      "/Library/Frameworks/Python.framework/Versions/3.8/lib/python3.8/site-packages/statsmodels/regression/linear_model.py:1918: RuntimeWarning: divide by zero encountered in double_scalars\n",
      "  return np.sqrt(eigvals[0]/eigvals[-1])\n",
      "/Library/Frameworks/Python.framework/Versions/3.8/lib/python3.8/site-packages/statsmodels/regression/linear_model.py:1918: RuntimeWarning: divide by zero encountered in double_scalars\n",
      "  return np.sqrt(eigvals[0]/eigvals[-1])\n",
      "/Library/Frameworks/Python.framework/Versions/3.8/lib/python3.8/site-packages/statsmodels/regression/linear_model.py:1918: RuntimeWarning: divide by zero encountered in double_scalars\n",
      "  return np.sqrt(eigvals[0]/eigvals[-1])\n",
      "/Library/Frameworks/Python.framework/Versions/3.8/lib/python3.8/site-packages/statsmodels/regression/linear_model.py:1918: RuntimeWarning: divide by zero encountered in double_scalars\n",
      "  return np.sqrt(eigvals[0]/eigvals[-1])\n",
      "/Library/Frameworks/Python.framework/Versions/3.8/lib/python3.8/site-packages/statsmodels/regression/linear_model.py:1918: RuntimeWarning: divide by zero encountered in double_scalars\n",
      "  return np.sqrt(eigvals[0]/eigvals[-1])\n",
      "/Library/Frameworks/Python.framework/Versions/3.8/lib/python3.8/site-packages/statsmodels/regression/linear_model.py:1918: RuntimeWarning: divide by zero encountered in double_scalars\n",
      "  return np.sqrt(eigvals[0]/eigvals[-1])\n",
      "/Library/Frameworks/Python.framework/Versions/3.8/lib/python3.8/site-packages/statsmodels/regression/linear_model.py:1918: RuntimeWarning: divide by zero encountered in double_scalars\n",
      "  return np.sqrt(eigvals[0]/eigvals[-1])\n",
      "/Library/Frameworks/Python.framework/Versions/3.8/lib/python3.8/site-packages/statsmodels/regression/linear_model.py:1918: RuntimeWarning: divide by zero encountered in double_scalars\n",
      "  return np.sqrt(eigvals[0]/eigvals[-1])\n",
      "/Library/Frameworks/Python.framework/Versions/3.8/lib/python3.8/site-packages/statsmodels/regression/linear_model.py:1918: RuntimeWarning: divide by zero encountered in double_scalars\n",
      "  return np.sqrt(eigvals[0]/eigvals[-1])\n",
      "/Library/Frameworks/Python.framework/Versions/3.8/lib/python3.8/site-packages/statsmodels/regression/linear_model.py:1918: RuntimeWarning: divide by zero encountered in double_scalars\n",
      "  return np.sqrt(eigvals[0]/eigvals[-1])\n",
      "/Library/Frameworks/Python.framework/Versions/3.8/lib/python3.8/site-packages/statsmodels/regression/linear_model.py:1918: RuntimeWarning: divide by zero encountered in double_scalars\n",
      "  return np.sqrt(eigvals[0]/eigvals[-1])\n",
      "/Library/Frameworks/Python.framework/Versions/3.8/lib/python3.8/site-packages/statsmodels/regression/linear_model.py:1918: RuntimeWarning: divide by zero encountered in double_scalars\n",
      "  return np.sqrt(eigvals[0]/eigvals[-1])\n",
      "/Library/Frameworks/Python.framework/Versions/3.8/lib/python3.8/site-packages/statsmodels/regression/linear_model.py:1918: RuntimeWarning: divide by zero encountered in double_scalars\n",
      "  return np.sqrt(eigvals[0]/eigvals[-1])\n",
      "/Library/Frameworks/Python.framework/Versions/3.8/lib/python3.8/site-packages/statsmodels/regression/linear_model.py:1918: RuntimeWarning: divide by zero encountered in double_scalars\n",
      "  return np.sqrt(eigvals[0]/eigvals[-1])\n",
      "/Library/Frameworks/Python.framework/Versions/3.8/lib/python3.8/site-packages/statsmodels/regression/linear_model.py:1918: RuntimeWarning: divide by zero encountered in double_scalars\n",
      "  return np.sqrt(eigvals[0]/eigvals[-1])\n",
      "/Library/Frameworks/Python.framework/Versions/3.8/lib/python3.8/site-packages/statsmodels/regression/linear_model.py:1918: RuntimeWarning: divide by zero encountered in double_scalars\n",
      "  return np.sqrt(eigvals[0]/eigvals[-1])\n",
      "/Library/Frameworks/Python.framework/Versions/3.8/lib/python3.8/site-packages/statsmodels/regression/linear_model.py:1918: RuntimeWarning: divide by zero encountered in double_scalars\n",
      "  return np.sqrt(eigvals[0]/eigvals[-1])\n",
      "/Library/Frameworks/Python.framework/Versions/3.8/lib/python3.8/site-packages/statsmodels/regression/linear_model.py:1918: RuntimeWarning: divide by zero encountered in double_scalars\n",
      "  return np.sqrt(eigvals[0]/eigvals[-1])\n",
      "/Library/Frameworks/Python.framework/Versions/3.8/lib/python3.8/site-packages/statsmodels/regression/linear_model.py:1918: RuntimeWarning: divide by zero encountered in double_scalars\n",
      "  return np.sqrt(eigvals[0]/eigvals[-1])\n",
      "/Library/Frameworks/Python.framework/Versions/3.8/lib/python3.8/site-packages/statsmodels/regression/linear_model.py:1918: RuntimeWarning: divide by zero encountered in double_scalars\n",
      "  return np.sqrt(eigvals[0]/eigvals[-1])\n",
      "/Library/Frameworks/Python.framework/Versions/3.8/lib/python3.8/site-packages/statsmodels/regression/linear_model.py:1918: RuntimeWarning: divide by zero encountered in double_scalars\n",
      "  return np.sqrt(eigvals[0]/eigvals[-1])\n",
      "/Library/Frameworks/Python.framework/Versions/3.8/lib/python3.8/site-packages/statsmodels/regression/linear_model.py:1918: RuntimeWarning: divide by zero encountered in double_scalars\n",
      "  return np.sqrt(eigvals[0]/eigvals[-1])\n",
      "/Library/Frameworks/Python.framework/Versions/3.8/lib/python3.8/site-packages/statsmodels/regression/linear_model.py:1918: RuntimeWarning: divide by zero encountered in double_scalars\n",
      "  return np.sqrt(eigvals[0]/eigvals[-1])\n",
      "/Library/Frameworks/Python.framework/Versions/3.8/lib/python3.8/site-packages/statsmodels/regression/linear_model.py:1918: RuntimeWarning: divide by zero encountered in double_scalars\n",
      "  return np.sqrt(eigvals[0]/eigvals[-1])\n",
      "/Library/Frameworks/Python.framework/Versions/3.8/lib/python3.8/site-packages/statsmodels/regression/linear_model.py:1918: RuntimeWarning: divide by zero encountered in double_scalars\n",
      "  return np.sqrt(eigvals[0]/eigvals[-1])\n",
      "/Library/Frameworks/Python.framework/Versions/3.8/lib/python3.8/site-packages/statsmodels/regression/linear_model.py:1918: RuntimeWarning: divide by zero encountered in double_scalars\n",
      "  return np.sqrt(eigvals[0]/eigvals[-1])\n",
      "/Library/Frameworks/Python.framework/Versions/3.8/lib/python3.8/site-packages/statsmodels/regression/linear_model.py:1918: RuntimeWarning: divide by zero encountered in double_scalars\n",
      "  return np.sqrt(eigvals[0]/eigvals[-1])\n",
      "/Library/Frameworks/Python.framework/Versions/3.8/lib/python3.8/site-packages/statsmodels/regression/linear_model.py:1918: RuntimeWarning: divide by zero encountered in double_scalars\n",
      "  return np.sqrt(eigvals[0]/eigvals[-1])\n",
      "/Library/Frameworks/Python.framework/Versions/3.8/lib/python3.8/site-packages/statsmodels/regression/linear_model.py:1918: RuntimeWarning: divide by zero encountered in double_scalars\n",
      "  return np.sqrt(eigvals[0]/eigvals[-1])\n",
      "/Library/Frameworks/Python.framework/Versions/3.8/lib/python3.8/site-packages/statsmodels/regression/linear_model.py:1918: RuntimeWarning: divide by zero encountered in double_scalars\n",
      "  return np.sqrt(eigvals[0]/eigvals[-1])\n",
      "/Library/Frameworks/Python.framework/Versions/3.8/lib/python3.8/site-packages/statsmodels/regression/linear_model.py:1918: RuntimeWarning: divide by zero encountered in double_scalars\n",
      "  return np.sqrt(eigvals[0]/eigvals[-1])\n",
      "/Library/Frameworks/Python.framework/Versions/3.8/lib/python3.8/site-packages/statsmodels/regression/linear_model.py:1918: RuntimeWarning: divide by zero encountered in double_scalars\n",
      "  return np.sqrt(eigvals[0]/eigvals[-1])\n",
      "/Library/Frameworks/Python.framework/Versions/3.8/lib/python3.8/site-packages/statsmodels/regression/linear_model.py:1918: RuntimeWarning: divide by zero encountered in double_scalars\n",
      "  return np.sqrt(eigvals[0]/eigvals[-1])\n",
      "/Library/Frameworks/Python.framework/Versions/3.8/lib/python3.8/site-packages/statsmodels/regression/linear_model.py:1918: RuntimeWarning: divide by zero encountered in double_scalars\n",
      "  return np.sqrt(eigvals[0]/eigvals[-1])\n",
      "/Library/Frameworks/Python.framework/Versions/3.8/lib/python3.8/site-packages/statsmodels/regression/linear_model.py:1918: RuntimeWarning: divide by zero encountered in double_scalars\n",
      "  return np.sqrt(eigvals[0]/eigvals[-1])\n",
      "/Library/Frameworks/Python.framework/Versions/3.8/lib/python3.8/site-packages/statsmodels/regression/linear_model.py:1918: RuntimeWarning: divide by zero encountered in double_scalars\n",
      "  return np.sqrt(eigvals[0]/eigvals[-1])\n",
      "/Library/Frameworks/Python.framework/Versions/3.8/lib/python3.8/site-packages/statsmodels/regression/linear_model.py:1918: RuntimeWarning: divide by zero encountered in double_scalars\n",
      "  return np.sqrt(eigvals[0]/eigvals[-1])\n",
      "/Library/Frameworks/Python.framework/Versions/3.8/lib/python3.8/site-packages/statsmodels/regression/linear_model.py:1918: RuntimeWarning: divide by zero encountered in double_scalars\n",
      "  return np.sqrt(eigvals[0]/eigvals[-1])\n",
      "/Library/Frameworks/Python.framework/Versions/3.8/lib/python3.8/site-packages/statsmodels/regression/linear_model.py:1918: RuntimeWarning: divide by zero encountered in double_scalars\n",
      "  return np.sqrt(eigvals[0]/eigvals[-1])\n",
      "/Library/Frameworks/Python.framework/Versions/3.8/lib/python3.8/site-packages/statsmodels/regression/linear_model.py:1918: RuntimeWarning: divide by zero encountered in double_scalars\n",
      "  return np.sqrt(eigvals[0]/eigvals[-1])\n",
      "/Library/Frameworks/Python.framework/Versions/3.8/lib/python3.8/site-packages/statsmodels/regression/linear_model.py:1918: RuntimeWarning: divide by zero encountered in double_scalars\n",
      "  return np.sqrt(eigvals[0]/eigvals[-1])\n",
      "/Library/Frameworks/Python.framework/Versions/3.8/lib/python3.8/site-packages/statsmodels/regression/linear_model.py:1918: RuntimeWarning: divide by zero encountered in double_scalars\n",
      "  return np.sqrt(eigvals[0]/eigvals[-1])\n",
      "/Library/Frameworks/Python.framework/Versions/3.8/lib/python3.8/site-packages/statsmodels/regression/linear_model.py:1918: RuntimeWarning: divide by zero encountered in double_scalars\n",
      "  return np.sqrt(eigvals[0]/eigvals[-1])\n",
      "/Library/Frameworks/Python.framework/Versions/3.8/lib/python3.8/site-packages/statsmodels/regression/linear_model.py:1918: RuntimeWarning: divide by zero encountered in double_scalars\n",
      "  return np.sqrt(eigvals[0]/eigvals[-1])\n",
      "/Library/Frameworks/Python.framework/Versions/3.8/lib/python3.8/site-packages/statsmodels/regression/linear_model.py:1918: RuntimeWarning: divide by zero encountered in double_scalars\n",
      "  return np.sqrt(eigvals[0]/eigvals[-1])\n",
      "/Library/Frameworks/Python.framework/Versions/3.8/lib/python3.8/site-packages/statsmodels/regression/linear_model.py:1918: RuntimeWarning: divide by zero encountered in double_scalars\n",
      "  return np.sqrt(eigvals[0]/eigvals[-1])\n",
      "/Library/Frameworks/Python.framework/Versions/3.8/lib/python3.8/site-packages/statsmodels/regression/linear_model.py:1918: RuntimeWarning: divide by zero encountered in double_scalars\n",
      "  return np.sqrt(eigvals[0]/eigvals[-1])\n",
      "/Library/Frameworks/Python.framework/Versions/3.8/lib/python3.8/site-packages/statsmodels/regression/linear_model.py:1918: RuntimeWarning: divide by zero encountered in double_scalars\n",
      "  return np.sqrt(eigvals[0]/eigvals[-1])\n",
      "/Library/Frameworks/Python.framework/Versions/3.8/lib/python3.8/site-packages/statsmodels/regression/linear_model.py:1918: RuntimeWarning: divide by zero encountered in double_scalars\n",
      "  return np.sqrt(eigvals[0]/eigvals[-1])\n",
      "/Library/Frameworks/Python.framework/Versions/3.8/lib/python3.8/site-packages/statsmodels/regression/linear_model.py:1918: RuntimeWarning: divide by zero encountered in double_scalars\n",
      "  return np.sqrt(eigvals[0]/eigvals[-1])\n",
      "/Library/Frameworks/Python.framework/Versions/3.8/lib/python3.8/site-packages/statsmodels/regression/linear_model.py:1918: RuntimeWarning: divide by zero encountered in double_scalars\n",
      "  return np.sqrt(eigvals[0]/eigvals[-1])\n",
      "/Library/Frameworks/Python.framework/Versions/3.8/lib/python3.8/site-packages/statsmodels/regression/linear_model.py:1918: RuntimeWarning: divide by zero encountered in double_scalars\n",
      "  return np.sqrt(eigvals[0]/eigvals[-1])\n",
      "/Library/Frameworks/Python.framework/Versions/3.8/lib/python3.8/site-packages/statsmodels/regression/linear_model.py:1918: RuntimeWarning: divide by zero encountered in double_scalars\n",
      "  return np.sqrt(eigvals[0]/eigvals[-1])\n",
      "/Library/Frameworks/Python.framework/Versions/3.8/lib/python3.8/site-packages/statsmodels/regression/linear_model.py:1918: RuntimeWarning: divide by zero encountered in double_scalars\n",
      "  return np.sqrt(eigvals[0]/eigvals[-1])\n",
      "/Library/Frameworks/Python.framework/Versions/3.8/lib/python3.8/site-packages/statsmodels/regression/linear_model.py:1918: RuntimeWarning: divide by zero encountered in double_scalars\n",
      "  return np.sqrt(eigvals[0]/eigvals[-1])\n",
      "/Library/Frameworks/Python.framework/Versions/3.8/lib/python3.8/site-packages/statsmodels/regression/linear_model.py:1918: RuntimeWarning: divide by zero encountered in double_scalars\n",
      "  return np.sqrt(eigvals[0]/eigvals[-1])\n",
      "/Library/Frameworks/Python.framework/Versions/3.8/lib/python3.8/site-packages/statsmodels/regression/linear_model.py:1918: RuntimeWarning: divide by zero encountered in double_scalars\n",
      "  return np.sqrt(eigvals[0]/eigvals[-1])\n",
      "/Library/Frameworks/Python.framework/Versions/3.8/lib/python3.8/site-packages/statsmodels/regression/linear_model.py:1918: RuntimeWarning: divide by zero encountered in double_scalars\n",
      "  return np.sqrt(eigvals[0]/eigvals[-1])\n",
      "/Library/Frameworks/Python.framework/Versions/3.8/lib/python3.8/site-packages/statsmodels/regression/linear_model.py:1918: RuntimeWarning: divide by zero encountered in double_scalars\n",
      "  return np.sqrt(eigvals[0]/eigvals[-1])\n",
      "/Library/Frameworks/Python.framework/Versions/3.8/lib/python3.8/site-packages/statsmodels/regression/linear_model.py:1918: RuntimeWarning: divide by zero encountered in double_scalars\n",
      "  return np.sqrt(eigvals[0]/eigvals[-1])\n",
      "/Library/Frameworks/Python.framework/Versions/3.8/lib/python3.8/site-packages/statsmodels/regression/linear_model.py:1918: RuntimeWarning: divide by zero encountered in double_scalars\n",
      "  return np.sqrt(eigvals[0]/eigvals[-1])\n",
      "/Library/Frameworks/Python.framework/Versions/3.8/lib/python3.8/site-packages/statsmodels/regression/linear_model.py:1918: RuntimeWarning: divide by zero encountered in double_scalars\n",
      "  return np.sqrt(eigvals[0]/eigvals[-1])\n",
      "/Library/Frameworks/Python.framework/Versions/3.8/lib/python3.8/site-packages/statsmodels/regression/linear_model.py:1918: RuntimeWarning: divide by zero encountered in double_scalars\n",
      "  return np.sqrt(eigvals[0]/eigvals[-1])\n",
      "/Library/Frameworks/Python.framework/Versions/3.8/lib/python3.8/site-packages/statsmodels/regression/linear_model.py:1918: RuntimeWarning: divide by zero encountered in double_scalars\n",
      "  return np.sqrt(eigvals[0]/eigvals[-1])\n",
      "/Library/Frameworks/Python.framework/Versions/3.8/lib/python3.8/site-packages/statsmodels/regression/linear_model.py:1918: RuntimeWarning: divide by zero encountered in double_scalars\n",
      "  return np.sqrt(eigvals[0]/eigvals[-1])\n",
      "/Library/Frameworks/Python.framework/Versions/3.8/lib/python3.8/site-packages/statsmodels/regression/linear_model.py:1918: RuntimeWarning: divide by zero encountered in double_scalars\n",
      "  return np.sqrt(eigvals[0]/eigvals[-1])\n",
      "/Library/Frameworks/Python.framework/Versions/3.8/lib/python3.8/site-packages/statsmodels/regression/linear_model.py:1918: RuntimeWarning: divide by zero encountered in double_scalars\n",
      "  return np.sqrt(eigvals[0]/eigvals[-1])\n",
      "/Library/Frameworks/Python.framework/Versions/3.8/lib/python3.8/site-packages/statsmodels/regression/linear_model.py:1918: RuntimeWarning: divide by zero encountered in double_scalars\n",
      "  return np.sqrt(eigvals[0]/eigvals[-1])\n",
      "/Library/Frameworks/Python.framework/Versions/3.8/lib/python3.8/site-packages/statsmodels/regression/linear_model.py:1918: RuntimeWarning: divide by zero encountered in double_scalars\n",
      "  return np.sqrt(eigvals[0]/eigvals[-1])\n",
      "/Library/Frameworks/Python.framework/Versions/3.8/lib/python3.8/site-packages/statsmodels/regression/linear_model.py:1918: RuntimeWarning: divide by zero encountered in double_scalars\n",
      "  return np.sqrt(eigvals[0]/eigvals[-1])\n",
      "/Library/Frameworks/Python.framework/Versions/3.8/lib/python3.8/site-packages/statsmodels/regression/linear_model.py:1918: RuntimeWarning: divide by zero encountered in double_scalars\n",
      "  return np.sqrt(eigvals[0]/eigvals[-1])\n",
      "/Library/Frameworks/Python.framework/Versions/3.8/lib/python3.8/site-packages/statsmodels/regression/linear_model.py:1918: RuntimeWarning: divide by zero encountered in double_scalars\n",
      "  return np.sqrt(eigvals[0]/eigvals[-1])\n",
      "/Library/Frameworks/Python.framework/Versions/3.8/lib/python3.8/site-packages/statsmodels/regression/linear_model.py:1918: RuntimeWarning: divide by zero encountered in double_scalars\n",
      "  return np.sqrt(eigvals[0]/eigvals[-1])\n",
      "/Library/Frameworks/Python.framework/Versions/3.8/lib/python3.8/site-packages/statsmodels/regression/linear_model.py:1918: RuntimeWarning: divide by zero encountered in double_scalars\n",
      "  return np.sqrt(eigvals[0]/eigvals[-1])\n",
      "/Library/Frameworks/Python.framework/Versions/3.8/lib/python3.8/site-packages/statsmodels/regression/linear_model.py:1918: RuntimeWarning: divide by zero encountered in double_scalars\n",
      "  return np.sqrt(eigvals[0]/eigvals[-1])\n",
      "/Library/Frameworks/Python.framework/Versions/3.8/lib/python3.8/site-packages/statsmodels/regression/linear_model.py:1918: RuntimeWarning: divide by zero encountered in double_scalars\n",
      "  return np.sqrt(eigvals[0]/eigvals[-1])\n",
      "/Library/Frameworks/Python.framework/Versions/3.8/lib/python3.8/site-packages/statsmodels/regression/linear_model.py:1918: RuntimeWarning: divide by zero encountered in double_scalars\n",
      "  return np.sqrt(eigvals[0]/eigvals[-1])\n",
      "/Library/Frameworks/Python.framework/Versions/3.8/lib/python3.8/site-packages/statsmodels/regression/linear_model.py:1918: RuntimeWarning: divide by zero encountered in double_scalars\n",
      "  return np.sqrt(eigvals[0]/eigvals[-1])\n",
      "/Library/Frameworks/Python.framework/Versions/3.8/lib/python3.8/site-packages/statsmodels/regression/linear_model.py:1918: RuntimeWarning: divide by zero encountered in double_scalars\n",
      "  return np.sqrt(eigvals[0]/eigvals[-1])\n",
      "/Library/Frameworks/Python.framework/Versions/3.8/lib/python3.8/site-packages/statsmodels/regression/linear_model.py:1918: RuntimeWarning: divide by zero encountered in double_scalars\n",
      "  return np.sqrt(eigvals[0]/eigvals[-1])\n",
      "/Library/Frameworks/Python.framework/Versions/3.8/lib/python3.8/site-packages/statsmodels/regression/linear_model.py:1918: RuntimeWarning: divide by zero encountered in double_scalars\n",
      "  return np.sqrt(eigvals[0]/eigvals[-1])\n",
      "/Library/Frameworks/Python.framework/Versions/3.8/lib/python3.8/site-packages/statsmodels/regression/linear_model.py:1918: RuntimeWarning: divide by zero encountered in double_scalars\n",
      "  return np.sqrt(eigvals[0]/eigvals[-1])\n",
      "/Library/Frameworks/Python.framework/Versions/3.8/lib/python3.8/site-packages/statsmodels/regression/linear_model.py:1918: RuntimeWarning: divide by zero encountered in double_scalars\n",
      "  return np.sqrt(eigvals[0]/eigvals[-1])\n",
      "/Library/Frameworks/Python.framework/Versions/3.8/lib/python3.8/site-packages/statsmodels/regression/linear_model.py:1918: RuntimeWarning: divide by zero encountered in double_scalars\n",
      "  return np.sqrt(eigvals[0]/eigvals[-1])\n",
      "/Library/Frameworks/Python.framework/Versions/3.8/lib/python3.8/site-packages/statsmodels/regression/linear_model.py:1918: RuntimeWarning: divide by zero encountered in double_scalars\n",
      "  return np.sqrt(eigvals[0]/eigvals[-1])\n",
      "/Library/Frameworks/Python.framework/Versions/3.8/lib/python3.8/site-packages/statsmodels/regression/linear_model.py:1918: RuntimeWarning: divide by zero encountered in double_scalars\n",
      "  return np.sqrt(eigvals[0]/eigvals[-1])\n",
      "/Library/Frameworks/Python.framework/Versions/3.8/lib/python3.8/site-packages/statsmodels/regression/linear_model.py:1918: RuntimeWarning: divide by zero encountered in double_scalars\n",
      "  return np.sqrt(eigvals[0]/eigvals[-1])\n",
      "/Library/Frameworks/Python.framework/Versions/3.8/lib/python3.8/site-packages/statsmodels/regression/linear_model.py:1918: RuntimeWarning: divide by zero encountered in double_scalars\n",
      "  return np.sqrt(eigvals[0]/eigvals[-1])\n",
      "/Library/Frameworks/Python.framework/Versions/3.8/lib/python3.8/site-packages/statsmodels/regression/linear_model.py:1918: RuntimeWarning: divide by zero encountered in double_scalars\n",
      "  return np.sqrt(eigvals[0]/eigvals[-1])\n",
      "/Library/Frameworks/Python.framework/Versions/3.8/lib/python3.8/site-packages/statsmodels/regression/linear_model.py:1918: RuntimeWarning: divide by zero encountered in double_scalars\n",
      "  return np.sqrt(eigvals[0]/eigvals[-1])\n",
      "/Library/Frameworks/Python.framework/Versions/3.8/lib/python3.8/site-packages/statsmodels/regression/linear_model.py:1918: RuntimeWarning: divide by zero encountered in double_scalars\n",
      "  return np.sqrt(eigvals[0]/eigvals[-1])\n",
      "/Library/Frameworks/Python.framework/Versions/3.8/lib/python3.8/site-packages/statsmodels/regression/linear_model.py:1918: RuntimeWarning: divide by zero encountered in double_scalars\n",
      "  return np.sqrt(eigvals[0]/eigvals[-1])\n",
      "/Library/Frameworks/Python.framework/Versions/3.8/lib/python3.8/site-packages/statsmodels/regression/linear_model.py:1918: RuntimeWarning: divide by zero encountered in double_scalars\n",
      "  return np.sqrt(eigvals[0]/eigvals[-1])\n",
      "/Library/Frameworks/Python.framework/Versions/3.8/lib/python3.8/site-packages/statsmodels/regression/linear_model.py:1918: RuntimeWarning: divide by zero encountered in double_scalars\n",
      "  return np.sqrt(eigvals[0]/eigvals[-1])\n",
      "/Library/Frameworks/Python.framework/Versions/3.8/lib/python3.8/site-packages/statsmodels/regression/linear_model.py:1918: RuntimeWarning: divide by zero encountered in double_scalars\n",
      "  return np.sqrt(eigvals[0]/eigvals[-1])\n",
      "/Library/Frameworks/Python.framework/Versions/3.8/lib/python3.8/site-packages/statsmodels/regression/linear_model.py:1918: RuntimeWarning: divide by zero encountered in double_scalars\n",
      "  return np.sqrt(eigvals[0]/eigvals[-1])\n",
      "/Library/Frameworks/Python.framework/Versions/3.8/lib/python3.8/site-packages/statsmodels/regression/linear_model.py:1918: RuntimeWarning: divide by zero encountered in double_scalars\n",
      "  return np.sqrt(eigvals[0]/eigvals[-1])\n",
      "/Library/Frameworks/Python.framework/Versions/3.8/lib/python3.8/site-packages/statsmodels/regression/linear_model.py:1918: RuntimeWarning: divide by zero encountered in double_scalars\n",
      "  return np.sqrt(eigvals[0]/eigvals[-1])\n",
      "/Library/Frameworks/Python.framework/Versions/3.8/lib/python3.8/site-packages/statsmodels/regression/linear_model.py:1918: RuntimeWarning: divide by zero encountered in double_scalars\n",
      "  return np.sqrt(eigvals[0]/eigvals[-1])\n",
      "/Library/Frameworks/Python.framework/Versions/3.8/lib/python3.8/site-packages/statsmodels/regression/linear_model.py:1918: RuntimeWarning: divide by zero encountered in double_scalars\n",
      "  return np.sqrt(eigvals[0]/eigvals[-1])\n",
      "/Library/Frameworks/Python.framework/Versions/3.8/lib/python3.8/site-packages/statsmodels/regression/linear_model.py:1918: RuntimeWarning: divide by zero encountered in double_scalars\n",
      "  return np.sqrt(eigvals[0]/eigvals[-1])\n",
      "/Library/Frameworks/Python.framework/Versions/3.8/lib/python3.8/site-packages/statsmodels/regression/linear_model.py:1918: RuntimeWarning: divide by zero encountered in double_scalars\n",
      "  return np.sqrt(eigvals[0]/eigvals[-1])\n",
      "/Library/Frameworks/Python.framework/Versions/3.8/lib/python3.8/site-packages/statsmodels/regression/linear_model.py:1918: RuntimeWarning: divide by zero encountered in double_scalars\n",
      "  return np.sqrt(eigvals[0]/eigvals[-1])\n",
      "/Library/Frameworks/Python.framework/Versions/3.8/lib/python3.8/site-packages/statsmodels/regression/linear_model.py:1918: RuntimeWarning: divide by zero encountered in double_scalars\n",
      "  return np.sqrt(eigvals[0]/eigvals[-1])\n",
      "/Library/Frameworks/Python.framework/Versions/3.8/lib/python3.8/site-packages/statsmodels/regression/linear_model.py:1918: RuntimeWarning: divide by zero encountered in double_scalars\n",
      "  return np.sqrt(eigvals[0]/eigvals[-1])\n",
      "/Library/Frameworks/Python.framework/Versions/3.8/lib/python3.8/site-packages/statsmodels/regression/linear_model.py:1918: RuntimeWarning: divide by zero encountered in double_scalars\n",
      "  return np.sqrt(eigvals[0]/eigvals[-1])\n",
      "/Library/Frameworks/Python.framework/Versions/3.8/lib/python3.8/site-packages/statsmodels/regression/linear_model.py:1918: RuntimeWarning: divide by zero encountered in double_scalars\n",
      "  return np.sqrt(eigvals[0]/eigvals[-1])\n",
      "/Library/Frameworks/Python.framework/Versions/3.8/lib/python3.8/site-packages/statsmodels/regression/linear_model.py:1918: RuntimeWarning: divide by zero encountered in double_scalars\n",
      "  return np.sqrt(eigvals[0]/eigvals[-1])\n",
      "/Library/Frameworks/Python.framework/Versions/3.8/lib/python3.8/site-packages/statsmodels/regression/linear_model.py:1918: RuntimeWarning: divide by zero encountered in double_scalars\n",
      "  return np.sqrt(eigvals[0]/eigvals[-1])\n",
      "/Library/Frameworks/Python.framework/Versions/3.8/lib/python3.8/site-packages/statsmodels/regression/linear_model.py:1918: RuntimeWarning: divide by zero encountered in double_scalars\n",
      "  return np.sqrt(eigvals[0]/eigvals[-1])\n",
      "/Library/Frameworks/Python.framework/Versions/3.8/lib/python3.8/site-packages/statsmodels/regression/linear_model.py:1918: RuntimeWarning: divide by zero encountered in double_scalars\n",
      "  return np.sqrt(eigvals[0]/eigvals[-1])\n",
      "/Library/Frameworks/Python.framework/Versions/3.8/lib/python3.8/site-packages/statsmodels/regression/linear_model.py:1918: RuntimeWarning: divide by zero encountered in double_scalars\n",
      "  return np.sqrt(eigvals[0]/eigvals[-1])\n",
      "/Library/Frameworks/Python.framework/Versions/3.8/lib/python3.8/site-packages/statsmodels/regression/linear_model.py:1918: RuntimeWarning: divide by zero encountered in double_scalars\n",
      "  return np.sqrt(eigvals[0]/eigvals[-1])\n",
      "/Library/Frameworks/Python.framework/Versions/3.8/lib/python3.8/site-packages/statsmodels/regression/linear_model.py:1918: RuntimeWarning: divide by zero encountered in double_scalars\n",
      "  return np.sqrt(eigvals[0]/eigvals[-1])\n",
      "/Library/Frameworks/Python.framework/Versions/3.8/lib/python3.8/site-packages/statsmodels/regression/linear_model.py:1918: RuntimeWarning: divide by zero encountered in double_scalars\n",
      "  return np.sqrt(eigvals[0]/eigvals[-1])\n",
      "/Library/Frameworks/Python.framework/Versions/3.8/lib/python3.8/site-packages/statsmodels/regression/linear_model.py:1918: RuntimeWarning: divide by zero encountered in double_scalars\n",
      "  return np.sqrt(eigvals[0]/eigvals[-1])\n",
      "/Library/Frameworks/Python.framework/Versions/3.8/lib/python3.8/site-packages/statsmodels/regression/linear_model.py:1918: RuntimeWarning: divide by zero encountered in double_scalars\n",
      "  return np.sqrt(eigvals[0]/eigvals[-1])\n",
      "/Library/Frameworks/Python.framework/Versions/3.8/lib/python3.8/site-packages/statsmodels/regression/linear_model.py:1918: RuntimeWarning: divide by zero encountered in double_scalars\n",
      "  return np.sqrt(eigvals[0]/eigvals[-1])\n",
      "/Library/Frameworks/Python.framework/Versions/3.8/lib/python3.8/site-packages/statsmodels/regression/linear_model.py:1918: RuntimeWarning: divide by zero encountered in double_scalars\n",
      "  return np.sqrt(eigvals[0]/eigvals[-1])\n",
      "/Library/Frameworks/Python.framework/Versions/3.8/lib/python3.8/site-packages/statsmodels/regression/linear_model.py:1918: RuntimeWarning: divide by zero encountered in double_scalars\n",
      "  return np.sqrt(eigvals[0]/eigvals[-1])\n",
      "/Library/Frameworks/Python.framework/Versions/3.8/lib/python3.8/site-packages/statsmodels/regression/linear_model.py:1918: RuntimeWarning: divide by zero encountered in double_scalars\n",
      "  return np.sqrt(eigvals[0]/eigvals[-1])\n",
      "/Library/Frameworks/Python.framework/Versions/3.8/lib/python3.8/site-packages/statsmodels/regression/linear_model.py:1918: RuntimeWarning: divide by zero encountered in double_scalars\n",
      "  return np.sqrt(eigvals[0]/eigvals[-1])\n",
      "/Library/Frameworks/Python.framework/Versions/3.8/lib/python3.8/site-packages/statsmodels/regression/linear_model.py:1918: RuntimeWarning: divide by zero encountered in double_scalars\n",
      "  return np.sqrt(eigvals[0]/eigvals[-1])\n",
      "/Library/Frameworks/Python.framework/Versions/3.8/lib/python3.8/site-packages/statsmodels/regression/linear_model.py:1918: RuntimeWarning: divide by zero encountered in double_scalars\n",
      "  return np.sqrt(eigvals[0]/eigvals[-1])\n",
      "/Library/Frameworks/Python.framework/Versions/3.8/lib/python3.8/site-packages/statsmodels/regression/linear_model.py:1918: RuntimeWarning: divide by zero encountered in double_scalars\n",
      "  return np.sqrt(eigvals[0]/eigvals[-1])\n",
      "/Library/Frameworks/Python.framework/Versions/3.8/lib/python3.8/site-packages/statsmodels/regression/linear_model.py:1918: RuntimeWarning: divide by zero encountered in double_scalars\n",
      "  return np.sqrt(eigvals[0]/eigvals[-1])\n",
      "/Library/Frameworks/Python.framework/Versions/3.8/lib/python3.8/site-packages/statsmodels/regression/linear_model.py:1918: RuntimeWarning: divide by zero encountered in double_scalars\n",
      "  return np.sqrt(eigvals[0]/eigvals[-1])\n",
      "/Library/Frameworks/Python.framework/Versions/3.8/lib/python3.8/site-packages/statsmodels/regression/linear_model.py:1918: RuntimeWarning: divide by zero encountered in double_scalars\n",
      "  return np.sqrt(eigvals[0]/eigvals[-1])\n",
      "/Library/Frameworks/Python.framework/Versions/3.8/lib/python3.8/site-packages/statsmodels/regression/linear_model.py:1918: RuntimeWarning: divide by zero encountered in double_scalars\n",
      "  return np.sqrt(eigvals[0]/eigvals[-1])\n",
      "/Library/Frameworks/Python.framework/Versions/3.8/lib/python3.8/site-packages/statsmodels/regression/linear_model.py:1918: RuntimeWarning: divide by zero encountered in double_scalars\n",
      "  return np.sqrt(eigvals[0]/eigvals[-1])\n",
      "/Library/Frameworks/Python.framework/Versions/3.8/lib/python3.8/site-packages/statsmodels/regression/linear_model.py:1918: RuntimeWarning: divide by zero encountered in double_scalars\n",
      "  return np.sqrt(eigvals[0]/eigvals[-1])\n",
      "/Library/Frameworks/Python.framework/Versions/3.8/lib/python3.8/site-packages/statsmodels/regression/linear_model.py:1918: RuntimeWarning: divide by zero encountered in double_scalars\n",
      "  return np.sqrt(eigvals[0]/eigvals[-1])\n",
      "/Library/Frameworks/Python.framework/Versions/3.8/lib/python3.8/site-packages/statsmodels/regression/linear_model.py:1918: RuntimeWarning: divide by zero encountered in double_scalars\n",
      "  return np.sqrt(eigvals[0]/eigvals[-1])\n",
      "/Library/Frameworks/Python.framework/Versions/3.8/lib/python3.8/site-packages/statsmodels/regression/linear_model.py:1918: RuntimeWarning: divide by zero encountered in double_scalars\n",
      "  return np.sqrt(eigvals[0]/eigvals[-1])\n",
      "/Library/Frameworks/Python.framework/Versions/3.8/lib/python3.8/site-packages/statsmodels/regression/linear_model.py:1918: RuntimeWarning: divide by zero encountered in double_scalars\n",
      "  return np.sqrt(eigvals[0]/eigvals[-1])\n",
      "/Library/Frameworks/Python.framework/Versions/3.8/lib/python3.8/site-packages/statsmodels/regression/linear_model.py:1918: RuntimeWarning: divide by zero encountered in double_scalars\n",
      "  return np.sqrt(eigvals[0]/eigvals[-1])\n",
      "/Library/Frameworks/Python.framework/Versions/3.8/lib/python3.8/site-packages/statsmodels/regression/linear_model.py:1918: RuntimeWarning: divide by zero encountered in double_scalars\n",
      "  return np.sqrt(eigvals[0]/eigvals[-1])\n",
      "/Library/Frameworks/Python.framework/Versions/3.8/lib/python3.8/site-packages/statsmodels/regression/linear_model.py:1918: RuntimeWarning: divide by zero encountered in double_scalars\n",
      "  return np.sqrt(eigvals[0]/eigvals[-1])\n",
      "/Library/Frameworks/Python.framework/Versions/3.8/lib/python3.8/site-packages/statsmodels/regression/linear_model.py:1918: RuntimeWarning: divide by zero encountered in double_scalars\n",
      "  return np.sqrt(eigvals[0]/eigvals[-1])\n",
      "/Library/Frameworks/Python.framework/Versions/3.8/lib/python3.8/site-packages/statsmodels/regression/linear_model.py:1918: RuntimeWarning: divide by zero encountered in double_scalars\n",
      "  return np.sqrt(eigvals[0]/eigvals[-1])\n",
      "/Library/Frameworks/Python.framework/Versions/3.8/lib/python3.8/site-packages/statsmodels/regression/linear_model.py:1918: RuntimeWarning: divide by zero encountered in double_scalars\n",
      "  return np.sqrt(eigvals[0]/eigvals[-1])\n",
      "/Library/Frameworks/Python.framework/Versions/3.8/lib/python3.8/site-packages/statsmodels/regression/linear_model.py:1918: RuntimeWarning: divide by zero encountered in double_scalars\n",
      "  return np.sqrt(eigvals[0]/eigvals[-1])\n",
      "/Library/Frameworks/Python.framework/Versions/3.8/lib/python3.8/site-packages/statsmodels/regression/linear_model.py:1918: RuntimeWarning: divide by zero encountered in double_scalars\n",
      "  return np.sqrt(eigvals[0]/eigvals[-1])\n",
      "/Library/Frameworks/Python.framework/Versions/3.8/lib/python3.8/site-packages/statsmodels/regression/linear_model.py:1918: RuntimeWarning: divide by zero encountered in double_scalars\n",
      "  return np.sqrt(eigvals[0]/eigvals[-1])\n",
      "/Library/Frameworks/Python.framework/Versions/3.8/lib/python3.8/site-packages/statsmodels/regression/linear_model.py:1918: RuntimeWarning: divide by zero encountered in double_scalars\n",
      "  return np.sqrt(eigvals[0]/eigvals[-1])\n",
      "/Library/Frameworks/Python.framework/Versions/3.8/lib/python3.8/site-packages/statsmodels/regression/linear_model.py:1918: RuntimeWarning: divide by zero encountered in double_scalars\n",
      "  return np.sqrt(eigvals[0]/eigvals[-1])\n",
      "/Library/Frameworks/Python.framework/Versions/3.8/lib/python3.8/site-packages/statsmodels/regression/linear_model.py:1918: RuntimeWarning: divide by zero encountered in double_scalars\n",
      "  return np.sqrt(eigvals[0]/eigvals[-1])\n",
      "/Library/Frameworks/Python.framework/Versions/3.8/lib/python3.8/site-packages/statsmodels/regression/linear_model.py:1918: RuntimeWarning: divide by zero encountered in double_scalars\n",
      "  return np.sqrt(eigvals[0]/eigvals[-1])\n",
      "/Library/Frameworks/Python.framework/Versions/3.8/lib/python3.8/site-packages/statsmodels/regression/linear_model.py:1918: RuntimeWarning: divide by zero encountered in double_scalars\n",
      "  return np.sqrt(eigvals[0]/eigvals[-1])\n",
      "/Library/Frameworks/Python.framework/Versions/3.8/lib/python3.8/site-packages/statsmodels/regression/linear_model.py:1918: RuntimeWarning: divide by zero encountered in double_scalars\n",
      "  return np.sqrt(eigvals[0]/eigvals[-1])\n",
      "/Library/Frameworks/Python.framework/Versions/3.8/lib/python3.8/site-packages/statsmodels/regression/linear_model.py:1918: RuntimeWarning: divide by zero encountered in double_scalars\n",
      "  return np.sqrt(eigvals[0]/eigvals[-1])\n",
      "/Library/Frameworks/Python.framework/Versions/3.8/lib/python3.8/site-packages/statsmodels/regression/linear_model.py:1918: RuntimeWarning: divide by zero encountered in double_scalars\n",
      "  return np.sqrt(eigvals[0]/eigvals[-1])\n",
      "/Library/Frameworks/Python.framework/Versions/3.8/lib/python3.8/site-packages/statsmodels/regression/linear_model.py:1918: RuntimeWarning: divide by zero encountered in double_scalars\n",
      "  return np.sqrt(eigvals[0]/eigvals[-1])\n",
      "/Library/Frameworks/Python.framework/Versions/3.8/lib/python3.8/site-packages/statsmodels/regression/linear_model.py:1918: RuntimeWarning: divide by zero encountered in double_scalars\n",
      "  return np.sqrt(eigvals[0]/eigvals[-1])\n",
      "/Library/Frameworks/Python.framework/Versions/3.8/lib/python3.8/site-packages/statsmodels/regression/linear_model.py:1918: RuntimeWarning: divide by zero encountered in double_scalars\n",
      "  return np.sqrt(eigvals[0]/eigvals[-1])\n",
      "/Library/Frameworks/Python.framework/Versions/3.8/lib/python3.8/site-packages/statsmodels/regression/linear_model.py:1918: RuntimeWarning: divide by zero encountered in double_scalars\n",
      "  return np.sqrt(eigvals[0]/eigvals[-1])\n",
      "/Library/Frameworks/Python.framework/Versions/3.8/lib/python3.8/site-packages/statsmodels/regression/linear_model.py:1918: RuntimeWarning: divide by zero encountered in double_scalars\n",
      "  return np.sqrt(eigvals[0]/eigvals[-1])\n",
      "/Library/Frameworks/Python.framework/Versions/3.8/lib/python3.8/site-packages/statsmodels/regression/linear_model.py:1918: RuntimeWarning: divide by zero encountered in double_scalars\n",
      "  return np.sqrt(eigvals[0]/eigvals[-1])\n",
      "/Library/Frameworks/Python.framework/Versions/3.8/lib/python3.8/site-packages/statsmodels/regression/linear_model.py:1918: RuntimeWarning: divide by zero encountered in double_scalars\n",
      "  return np.sqrt(eigvals[0]/eigvals[-1])\n",
      "/Library/Frameworks/Python.framework/Versions/3.8/lib/python3.8/site-packages/statsmodels/regression/linear_model.py:1918: RuntimeWarning: divide by zero encountered in double_scalars\n",
      "  return np.sqrt(eigvals[0]/eigvals[-1])\n",
      "/Library/Frameworks/Python.framework/Versions/3.8/lib/python3.8/site-packages/statsmodels/regression/linear_model.py:1918: RuntimeWarning: divide by zero encountered in double_scalars\n",
      "  return np.sqrt(eigvals[0]/eigvals[-1])\n",
      "/Library/Frameworks/Python.framework/Versions/3.8/lib/python3.8/site-packages/statsmodels/regression/linear_model.py:1918: RuntimeWarning: divide by zero encountered in double_scalars\n",
      "  return np.sqrt(eigvals[0]/eigvals[-1])\n",
      "/Library/Frameworks/Python.framework/Versions/3.8/lib/python3.8/site-packages/statsmodels/regression/linear_model.py:1918: RuntimeWarning: divide by zero encountered in double_scalars\n",
      "  return np.sqrt(eigvals[0]/eigvals[-1])\n",
      "/Library/Frameworks/Python.framework/Versions/3.8/lib/python3.8/site-packages/statsmodels/regression/linear_model.py:1918: RuntimeWarning: divide by zero encountered in double_scalars\n",
      "  return np.sqrt(eigvals[0]/eigvals[-1])\n",
      "/Library/Frameworks/Python.framework/Versions/3.8/lib/python3.8/site-packages/statsmodels/regression/linear_model.py:1918: RuntimeWarning: divide by zero encountered in double_scalars\n",
      "  return np.sqrt(eigvals[0]/eigvals[-1])\n",
      "/Library/Frameworks/Python.framework/Versions/3.8/lib/python3.8/site-packages/statsmodels/regression/linear_model.py:1918: RuntimeWarning: divide by zero encountered in double_scalars\n",
      "  return np.sqrt(eigvals[0]/eigvals[-1])\n",
      "/Library/Frameworks/Python.framework/Versions/3.8/lib/python3.8/site-packages/statsmodels/regression/linear_model.py:1918: RuntimeWarning: divide by zero encountered in double_scalars\n",
      "  return np.sqrt(eigvals[0]/eigvals[-1])\n",
      "/Library/Frameworks/Python.framework/Versions/3.8/lib/python3.8/site-packages/statsmodels/regression/linear_model.py:1918: RuntimeWarning: divide by zero encountered in double_scalars\n",
      "  return np.sqrt(eigvals[0]/eigvals[-1])\n",
      "/Library/Frameworks/Python.framework/Versions/3.8/lib/python3.8/site-packages/statsmodels/regression/linear_model.py:1918: RuntimeWarning: divide by zero encountered in double_scalars\n",
      "  return np.sqrt(eigvals[0]/eigvals[-1])\n",
      "/Library/Frameworks/Python.framework/Versions/3.8/lib/python3.8/site-packages/statsmodels/regression/linear_model.py:1918: RuntimeWarning: divide by zero encountered in double_scalars\n",
      "  return np.sqrt(eigvals[0]/eigvals[-1])\n",
      "/Library/Frameworks/Python.framework/Versions/3.8/lib/python3.8/site-packages/statsmodels/regression/linear_model.py:1918: RuntimeWarning: divide by zero encountered in double_scalars\n",
      "  return np.sqrt(eigvals[0]/eigvals[-1])\n",
      "/Library/Frameworks/Python.framework/Versions/3.8/lib/python3.8/site-packages/statsmodels/regression/linear_model.py:1918: RuntimeWarning: divide by zero encountered in double_scalars\n",
      "  return np.sqrt(eigvals[0]/eigvals[-1])\n",
      "/Library/Frameworks/Python.framework/Versions/3.8/lib/python3.8/site-packages/statsmodels/regression/linear_model.py:1918: RuntimeWarning: divide by zero encountered in double_scalars\n",
      "  return np.sqrt(eigvals[0]/eigvals[-1])\n",
      "/Library/Frameworks/Python.framework/Versions/3.8/lib/python3.8/site-packages/statsmodels/regression/linear_model.py:1918: RuntimeWarning: divide by zero encountered in double_scalars\n",
      "  return np.sqrt(eigvals[0]/eigvals[-1])\n",
      "/Library/Frameworks/Python.framework/Versions/3.8/lib/python3.8/site-packages/statsmodels/regression/linear_model.py:1918: RuntimeWarning: divide by zero encountered in double_scalars\n",
      "  return np.sqrt(eigvals[0]/eigvals[-1])\n",
      "/Library/Frameworks/Python.framework/Versions/3.8/lib/python3.8/site-packages/statsmodels/regression/linear_model.py:1918: RuntimeWarning: divide by zero encountered in double_scalars\n",
      "  return np.sqrt(eigvals[0]/eigvals[-1])\n",
      "/Library/Frameworks/Python.framework/Versions/3.8/lib/python3.8/site-packages/statsmodels/regression/linear_model.py:1918: RuntimeWarning: divide by zero encountered in double_scalars\n",
      "  return np.sqrt(eigvals[0]/eigvals[-1])\n",
      "/Library/Frameworks/Python.framework/Versions/3.8/lib/python3.8/site-packages/statsmodels/regression/linear_model.py:1918: RuntimeWarning: divide by zero encountered in double_scalars\n",
      "  return np.sqrt(eigvals[0]/eigvals[-1])\n",
      "/Library/Frameworks/Python.framework/Versions/3.8/lib/python3.8/site-packages/statsmodels/regression/linear_model.py:1918: RuntimeWarning: divide by zero encountered in double_scalars\n",
      "  return np.sqrt(eigvals[0]/eigvals[-1])\n",
      "/Library/Frameworks/Python.framework/Versions/3.8/lib/python3.8/site-packages/statsmodels/regression/linear_model.py:1918: RuntimeWarning: divide by zero encountered in double_scalars\n",
      "  return np.sqrt(eigvals[0]/eigvals[-1])\n",
      "/Library/Frameworks/Python.framework/Versions/3.8/lib/python3.8/site-packages/statsmodels/regression/linear_model.py:1918: RuntimeWarning: divide by zero encountered in double_scalars\n",
      "  return np.sqrt(eigvals[0]/eigvals[-1])\n",
      "/Library/Frameworks/Python.framework/Versions/3.8/lib/python3.8/site-packages/statsmodels/regression/linear_model.py:1918: RuntimeWarning: divide by zero encountered in double_scalars\n",
      "  return np.sqrt(eigvals[0]/eigvals[-1])\n",
      "/Library/Frameworks/Python.framework/Versions/3.8/lib/python3.8/site-packages/statsmodels/regression/linear_model.py:1918: RuntimeWarning: divide by zero encountered in double_scalars\n",
      "  return np.sqrt(eigvals[0]/eigvals[-1])\n",
      "/Library/Frameworks/Python.framework/Versions/3.8/lib/python3.8/site-packages/statsmodels/regression/linear_model.py:1918: RuntimeWarning: divide by zero encountered in double_scalars\n",
      "  return np.sqrt(eigvals[0]/eigvals[-1])\n",
      "/Library/Frameworks/Python.framework/Versions/3.8/lib/python3.8/site-packages/statsmodels/regression/linear_model.py:1918: RuntimeWarning: divide by zero encountered in double_scalars\n",
      "  return np.sqrt(eigvals[0]/eigvals[-1])\n",
      "/Library/Frameworks/Python.framework/Versions/3.8/lib/python3.8/site-packages/statsmodels/regression/linear_model.py:1918: RuntimeWarning: divide by zero encountered in double_scalars\n",
      "  return np.sqrt(eigvals[0]/eigvals[-1])\n",
      "/Library/Frameworks/Python.framework/Versions/3.8/lib/python3.8/site-packages/statsmodels/regression/linear_model.py:1918: RuntimeWarning: divide by zero encountered in double_scalars\n",
      "  return np.sqrt(eigvals[0]/eigvals[-1])\n",
      "/Library/Frameworks/Python.framework/Versions/3.8/lib/python3.8/site-packages/statsmodels/regression/linear_model.py:1918: RuntimeWarning: divide by zero encountered in double_scalars\n",
      "  return np.sqrt(eigvals[0]/eigvals[-1])\n",
      "/Library/Frameworks/Python.framework/Versions/3.8/lib/python3.8/site-packages/statsmodels/regression/linear_model.py:1918: RuntimeWarning: divide by zero encountered in double_scalars\n",
      "  return np.sqrt(eigvals[0]/eigvals[-1])\n",
      "/Library/Frameworks/Python.framework/Versions/3.8/lib/python3.8/site-packages/statsmodels/regression/linear_model.py:1918: RuntimeWarning: divide by zero encountered in double_scalars\n",
      "  return np.sqrt(eigvals[0]/eigvals[-1])\n",
      "/Library/Frameworks/Python.framework/Versions/3.8/lib/python3.8/site-packages/statsmodels/regression/linear_model.py:1918: RuntimeWarning: divide by zero encountered in double_scalars\n",
      "  return np.sqrt(eigvals[0]/eigvals[-1])\n",
      "/Library/Frameworks/Python.framework/Versions/3.8/lib/python3.8/site-packages/statsmodels/regression/linear_model.py:1918: RuntimeWarning: divide by zero encountered in double_scalars\n",
      "  return np.sqrt(eigvals[0]/eigvals[-1])\n",
      "/Library/Frameworks/Python.framework/Versions/3.8/lib/python3.8/site-packages/statsmodels/regression/linear_model.py:1918: RuntimeWarning: divide by zero encountered in double_scalars\n",
      "  return np.sqrt(eigvals[0]/eigvals[-1])\n",
      "/Library/Frameworks/Python.framework/Versions/3.8/lib/python3.8/site-packages/statsmodels/regression/linear_model.py:1918: RuntimeWarning: divide by zero encountered in double_scalars\n",
      "  return np.sqrt(eigvals[0]/eigvals[-1])\n",
      "/Library/Frameworks/Python.framework/Versions/3.8/lib/python3.8/site-packages/statsmodels/regression/linear_model.py:1918: RuntimeWarning: divide by zero encountered in double_scalars\n",
      "  return np.sqrt(eigvals[0]/eigvals[-1])\n",
      "/Library/Frameworks/Python.framework/Versions/3.8/lib/python3.8/site-packages/statsmodels/regression/linear_model.py:1918: RuntimeWarning: divide by zero encountered in double_scalars\n",
      "  return np.sqrt(eigvals[0]/eigvals[-1])\n",
      "/Library/Frameworks/Python.framework/Versions/3.8/lib/python3.8/site-packages/statsmodels/regression/linear_model.py:1918: RuntimeWarning: divide by zero encountered in double_scalars\n",
      "  return np.sqrt(eigvals[0]/eigvals[-1])\n"
     ]
    }
   ],
   "source": [
    "# All this cell creates a table with R-squared and p-value for each model. Each model with have 8 main effects \n",
    "# (since there are 8 main dummy variables) and some interactions of them. This cell considers all the possible combinations\n",
    "# of interactions. \n",
    "\n",
    "from itertools import chain, combinations\n",
    "\n",
    "def powerset(iterable):\n",
    "    #\"powerset([1,2,3]) --> () (1,) (2,) (3,) (1,2) (1,3) (2,3) (1,2,3)\"\n",
    "    s = list(iterable)\n",
    "    return chain.from_iterable(combinations(s, r) for r in range(len(s)+1))\n",
    "\n",
    "variables = list(Xt.columns)[9:] # 15 interaction variables\n",
    "\n",
    "results = pd.DataFrame(columns = ['Variables', 'R-squared', 'P-value'])\n",
    "\n",
    "for subset in powerset(variables):\n",
    "    if len(subset) == 3: # includes 3 interactions in the model\n",
    "        result = []\n",
    "        new_X = pd.concat([Xt[['const','new_gender_Female','new_race_White','new_major_Biology','new_hometown_City','new_hometown_Suburb','new_hometown_Town','new_gpa_Lower','new_gpa_Medium']],Xt[list(subset)]], axis = 1)\n",
    "        summary = sm.OLS(y, new_X).fit().summary().tables[0]\n",
    "        results_as_html = summary.as_html()\n",
    "        r2 = pd.read_html(results_as_html, header=0)[0].iloc[2].index[-1]\n",
    "        p = pd.read_html(results_as_html, header=0)[0].iloc[2].values[-1]\n",
    "        result.extend([subset,r2,p])\n",
    "        \n",
    "        results.loc[len(results.index)] = result\n"
   ]
  },
  {
   "cell_type": "code",
   "execution_count": 102,
   "metadata": {},
   "outputs": [
    {
     "data": {
      "text/html": [
       "<div>\n",
       "<style scoped>\n",
       "    .dataframe tbody tr th:only-of-type {\n",
       "        vertical-align: middle;\n",
       "    }\n",
       "\n",
       "    .dataframe tbody tr th {\n",
       "        vertical-align: top;\n",
       "    }\n",
       "\n",
       "    .dataframe thead th {\n",
       "        text-align: right;\n",
       "    }\n",
       "</style>\n",
       "<table border=\"1\" class=\"dataframe\">\n",
       "  <thead>\n",
       "    <tr style=\"text-align: right;\">\n",
       "      <th></th>\n",
       "      <th>Variables</th>\n",
       "      <th>R-squared</th>\n",
       "      <th>P-value</th>\n",
       "    </tr>\n",
       "  </thead>\n",
       "  <tbody>\n",
       "    <tr>\n",
       "      <th>0</th>\n",
       "      <td>(x3 x4, x3 x5, x3 x6)</td>\n",
       "      <td>0.063</td>\n",
       "      <td>0.330</td>\n",
       "    </tr>\n",
       "    <tr>\n",
       "      <th>1</th>\n",
       "      <td>(x3 x4, x3 x5, x3 x7)</td>\n",
       "      <td>0.051</td>\n",
       "      <td>0.525</td>\n",
       "    </tr>\n",
       "    <tr>\n",
       "      <th>2</th>\n",
       "      <td>(x3 x4, x3 x5, x3 x8)</td>\n",
       "      <td>0.050</td>\n",
       "      <td>0.550</td>\n",
       "    </tr>\n",
       "    <tr>\n",
       "      <th>3</th>\n",
       "      <td>(x3 x4, x3 x5, x4 x5)</td>\n",
       "      <td>0.048</td>\n",
       "      <td>0.487</td>\n",
       "    </tr>\n",
       "    <tr>\n",
       "      <th>4</th>\n",
       "      <td>(x3 x4, x3 x5, x4 x6)</td>\n",
       "      <td>0.048</td>\n",
       "      <td>0.487</td>\n",
       "    </tr>\n",
       "    <tr>\n",
       "      <th>...</th>\n",
       "      <td>...</td>\n",
       "      <td>...</td>\n",
       "      <td>...</td>\n",
       "    </tr>\n",
       "    <tr>\n",
       "      <th>450</th>\n",
       "      <td>(x5 x7, x6 x8, x7 x8)</td>\n",
       "      <td>0.042</td>\n",
       "      <td>0.607</td>\n",
       "    </tr>\n",
       "    <tr>\n",
       "      <th>451</th>\n",
       "      <td>(x5 x8, x6 x7, x6 x8)</td>\n",
       "      <td>0.046</td>\n",
       "      <td>0.626</td>\n",
       "    </tr>\n",
       "    <tr>\n",
       "      <th>452</th>\n",
       "      <td>(x5 x8, x6 x7, x7 x8)</td>\n",
       "      <td>0.046</td>\n",
       "      <td>0.537</td>\n",
       "    </tr>\n",
       "    <tr>\n",
       "      <th>453</th>\n",
       "      <td>(x5 x8, x6 x8, x7 x8)</td>\n",
       "      <td>0.043</td>\n",
       "      <td>0.592</td>\n",
       "    </tr>\n",
       "    <tr>\n",
       "      <th>454</th>\n",
       "      <td>(x6 x7, x6 x8, x7 x8)</td>\n",
       "      <td>0.044</td>\n",
       "      <td>0.579</td>\n",
       "    </tr>\n",
       "  </tbody>\n",
       "</table>\n",
       "<p>455 rows × 3 columns</p>\n",
       "</div>"
      ],
      "text/plain": [
       "                 Variables R-squared  P-value\n",
       "0    (x3 x4, x3 x5, x3 x6)     0.063    0.330\n",
       "1    (x3 x4, x3 x5, x3 x7)     0.051    0.525\n",
       "2    (x3 x4, x3 x5, x3 x8)     0.050    0.550\n",
       "3    (x3 x4, x3 x5, x4 x5)     0.048    0.487\n",
       "4    (x3 x4, x3 x5, x4 x6)     0.048    0.487\n",
       "..                     ...       ...      ...\n",
       "450  (x5 x7, x6 x8, x7 x8)     0.042    0.607\n",
       "451  (x5 x8, x6 x7, x6 x8)     0.046    0.626\n",
       "452  (x5 x8, x6 x7, x7 x8)     0.046    0.537\n",
       "453  (x5 x8, x6 x8, x7 x8)     0.043    0.592\n",
       "454  (x6 x7, x6 x8, x7 x8)     0.044    0.579\n",
       "\n",
       "[455 rows x 3 columns]"
      ]
     },
     "execution_count": 102,
     "metadata": {},
     "output_type": "execute_result"
    }
   ],
   "source": [
    "results # Variables column shows the interaction terms that have been considered in the model"
   ]
  },
  {
   "cell_type": "code",
   "execution_count": 103,
   "metadata": {},
   "outputs": [
    {
     "data": {
      "text/plain": [
       "'0.073'"
      ]
     },
     "execution_count": 103,
     "metadata": {},
     "output_type": "execute_result"
    }
   ],
   "source": [
    "# Find the max of R-squared\n",
    "results['R-squared'].max()"
   ]
  },
  {
   "cell_type": "code",
   "execution_count": 104,
   "metadata": {},
   "outputs": [
    {
     "data": {
      "text/html": [
       "<div>\n",
       "<style scoped>\n",
       "    .dataframe tbody tr th:only-of-type {\n",
       "        vertical-align: middle;\n",
       "    }\n",
       "\n",
       "    .dataframe tbody tr th {\n",
       "        vertical-align: top;\n",
       "    }\n",
       "\n",
       "    .dataframe thead th {\n",
       "        text-align: right;\n",
       "    }\n",
       "</style>\n",
       "<table border=\"1\" class=\"dataframe\">\n",
       "  <thead>\n",
       "    <tr style=\"text-align: right;\">\n",
       "      <th></th>\n",
       "      <th>Variables</th>\n",
       "      <th>R-squared</th>\n",
       "      <th>P-value</th>\n",
       "    </tr>\n",
       "  </thead>\n",
       "  <tbody>\n",
       "  </tbody>\n",
       "</table>\n",
       "</div>"
      ],
      "text/plain": [
       "Empty DataFrame\n",
       "Columns: [Variables, R-squared, P-value]\n",
       "Index: []"
      ]
     },
     "execution_count": 104,
     "metadata": {},
     "output_type": "execute_result"
    }
   ],
   "source": [
    "# Find the model with p-value < 0.1\n",
    "results[results['P-value']<0.1]"
   ]
  },
  {
   "cell_type": "code",
   "execution_count": 105,
   "metadata": {},
   "outputs": [],
   "source": [
    "# This is the map of the dummy variable naming in Xt dataframe with naming in X dataframe\n",
    "\n",
    "# x1 _> new_gender_Female\n",
    "# x2 _> new_race_Caucasian; White\n",
    "# x3 _> new_major_Biology\n",
    "# x4 _> new_hometown_City\n",
    "# x5 _> new_hometown_Suburb\n",
    "# x6 _> new_hometown_Town\n",
    "# x7 _> new_gpa_Lower\n",
    "# x8 _> new_gpa_Medium"
   ]
  },
  {
   "cell_type": "code",
   "execution_count": 106,
   "metadata": {},
   "outputs": [
    {
     "data": {
      "text/html": [
       "<table class=\"simpletable\">\n",
       "<caption>OLS Regression Results</caption>\n",
       "<tr>\n",
       "  <th>Dep. Variable:</th>      <td>average_diff</td>   <th>  R-squared:         </th> <td>   0.063</td>\n",
       "</tr>\n",
       "<tr>\n",
       "  <th>Model:</th>                   <td>OLS</td>       <th>  Adj. R-squared:    </th> <td>   0.008</td>\n",
       "</tr>\n",
       "<tr>\n",
       "  <th>Method:</th>             <td>Least Squares</td>  <th>  F-statistic:       </th> <td>   1.143</td>\n",
       "</tr>\n",
       "<tr>\n",
       "  <th>Date:</th>             <td>Sat, 03 Dec 2022</td> <th>  Prob (F-statistic):</th>  <td> 0.330</td> \n",
       "</tr>\n",
       "<tr>\n",
       "  <th>Time:</th>                 <td>15:32:56</td>     <th>  Log-Likelihood:    </th> <td> -779.36</td>\n",
       "</tr>\n",
       "<tr>\n",
       "  <th>No. Observations:</th>      <td>   198</td>      <th>  AIC:               </th> <td>   1583.</td>\n",
       "</tr>\n",
       "<tr>\n",
       "  <th>Df Residuals:</th>          <td>   186</td>      <th>  BIC:               </th> <td>   1622.</td>\n",
       "</tr>\n",
       "<tr>\n",
       "  <th>Df Model:</th>              <td>    11</td>      <th>                     </th>     <td> </td>   \n",
       "</tr>\n",
       "<tr>\n",
       "  <th>Covariance Type:</th>      <td>nonrobust</td>    <th>                     </th>     <td> </td>   \n",
       "</tr>\n",
       "</table>\n",
       "<table class=\"simpletable\">\n",
       "<tr>\n",
       "                    <td></td>                       <th>coef</th>     <th>std err</th>      <th>t</th>      <th>P>|t|</th>  <th>[0.025</th>    <th>0.975]</th>  \n",
       "</tr>\n",
       "<tr>\n",
       "  <th>Intercept</th>                             <td>   -4.7198</td> <td>    4.558</td> <td>   -1.035</td> <td> 0.302</td> <td>  -13.712</td> <td>    4.273</td>\n",
       "</tr>\n",
       "<tr>\n",
       "  <th>new_gender_Female</th>                     <td>    3.1197</td> <td>    2.593</td> <td>    1.203</td> <td> 0.230</td> <td>   -1.996</td> <td>    8.235</td>\n",
       "</tr>\n",
       "<tr>\n",
       "  <th>new_race_White</th>                        <td>    0.5827</td> <td>    2.067</td> <td>    0.282</td> <td> 0.778</td> <td>   -3.495</td> <td>    4.660</td>\n",
       "</tr>\n",
       "<tr>\n",
       "  <th>new_major_Biology</th>                     <td>   10.9743</td> <td>    4.504</td> <td>    2.436</td> <td> 0.016</td> <td>    2.088</td> <td>   19.861</td>\n",
       "</tr>\n",
       "<tr>\n",
       "  <th>new_hometown_City</th>                     <td>    6.6429</td> <td>    4.720</td> <td>    1.407</td> <td> 0.161</td> <td>   -2.669</td> <td>   15.955</td>\n",
       "</tr>\n",
       "<tr>\n",
       "  <th>new_hometown_Suburb</th>                   <td>    1.6993</td> <td>    4.407</td> <td>    0.386</td> <td> 0.700</td> <td>   -6.994</td> <td>   10.393</td>\n",
       "</tr>\n",
       "<tr>\n",
       "  <th>new_hometown_Town</th>                     <td>    5.6584</td> <td>    4.230</td> <td>    1.338</td> <td> 0.183</td> <td>   -2.687</td> <td>   14.004</td>\n",
       "</tr>\n",
       "<tr>\n",
       "  <th>new_gpa_Lower</th>                         <td>   -3.1618</td> <td>    2.360</td> <td>   -1.340</td> <td> 0.182</td> <td>   -7.818</td> <td>    1.494</td>\n",
       "</tr>\n",
       "<tr>\n",
       "  <th>new_gpa_Medium</th>                        <td>   -1.2735</td> <td>    2.311</td> <td>   -0.551</td> <td> 0.582</td> <td>   -5.834</td> <td>    3.287</td>\n",
       "</tr>\n",
       "<tr>\n",
       "  <th>new_major_Biology:new_hometown_City</th>   <td>  -10.9465</td> <td>    5.983</td> <td>   -1.830</td> <td> 0.069</td> <td>  -22.750</td> <td>    0.857</td>\n",
       "</tr>\n",
       "<tr>\n",
       "  <th>new_major_Biology:new_hometown_Suburb</th> <td>   -4.2117</td> <td>    5.896</td> <td>   -0.714</td> <td> 0.476</td> <td>  -15.843</td> <td>    7.419</td>\n",
       "</tr>\n",
       "<tr>\n",
       "  <th>new_major_Biology:new_hometown_Town</th>   <td>   -9.6881</td> <td>    5.644</td> <td>   -1.717</td> <td> 0.088</td> <td>  -20.822</td> <td>    1.446</td>\n",
       "</tr>\n",
       "</table>\n",
       "<table class=\"simpletable\">\n",
       "<tr>\n",
       "  <th>Omnibus:</th>       <td>36.822</td> <th>  Durbin-Watson:     </th> <td>   1.930</td>\n",
       "</tr>\n",
       "<tr>\n",
       "  <th>Prob(Omnibus):</th> <td> 0.000</td> <th>  Jarque-Bera (JB):  </th> <td>  74.535</td>\n",
       "</tr>\n",
       "<tr>\n",
       "  <th>Skew:</th>          <td>-0.887</td> <th>  Prob(JB):          </th> <td>6.53e-17</td>\n",
       "</tr>\n",
       "<tr>\n",
       "  <th>Kurtosis:</th>      <td> 5.427</td> <th>  Cond. No.          </th> <td>    22.7</td>\n",
       "</tr>\n",
       "</table><br/><br/>Notes:<br/>[1] Standard Errors assume that the covariance matrix of the errors is correctly specified."
      ],
      "text/plain": [
       "<class 'statsmodels.iolib.summary.Summary'>\n",
       "\"\"\"\n",
       "                            OLS Regression Results                            \n",
       "==============================================================================\n",
       "Dep. Variable:           average_diff   R-squared:                       0.063\n",
       "Model:                            OLS   Adj. R-squared:                  0.008\n",
       "Method:                 Least Squares   F-statistic:                     1.143\n",
       "Date:                Sat, 03 Dec 2022   Prob (F-statistic):              0.330\n",
       "Time:                        15:32:56   Log-Likelihood:                -779.36\n",
       "No. Observations:                 198   AIC:                             1583.\n",
       "Df Residuals:                     186   BIC:                             1622.\n",
       "Df Model:                          11                                         \n",
       "Covariance Type:            nonrobust                                         \n",
       "=========================================================================================================\n",
       "                                            coef    std err          t      P>|t|      [0.025      0.975]\n",
       "---------------------------------------------------------------------------------------------------------\n",
       "Intercept                                -4.7198      4.558     -1.035      0.302     -13.712       4.273\n",
       "new_gender_Female                         3.1197      2.593      1.203      0.230      -1.996       8.235\n",
       "new_race_White                            0.5827      2.067      0.282      0.778      -3.495       4.660\n",
       "new_major_Biology                        10.9743      4.504      2.436      0.016       2.088      19.861\n",
       "new_hometown_City                         6.6429      4.720      1.407      0.161      -2.669      15.955\n",
       "new_hometown_Suburb                       1.6993      4.407      0.386      0.700      -6.994      10.393\n",
       "new_hometown_Town                         5.6584      4.230      1.338      0.183      -2.687      14.004\n",
       "new_gpa_Lower                            -3.1618      2.360     -1.340      0.182      -7.818       1.494\n",
       "new_gpa_Medium                           -1.2735      2.311     -0.551      0.582      -5.834       3.287\n",
       "new_major_Biology:new_hometown_City     -10.9465      5.983     -1.830      0.069     -22.750       0.857\n",
       "new_major_Biology:new_hometown_Suburb    -4.2117      5.896     -0.714      0.476     -15.843       7.419\n",
       "new_major_Biology:new_hometown_Town      -9.6881      5.644     -1.717      0.088     -20.822       1.446\n",
       "==============================================================================\n",
       "Omnibus:                       36.822   Durbin-Watson:                   1.930\n",
       "Prob(Omnibus):                  0.000   Jarque-Bera (JB):               74.535\n",
       "Skew:                          -0.887   Prob(JB):                     6.53e-17\n",
       "Kurtosis:                       5.427   Cond. No.                         22.7\n",
       "==============================================================================\n",
       "\n",
       "Notes:\n",
       "[1] Standard Errors assume that the covariance matrix of the errors is correctly specified.\n",
       "\"\"\""
      ]
     },
     "execution_count": 106,
     "metadata": {},
     "output_type": "execute_result"
    }
   ],
   "source": [
    "# From the \"results\" table above, if you find a significant model, then plug the interaction terms of that model in the \n",
    "# formula below based on the map above.\n",
    "\n",
    "model = ols('average_diff ~  new_gender_Female + new_race_White + new_major_Biology + new_hometown_City + new_hometown_Suburb + new_hometown_Town + new_gpa_Lower + new_gpa_Medium+ new_major_Biology:new_hometown_City + new_major_Biology:new_hometown_Suburb + new_major_Biology:new_hometown_Town', data=df).fit()\n",
    "model.summary()"
   ]
  }
 ],
 "metadata": {
  "interpreter": {
   "hash": "400c612f423765788f1de68ad829b2c646518f3404deeec1d95d7e04f2fdd7a1"
  },
  "kernelspec": {
   "display_name": "Python 3 (ipykernel)",
   "language": "python",
   "name": "python3"
  },
  "language_info": {
   "codemirror_mode": {
    "name": "ipython",
    "version": 3
   },
   "file_extension": ".py",
   "mimetype": "text/x-python",
   "name": "python",
   "nbconvert_exporter": "python",
   "pygments_lexer": "ipython3",
   "version": "3.8.0"
  }
 },
 "nbformat": 4,
 "nbformat_minor": 4
}
